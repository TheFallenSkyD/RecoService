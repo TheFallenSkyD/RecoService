{
 "cells": [
  {
   "cell_type": "raw",
   "source": [
    "1. Побейте метрику на лидерборде map@10 = 0.075 c моделью из implicit, lightfm или rectools, в том числе используя ANN (5 баллов)\n",
    "2. Реализуйте эксперименты c моделями из implicit, lightfm или rectools, в том числе используя ANN. Результат - ноутбук(и) (максимум 12 баллов)\n",
    "\n",
    "Что можно сделать в ноутбуке:\n",
    "\n",
    "    Реализовать тюнинг гиперпараметров для моделей из implicit, lightfm или rectools (3 балла)\n",
    "        Для перебора гиперпараметров можно использовать Optuna, Hyperopt\n",
    "    Воспользоваться методом приближенного поиска соседей для выдачи рекомендаций. (3 балла)\n",
    "        Можно использовать любые удобные: Annoy, nmslib и.т.д\n",
    "    Сделать рекомендации для холодных пользователей используя их фичи (для кого нет фичей - там другим способом) (3 балла)\n",
    "    Провести эксперименты с параметрами оффлайн валидации и сделать выводы (3 балла)\n",
    "\n",
    "3. Оберните модель в сервис (максимум 12 баллов)\n",
    "\n",
    "    Онлайн вариант: обучаете модель в ноутбуке, сохраняете обученную модель (pickle, dill), при запуске сервиса ее поднимаете и запрашиваете рекомендации \"на лету\" (12 баллов)\n",
    "    Оффлайн вариант: предварительно посчитайте рекомендации для всех пользователей, сохраните и запрашивайте их (6 баллов)\n"
   ],
   "metadata": {
    "collapsed": false
   },
   "id": "6a2d60cea4b0b77e"
  },
  {
   "cell_type": "code",
   "execution_count": 2,
   "outputs": [
    {
     "name": "stderr",
     "output_type": "stream",
     "text": [
      "C:\\Users\\Happy\\anaconda3\\envs\\hated_ml\\lib\\site-packages\\lightfm\\_lightfm_fast.py:9: UserWarning: LightFM was compiled without OpenMP support. Only a single thread will be used.\n",
      "  warnings.warn(\n"
     ]
    },
    {
     "data": {
      "text/plain": "False"
     },
     "execution_count": 2,
     "metadata": {},
     "output_type": "execute_result"
    }
   ],
   "source": [
    "import typing as tp\n",
    "\n",
    "import dill\n",
    "import implicit\n",
    "import numpy as np\n",
    "import threadpoolctl\n",
    "\n",
    "threadpoolctl.threadpool_limits(1, \"blas\")\n",
    "import optuna\n",
    "import pandas as pd\n",
    "from implicit.als import AlternatingLeastSquares\n",
    "from optuna.samplers import TPESampler\n",
    "from rectools import Columns\n",
    "from rectools.dataset import Dataset\n",
    "from rectools.metrics import MAP\n",
    "from rectools.models import (\n",
    "    ImplicitALSWrapperModel,\n",
    ")\n",
    "\n",
    "optuna.logging.set_verbosity(10)\n",
    "implicit.gpu.HAS_CUDA"
   ],
   "metadata": {
    "collapsed": false,
    "ExecuteTime": {
     "end_time": "2023-12-05T23:26:23.970582Z",
     "start_time": "2023-12-05T23:26:21.176265600Z"
    }
   },
   "id": "9c51c8d04486eb4a"
  },
  {
   "cell_type": "markdown",
   "source": [
    "### Read data"
   ],
   "metadata": {
    "collapsed": false
   },
   "id": "298d4b3c6b1dfa14"
  },
  {
   "cell_type": "code",
   "execution_count": 3,
   "outputs": [],
   "source": [
    "users = pd.read_csv(\"../datasets/users.csv\")\n",
    "items = pd.read_csv(\"../datasets/items.csv\")\n",
    "interactions = pd.read_csv(\"../datasets/interactions.csv\")"
   ],
   "metadata": {
    "collapsed": false,
    "ExecuteTime": {
     "end_time": "2023-12-05T23:26:25.508019700Z",
     "start_time": "2023-12-05T23:26:23.970319300Z"
    }
   },
   "id": "ba13a50a625d2b3c"
  },
  {
   "cell_type": "code",
   "execution_count": 4,
   "outputs": [],
   "source": [
    "Columns.Datetime = 'last_watch_dt'\n",
    "interactions[Columns.Datetime] = pd.to_datetime(interactions[Columns.Datetime], format='%Y-%m-%d')\n",
    "\n",
    "interactions[Columns.Weight] = np.where(interactions['watched_pct'] > 10, 3, 1)"
   ],
   "metadata": {
    "collapsed": false,
    "ExecuteTime": {
     "end_time": "2023-12-05T23:26:25.795835200Z",
     "start_time": "2023-12-05T23:26:25.509195800Z"
    }
   },
   "id": "bbda33a61aea0909"
  },
  {
   "cell_type": "markdown",
   "source": [
    "### Split data"
   ],
   "metadata": {
    "collapsed": false
   },
   "id": "615e9f23dcab41dd"
  },
  {
   "cell_type": "code",
   "execution_count": 5,
   "outputs": [],
   "source": [
    "# train\\split\n",
    "max_date = interactions[Columns.Datetime].max()\n",
    "train = interactions[interactions[Columns.Datetime] < max_date - pd.Timedelta(days=7)].copy()\n",
    "test = interactions[interactions[Columns.Datetime] >= max_date - pd.Timedelta(days=7)].copy()\n",
    "\n",
    "# drop low duration users\n",
    "train.drop(train.query(\"total_dur < 300\").index, inplace=True)\n",
    "\n",
    "# drop cold users\n",
    "cold_users = set(test[Columns.User]) - set(train[Columns.User])\n",
    "test.drop(test[test[Columns.User].isin(cold_users)].index, inplace=True)"
   ],
   "metadata": {
    "collapsed": false,
    "ExecuteTime": {
     "end_time": "2023-12-05T23:26:26.620009400Z",
     "start_time": "2023-12-05T23:26:25.796391300Z"
    }
   },
   "id": "e51538b619ac2172"
  },
  {
   "cell_type": "markdown",
   "source": [
    "### Select features"
   ],
   "metadata": {
    "collapsed": false
   },
   "id": "eb9f03d9d4d7c7bb"
  },
  {
   "cell_type": "code",
   "execution_count": 6,
   "outputs": [],
   "source": [
    "def get_user_features(users: pd.DataFrame, interactions: pd.DataFrame, features: tp.List[str]):\n",
    "    users.fillna(\"Unknown\", inplace=True)\n",
    "    users = users.loc[users[Columns.User].isin(interactions[Columns.User])].copy()\n",
    "    user_features_frames = []\n",
    "    for feature in features:\n",
    "        feature_frame = users.reindex(columns=[Columns.User, feature])\n",
    "        feature_frame.columns = [\"id\", \"value\"]\n",
    "        feature_frame[\"feature\"] = feature\n",
    "        user_features_frames.append(feature_frame)\n",
    "    user_features = pd.concat(user_features_frames)\n",
    "    return user_features"
   ],
   "metadata": {
    "collapsed": false,
    "ExecuteTime": {
     "end_time": "2023-12-05T23:26:26.634010500Z",
     "start_time": "2023-12-05T23:26:26.620329500Z"
    }
   },
   "id": "a2c4a72a72e1601a"
  },
  {
   "cell_type": "code",
   "execution_count": 7,
   "outputs": [],
   "source": [
    "def get_item_features(items: pd.DataFrame, interactions: pd.DataFrame):\n",
    "    items = items.loc[items[Columns.Item].isin(interactions[Columns.Item])].copy()\n",
    "    items[\"genre\"] = items[\"genres\"].str.lower().str.replace(\", \", \",\", regex=False).str.split(\",\")\n",
    "    genre_feature = items[[\"item_id\", \"genre\"]].explode(\"genre\")\n",
    "    genre_feature.columns = [\"id\", \"value\"]\n",
    "    genre_feature[\"feature\"] = \"genre\"\n",
    "    content_feature = items.reindex(columns=[Columns.Item, \"content_type\"])\n",
    "    content_feature.columns = [\"id\", \"value\"]\n",
    "    content_feature[\"feature\"] = \"content_type\"\n",
    "    item_features = pd.concat((genre_feature, content_feature))\n",
    "    return item_features"
   ],
   "metadata": {
    "collapsed": false,
    "ExecuteTime": {
     "end_time": "2023-12-05T23:26:26.664009400Z",
     "start_time": "2023-12-05T23:26:26.635010300Z"
    }
   },
   "id": "7ae706c42a77552d"
  },
  {
   "cell_type": "code",
   "execution_count": 8,
   "outputs": [],
   "source": [
    "user_features = get_user_features(users, train, [\"sex\", \"age\", \"income\"])\n",
    "item_features = get_item_features(items, train)"
   ],
   "metadata": {
    "collapsed": false,
    "ExecuteTime": {
     "end_time": "2023-12-05T23:26:26.827010600Z",
     "start_time": "2023-12-05T23:26:26.651009500Z"
    }
   },
   "id": "cf9a0c27ee0125aa"
  },
  {
   "cell_type": "markdown",
   "source": [
    "### Create dataset"
   ],
   "metadata": {
    "collapsed": false
   },
   "id": "59e4090975579395"
  },
  {
   "cell_type": "code",
   "execution_count": 9,
   "outputs": [],
   "source": [
    "dataset = Dataset.construct(\n",
    "    interactions_df=train,\n",
    "    user_features_df=user_features,\n",
    "    cat_user_features=[\"sex\", \"age\", \"income\"],\n",
    "    item_features_df=item_features,\n",
    "    cat_item_features=[\"genre\", \"content_type\"],\n",
    ")"
   ],
   "metadata": {
    "collapsed": false,
    "ExecuteTime": {
     "end_time": "2023-12-05T23:26:27.281010900Z",
     "start_time": "2023-12-05T23:26:26.827010600Z"
    }
   },
   "id": "8041af1e8a8af8d0"
  },
  {
   "cell_type": "markdown",
   "source": [
    "### Define metric"
   ],
   "metadata": {
    "collapsed": false
   },
   "id": "72f6bf6ebaf8ebc3"
  },
  {
   "cell_type": "code",
   "execution_count": 10,
   "outputs": [],
   "source": [
    "metric = MAP(k=10)"
   ],
   "metadata": {
    "collapsed": false,
    "ExecuteTime": {
     "end_time": "2023-12-05T23:26:27.297009400Z",
     "start_time": "2023-12-05T23:26:27.282010500Z"
    }
   },
   "id": "34a0c61f108b2ac8"
  },
  {
   "cell_type": "code",
   "execution_count": 11,
   "outputs": [],
   "source": [
    "K_RECOS = 10\n",
    "RANDOM_STATE = 228"
   ],
   "metadata": {
    "collapsed": false,
    "ExecuteTime": {
     "end_time": "2023-12-05T23:26:27.316009300Z",
     "start_time": "2023-12-05T23:26:27.297009400Z"
    }
   },
   "id": "6802f62976c53cbc"
  },
  {
   "cell_type": "markdown",
   "source": [
    "# ALS MODEL"
   ],
   "metadata": {
    "collapsed": false
   },
   "id": "627787d5597156e7"
  },
  {
   "cell_type": "code",
   "execution_count": 11,
   "outputs": [],
   "source": [
    "def als_optuna_objective(trial):\n",
    "    test_users = test[Columns.User].unique()\n",
    "    factors = trial.suggest_categorical(\"n_factors\", [8, 16, 32])\n",
    "    fit_features_together = trial.suggest_categorical(\"fit_features_together\", [True, False])\n",
    "    regularization = trial.suggest_float('regularization', 0.001, 0.1, log=True)\n",
    "    iterations = trial.suggest_int('iterations', 5, 20)\n",
    "\n",
    "    model = ImplicitALSWrapperModel(\n",
    "        model=AlternatingLeastSquares(\n",
    "            factors=factors,\n",
    "            random_state=RANDOM_STATE,\n",
    "            regularization=regularization,\n",
    "            iterations=iterations,\n",
    "            num_threads=24,\n",
    "        ),\n",
    "        fit_features_together=fit_features_together,\n",
    "    )\n",
    "\n",
    "    model.fit(dataset)\n",
    "    recos = model.recommend(\n",
    "        users=test_users,\n",
    "        dataset=dataset,\n",
    "        k=K_RECOS,\n",
    "        filter_viewed=True,\n",
    "    )\n",
    "    mtrc = metric.calc_per_user(recos, test)\n",
    "    return mtrc.mean()"
   ],
   "metadata": {
    "collapsed": false,
    "ExecuteTime": {
     "end_time": "2023-12-05T23:19:31.118481500Z",
     "start_time": "2023-12-05T23:19:31.101480400Z"
    }
   },
   "id": "99e3bc8603e11c6c"
  },
  {
   "cell_type": "code",
   "execution_count": 12,
   "outputs": [
    {
     "name": "stderr",
     "output_type": "stream",
     "text": [
      "[I 2023-12-06 02:19:31,116] A new study created in memory with name: no-name-75e09673-f9bf-44e1-b2ce-936e5da30725\n",
      "C:\\Users\\Happy\\anaconda3\\envs\\hated_ml\\lib\\site-packages\\rectools\\dataset\\features.py:399: UserWarning: Converting sparse features to dense array may cause MemoryError\n",
      "  warnings.warn(\"Converting sparse features to dense array may cause MemoryError\")\n"
     ]
    },
    {
     "data": {
      "text/plain": "  0%|          | 0/1 [00:00<?, ?it/s]",
      "application/vnd.jupyter.widget-view+json": {
       "version_major": 2,
       "version_minor": 0,
       "model_id": "a2c9dbfdc25648db8d7d21cd7819b532"
      }
     },
     "metadata": {},
     "output_type": "display_data"
    },
    {
     "data": {
      "text/plain": "  0%|          | 0/1 [00:00<?, ?it/s]",
      "application/vnd.jupyter.widget-view+json": {
       "version_major": 2,
       "version_minor": 0,
       "model_id": "ebc2925c5ed74febafa24d3a912657d9"
      }
     },
     "metadata": {},
     "output_type": "display_data"
    },
    {
     "data": {
      "text/plain": "  0%|          | 0/1 [00:00<?, ?it/s]",
      "application/vnd.jupyter.widget-view+json": {
       "version_major": 2,
       "version_minor": 0,
       "model_id": "1afba25da46d47759ff9f76bcbc0fbde"
      }
     },
     "metadata": {},
     "output_type": "display_data"
    },
    {
     "data": {
      "text/plain": "  0%|          | 0/1 [00:00<?, ?it/s]",
      "application/vnd.jupyter.widget-view+json": {
       "version_major": 2,
       "version_minor": 0,
       "model_id": "1ea183782ed24023a1da718a854043a2"
      }
     },
     "metadata": {},
     "output_type": "display_data"
    },
    {
     "data": {
      "text/plain": "  0%|          | 0/1 [00:00<?, ?it/s]",
      "application/vnd.jupyter.widget-view+json": {
       "version_major": 2,
       "version_minor": 0,
       "model_id": "808547d51ac845aeb358b287688c74a3"
      }
     },
     "metadata": {},
     "output_type": "display_data"
    },
    {
     "data": {
      "text/plain": "  0%|          | 0/1 [00:00<?, ?it/s]",
      "application/vnd.jupyter.widget-view+json": {
       "version_major": 2,
       "version_minor": 0,
       "model_id": "6431bc1cd73a484690baa5cef25c58fa"
      }
     },
     "metadata": {},
     "output_type": "display_data"
    },
    {
     "data": {
      "text/plain": "  0%|          | 0/1 [00:00<?, ?it/s]",
      "application/vnd.jupyter.widget-view+json": {
       "version_major": 2,
       "version_minor": 0,
       "model_id": "b9dcb4cdda5140b7ab452bd6bed94318"
      }
     },
     "metadata": {},
     "output_type": "display_data"
    },
    {
     "data": {
      "text/plain": "  0%|          | 0/1 [00:00<?, ?it/s]",
      "application/vnd.jupyter.widget-view+json": {
       "version_major": 2,
       "version_minor": 0,
       "model_id": "20ea0099403c4f9382a7a78f37e9737a"
      }
     },
     "metadata": {},
     "output_type": "display_data"
    },
    {
     "name": "stderr",
     "output_type": "stream",
     "text": [
      "[I 2023-12-06 02:20:59,631] Trial 7 finished with value: 0.06578866193207403 and parameters: {'n_factors': 8, 'fit_features_together': False, 'regularization': 0.008518897149630939, 'iterations': 8}. Best is trial 7 with value: 0.06578866193207403.\n",
      "[I 2023-12-06 02:20:59,774] Trial 1 finished with value: 0.06230259383072486 and parameters: {'n_factors': 16, 'fit_features_together': False, 'regularization': 0.0012806258247871605, 'iterations': 15}. Best is trial 7 with value: 0.06578866193207403.\n",
      "[I 2023-12-06 02:20:59,844] Trial 2 finished with value: 0.06234207587193346 and parameters: {'n_factors': 16, 'fit_features_together': False, 'regularization': 0.006333352748031255, 'iterations': 14}. Best is trial 7 with value: 0.06578866193207403.\n",
      "[I 2023-12-06 02:20:59,852] Trial 0 finished with value: 0.077302997753657 and parameters: {'n_factors': 8, 'fit_features_together': True, 'regularization': 0.006051131188869904, 'iterations': 10}. Best is trial 0 with value: 0.077302997753657.\n",
      "[I 2023-12-06 02:20:59,983] Trial 3 finished with value: 0.07601649440698428 and parameters: {'n_factors': 16, 'fit_features_together': True, 'regularization': 0.0028496102990116312, 'iterations': 14}. Best is trial 0 with value: 0.077302997753657.\n",
      "[I 2023-12-06 02:20:59,995] Trial 4 finished with value: 0.06295688910759523 and parameters: {'n_factors': 32, 'fit_features_together': False, 'regularization': 0.04377969885419145, 'iterations': 9}. Best is trial 0 with value: 0.077302997753657.\n",
      "[I 2023-12-06 02:21:00,133] Trial 5 finished with value: 0.07484800680333124 and parameters: {'n_factors': 16, 'fit_features_together': True, 'regularization': 0.08851381612354073, 'iterations': 18}. Best is trial 0 with value: 0.077302997753657.\n",
      "[I 2023-12-06 02:21:00,216] Trial 6 finished with value: 0.0742698146430356 and parameters: {'n_factors': 32, 'fit_features_together': True, 'regularization': 0.0072028184883614335, 'iterations': 6}. Best is trial 0 with value: 0.077302997753657.\n",
      "C:\\Users\\Happy\\anaconda3\\envs\\hated_ml\\lib\\site-packages\\rectools\\dataset\\features.py:399: UserWarning: Converting sparse features to dense array may cause MemoryError\n",
      "  warnings.warn(\"Converting sparse features to dense array may cause MemoryError\")\n"
     ]
    },
    {
     "data": {
      "text/plain": "  0%|          | 0/1 [00:00<?, ?it/s]",
      "application/vnd.jupyter.widget-view+json": {
       "version_major": 2,
       "version_minor": 0,
       "model_id": "7a5f7634b75a4f2e9b93382a4a4ec8ab"
      }
     },
     "metadata": {},
     "output_type": "display_data"
    },
    {
     "data": {
      "text/plain": "  0%|          | 0/1 [00:00<?, ?it/s]",
      "application/vnd.jupyter.widget-view+json": {
       "version_major": 2,
       "version_minor": 0,
       "model_id": "d2e5da699ee346f6a8289098201a14ad"
      }
     },
     "metadata": {},
     "output_type": "display_data"
    },
    {
     "data": {
      "text/plain": "  0%|          | 0/1 [00:00<?, ?it/s]",
      "application/vnd.jupyter.widget-view+json": {
       "version_major": 2,
       "version_minor": 0,
       "model_id": "c653d16d86d8455aa4409052aa56f426"
      }
     },
     "metadata": {},
     "output_type": "display_data"
    },
    {
     "data": {
      "text/plain": "  0%|          | 0/1 [00:00<?, ?it/s]",
      "application/vnd.jupyter.widget-view+json": {
       "version_major": 2,
       "version_minor": 0,
       "model_id": "62362cc8a1034237b28a313434fd1f0e"
      }
     },
     "metadata": {},
     "output_type": "display_data"
    },
    {
     "data": {
      "text/plain": "  0%|          | 0/1 [00:00<?, ?it/s]",
      "application/vnd.jupyter.widget-view+json": {
       "version_major": 2,
       "version_minor": 0,
       "model_id": "079fad28134f449a9d318127508f7aac"
      }
     },
     "metadata": {},
     "output_type": "display_data"
    },
    {
     "data": {
      "text/plain": "  0%|          | 0/1 [00:00<?, ?it/s]",
      "application/vnd.jupyter.widget-view+json": {
       "version_major": 2,
       "version_minor": 0,
       "model_id": "7bfe52e02a7349f19cacf653fa060c71"
      }
     },
     "metadata": {},
     "output_type": "display_data"
    },
    {
     "data": {
      "text/plain": "  0%|          | 0/1 [00:00<?, ?it/s]",
      "application/vnd.jupyter.widget-view+json": {
       "version_major": 2,
       "version_minor": 0,
       "model_id": "68257e1ff9ce48d4919b77d5f630663c"
      }
     },
     "metadata": {},
     "output_type": "display_data"
    },
    {
     "data": {
      "text/plain": "  0%|          | 0/1 [00:00<?, ?it/s]",
      "application/vnd.jupyter.widget-view+json": {
       "version_major": 2,
       "version_minor": 0,
       "model_id": "c67fa52b30f14821b367372fa9dd3bcc"
      }
     },
     "metadata": {},
     "output_type": "display_data"
    },
    {
     "name": "stderr",
     "output_type": "stream",
     "text": [
      "[I 2023-12-06 02:22:27,075] Trial 10 finished with value: 0.0629056005353398 and parameters: {'n_factors': 16, 'fit_features_together': False, 'regularization': 0.004823603535780675, 'iterations': 5}. Best is trial 0 with value: 0.077302997753657.\n",
      "[I 2023-12-06 02:22:27,162] Trial 13 finished with value: 0.07535903191558452 and parameters: {'n_factors': 8, 'fit_features_together': True, 'regularization': 0.007285495620246419, 'iterations': 14}. Best is trial 0 with value: 0.077302997753657.\n",
      "[I 2023-12-06 02:22:27,248] Trial 12 finished with value: 0.07428950354498708 and parameters: {'n_factors': 32, 'fit_features_together': True, 'regularization': 0.033692056968095026, 'iterations': 20}. Best is trial 0 with value: 0.077302997753657.\n",
      "[I 2023-12-06 02:22:27,256] Trial 9 finished with value: 0.07440705228771592 and parameters: {'n_factors': 16, 'fit_features_together': True, 'regularization': 0.08429056739753245, 'iterations': 6}. Best is trial 0 with value: 0.077302997753657.\n",
      "C:\\Users\\Happy\\anaconda3\\envs\\hated_ml\\lib\\site-packages\\rectools\\dataset\\features.py:399: UserWarning: Converting sparse features to dense array may cause MemoryError\n",
      "  warnings.warn(\"Converting sparse features to dense array may cause MemoryError\")\n",
      "[I 2023-12-06 02:22:27,442] Trial 15 finished with value: 0.06683368768664927 and parameters: {'n_factors': 8, 'fit_features_together': False, 'regularization': 0.04443558992173288, 'iterations': 12}. Best is trial 0 with value: 0.077302997753657.\n",
      "[I 2023-12-06 02:22:27,546] Trial 11 finished with value: 0.07540504590371967 and parameters: {'n_factors': 8, 'fit_features_together': True, 'regularization': 0.00868554424569278, 'iterations': 16}. Best is trial 0 with value: 0.077302997753657.\n",
      "[I 2023-12-06 02:22:27,613] Trial 8 finished with value: 0.06698416702081532 and parameters: {'n_factors': 8, 'fit_features_together': False, 'regularization': 0.02409201296512575, 'iterations': 14}. Best is trial 0 with value: 0.077302997753657.\n",
      "[I 2023-12-06 02:22:27,625] Trial 14 finished with value: 0.06252481499599569 and parameters: {'n_factors': 16, 'fit_features_together': False, 'regularization': 0.0575550439099487, 'iterations': 20}. Best is trial 0 with value: 0.077302997753657.\n",
      "[I 2023-12-06 02:23:15,577] Trial 18 finished with value: 0.07626699491140744 and parameters: {'n_factors': 8, 'fit_features_together': True, 'regularization': 0.0026581784553219366, 'iterations': 11}. Best is trial 0 with value: 0.077302997753657.\n",
      "[I 2023-12-06 02:23:15,663] Trial 19 finished with value: 0.07608105844678544 and parameters: {'n_factors': 8, 'fit_features_together': True, 'regularization': 0.002687225574089911, 'iterations': 11}. Best is trial 0 with value: 0.077302997753657.\n",
      "[I 2023-12-06 02:23:15,740] Trial 16 finished with value: 0.07404174556250874 and parameters: {'n_factors': 32, 'fit_features_together': True, 'regularization': 0.01245827530503217, 'iterations': 17}. Best is trial 0 with value: 0.077302997753657.\n",
      "[I 2023-12-06 02:23:15,803] Trial 17 finished with value: 0.07741930704805924 and parameters: {'n_factors': 8, 'fit_features_together': True, 'regularization': 0.02140145192621051, 'iterations': 10}. Best is trial 17 with value: 0.07741930704805924.\n"
     ]
    }
   ],
   "source": [
    "# перебор параметров с помощью optuna\n",
    "sampler = TPESampler(seed=1)\n",
    "study = optuna.create_study(directions=['maximize'], sampler=sampler)\n",
    "study.optimize(als_optuna_objective, n_trials=20, n_jobs=24, gc_after_trial=True)"
   ],
   "metadata": {
    "collapsed": false,
    "ExecuteTime": {
     "end_time": "2023-12-05T23:23:15.876491100Z",
     "start_time": "2023-12-05T23:19:31.117481500Z"
    }
   },
   "id": "fa650f250b6319aa"
  },
  {
   "cell_type": "markdown",
   "source": [
    "## BEST PARAMS"
   ],
   "metadata": {
    "collapsed": false
   },
   "id": "f1c74ee288fd135c"
  },
  {
   "cell_type": "code",
   "execution_count": 13,
   "outputs": [
    {
     "name": "stdout",
     "output_type": "stream",
     "text": [
      "Лучшее значение MAP@10: 0.07741930704805924\n",
      "Лучшие параметры: {'n_factors': 8, 'fit_features_together': True, 'regularization': 0.02140145192621051, 'iterations': 10}\n"
     ]
    }
   ],
   "source": [
    "print(f'Лучшее значение MAP@10: {study.best_value}')\n",
    "print(f'Лучшие параметры: {study.best_params}')"
   ],
   "metadata": {
    "collapsed": false,
    "ExecuteTime": {
     "end_time": "2023-12-05T23:23:15.923489800Z",
     "start_time": "2023-12-05T23:23:15.877491300Z"
    }
   },
   "id": "10985e20aefdce80"
  },
  {
   "cell_type": "markdown",
   "source": [
    "## Learn Best Model"
   ],
   "metadata": {
    "collapsed": false
   },
   "id": "7f22c76ee044377d"
  },
  {
   "cell_type": "code",
   "execution_count": null,
   "outputs": [],
   "source": [
    "user_features = get_user_features(users, interactions, [\"sex\", \"age\", \"income\"])\n",
    "item_features = get_item_features(items, interactions)\n",
    "\n",
    "dataset = Dataset.construct(\n",
    "    interactions_df=interactions,\n",
    "    user_features_df=user_features,\n",
    "    cat_user_features=[\"sex\", \"age\", \"income\"],\n",
    "    item_features_df=item_features,\n",
    "    cat_item_features=[\"genre\", \"content_type\"],\n",
    ")\n",
    "\n",
    "model = ImplicitALSWrapperModel(\n",
    "    AlternatingLeastSquares(\n",
    "        factors=16,\n",
    "        random_state=RANDOM_STATE,\n",
    "        regularization=0.00113,\n",
    "        iterations=11,\n",
    "        num_threads=24,\n",
    "    ),\n",
    "    fit_features_together=True\n",
    ")\n",
    "\n",
    "model.fit(dataset)"
   ],
   "metadata": {
    "collapsed": false
   },
   "id": "a69d1b27013c0fc0"
  },
  {
   "cell_type": "code",
   "execution_count": null,
   "outputs": [],
   "source": [
    "with open(f'asl.dill', 'wb') as f:\n",
    "    dill.dump(model, f)"
   ],
   "metadata": {
    "collapsed": false
   },
   "id": "bfc47443938af578"
  },
  {
   "cell_type": "code",
   "execution_count": null,
   "outputs": [],
   "source": [
    "with open('dataset.dill', 'wb') as f:\n",
    "    dill.dump(dataset, f)"
   ],
   "metadata": {
    "collapsed": false
   },
   "id": "12f8b2fb2002f925"
  }
 ],
 "metadata": {
  "kernelspec": {
   "display_name": "Python 3",
   "language": "python",
   "name": "python3"
  },
  "language_info": {
   "codemirror_mode": {
    "name": "ipython",
    "version": 2
   },
   "file_extension": ".py",
   "mimetype": "text/x-python",
   "name": "python",
   "nbconvert_exporter": "python",
   "pygments_lexer": "ipython2",
   "version": "2.7.6"
  }
 },
 "nbformat": 4,
 "nbformat_minor": 5
}
