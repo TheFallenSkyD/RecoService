{
 "cells": [
  {
   "cell_type": "markdown",
   "id": "ad8e37ce",
   "metadata": {},
   "source": [
    "#  Семинар 3. userkNN  CV для сравнения моделей\n",
    "\n",
    "- Сравниваем две модели implicit `CosineRecommender` and `TFIDFRecommender` \n",
    "\n"
   ]
  },
  {
   "cell_type": "code",
   "execution_count": 1,
   "id": "d591ad1b",
   "metadata": {
    "ExecuteTime": {
     "end_time": "2023-11-26T15:59:10.130095300Z",
     "start_time": "2023-11-26T15:59:08.810248700Z"
    }
   },
   "outputs": [],
   "source": [
    "import warnings\n",
    "from pprint import pprint\n",
    "\n",
    "import pandas as pd\n",
    "import requests\n",
    "from implicit.nearest_neighbours import CosineRecommender, TFIDFRecommender\n",
    "from rectools import Columns\n",
    "from rectools.dataset import Interactions\n",
    "from rectools.metrics import MAP, MeanInvUserFreq, calc_metrics\n",
    "from rectools.model_selection import TimeRangeSplitter\n",
    "from tqdm.auto import tqdm\n",
    "\n",
    "from userknn import UserKnn\n",
    "\n",
    "warnings.filterwarnings(\"ignore\")\n",
    "pd.set_option('display.max_columns', None)\n",
    "pd.set_option('display.max_colwidth', 200)"
   ]
  },
  {
   "cell_type": "markdown",
   "id": "d1d7cc47",
   "metadata": {},
   "source": [
    "# Датасет KION "
   ]
  },
  {
   "cell_type": "code",
   "execution_count": 2,
   "id": "d5994343",
   "metadata": {
    "ExecuteTime": {
     "end_time": "2023-11-26T15:59:46.204118900Z",
     "start_time": "2023-11-26T15:59:10.130095300Z"
    }
   },
   "outputs": [
    {
     "data": {
      "text/plain": "Downloading the kion dataset...:   0%|          | 0.00/78.8M [00:00<?, ?iB/s]",
      "application/vnd.jupyter.widget-view+json": {
       "version_major": 2,
       "version_minor": 0,
       "model_id": "6bd33e619a544b378b36b6479cae956a"
      }
     },
     "metadata": {},
     "output_type": "display_data"
    }
   ],
   "source": [
    "url = 'https://github.com/irsafilo/KION_DATASET/raw/f69775be31fa5779907cf0a92ddedb70037fb5ae/data_original.zip'\n",
    "req = requests.get(url, stream=True)\n",
    "\n",
    "with open('kion_train.zip', \"wb\") as fd:\n",
    "    total_size_in_bytes = int(req.headers.get('Content-Length', 0))\n",
    "    progress_bar = tqdm(desc='Downloading the kion dataset...', \n",
    "                        total=total_size_in_bytes, \n",
    "                        unit='iB', unit_scale=True)\n",
    "    for chunk in req.iter_content(chunk_size=2 ** 20):\n",
    "        progress_bar.update(len(chunk))\n",
    "        fd.write(chunk)"
   ]
  },
  {
   "cell_type": "code",
   "execution_count": 3,
   "id": "edf558c4",
   "metadata": {
    "ExecuteTime": {
     "end_time": "2023-11-26T15:59:46.249117800Z",
     "start_time": "2023-11-26T15:59:46.204118900Z"
    }
   },
   "outputs": [
    {
     "name": "stderr",
     "output_type": "stream",
     "text": [
      "\"unzip\" ­Ґ пў«пҐвбп ў­гваҐ­­Ґ© Ё«Ё ў­Ґи­Ґ©\n",
      "Є®¬ ­¤®©, ЁбЇ®«­пҐ¬®© Їа®Ја ¬¬®© Ё«Ё Ї ЄҐв­л¬ д ©«®¬.\n"
     ]
    }
   ],
   "source": [
    "!unzip kion_train.zip -x '__MACOSX/*'"
   ]
  },
  {
   "cell_type": "code",
   "execution_count": 5,
   "id": "1f349c11",
   "metadata": {
    "ExecuteTime": {
     "end_time": "2023-11-26T16:00:10.297096700Z",
     "start_time": "2023-11-26T16:00:08.317184700Z"
    }
   },
   "outputs": [
    {
     "data": {
      "text/plain": "   user_id  item_id   datetime   weight  watched_pct\n0   176549     9506 2021-05-11   4250.0         72.0\n1   699317     1659 2021-05-29   8317.0        100.0\n2   656683     7107 2021-05-09     10.0          0.0\n3   864613     7638 2021-07-05  14483.0        100.0\n4   964868     9506 2021-04-30   6725.0        100.0",
      "text/html": "<div>\n<style scoped>\n    .dataframe tbody tr th:only-of-type {\n        vertical-align: middle;\n    }\n\n    .dataframe tbody tr th {\n        vertical-align: top;\n    }\n\n    .dataframe thead th {\n        text-align: right;\n    }\n</style>\n<table border=\"1\" class=\"dataframe\">\n  <thead>\n    <tr style=\"text-align: right;\">\n      <th></th>\n      <th>user_id</th>\n      <th>item_id</th>\n      <th>datetime</th>\n      <th>weight</th>\n      <th>watched_pct</th>\n    </tr>\n  </thead>\n  <tbody>\n    <tr>\n      <th>0</th>\n      <td>176549</td>\n      <td>9506</td>\n      <td>2021-05-11</td>\n      <td>4250.0</td>\n      <td>72.0</td>\n    </tr>\n    <tr>\n      <th>1</th>\n      <td>699317</td>\n      <td>1659</td>\n      <td>2021-05-29</td>\n      <td>8317.0</td>\n      <td>100.0</td>\n    </tr>\n    <tr>\n      <th>2</th>\n      <td>656683</td>\n      <td>7107</td>\n      <td>2021-05-09</td>\n      <td>10.0</td>\n      <td>0.0</td>\n    </tr>\n    <tr>\n      <th>3</th>\n      <td>864613</td>\n      <td>7638</td>\n      <td>2021-07-05</td>\n      <td>14483.0</td>\n      <td>100.0</td>\n    </tr>\n    <tr>\n      <th>4</th>\n      <td>964868</td>\n      <td>9506</td>\n      <td>2021-04-30</td>\n      <td>6725.0</td>\n      <td>100.0</td>\n    </tr>\n  </tbody>\n</table>\n</div>"
     },
     "execution_count": 5,
     "metadata": {},
     "output_type": "execute_result"
    }
   ],
   "source": [
    "interactions_df = pd.read_csv('../datasets/interactions.csv')\n",
    "users = pd.read_csv('../datasets/users.csv')\n",
    "items = pd.read_csv('../datasets/items.csv')\n",
    "\n",
    "interactions_df.rename(columns={'last_watch_dt': Columns.Datetime,\n",
    "                                'total_dur': Columns.Weight}, inplace=True) \n",
    "# will cast types and save new pd.DataFrame inside in Interactions.df\n",
    "interactions = Interactions(interactions_df)   \n",
    "\n",
    "# ! если хотите быстро прогнать этот ноутбук - раскомментируйте эту строку - она уменьшает данные\n",
    "# interactions = Interactions(interactions_df.sample(frac=0.01))  \n",
    "\n",
    "interactions.df.head()"
   ]
  },
  {
   "cell_type": "markdown",
   "id": "76165c4c",
   "metadata": {},
   "source": [
    "## Задаем фолды для кросс-валидации"
   ]
  },
  {
   "cell_type": "code",
   "execution_count": 6,
   "id": "6ea0ce15",
   "metadata": {
    "ExecuteTime": {
     "end_time": "2023-11-26T16:01:01.476301900Z",
     "start_time": "2023-11-26T16:01:01.447736100Z"
    }
   },
   "outputs": [],
   "source": [
    "N_SPLITS = 7\n",
    "TEST_SIZE = '7D'"
   ]
  },
  {
   "cell_type": "code",
   "execution_count": 7,
   "id": "25dcfb6f",
   "metadata": {
    "ExecuteTime": {
     "end_time": "2023-11-26T16:01:01.519300600Z",
     "start_time": "2023-11-26T16:01:01.460299800Z"
    }
   },
   "outputs": [],
   "source": [
    "# Init generator of folds\n",
    "cv = TimeRangeSplitter(\n",
    "    test_size=TEST_SIZE,\n",
    "    n_splits=N_SPLITS,\n",
    "    filter_already_seen=True,\n",
    "    filter_cold_items=True,\n",
    "    filter_cold_users=True,\n",
    ")"
   ]
  },
  {
   "cell_type": "code",
   "execution_count": 8,
   "id": "af7f61f2",
   "metadata": {
    "ExecuteTime": {
     "end_time": "2023-11-26T16:01:01.522300500Z",
     "start_time": "2023-11-26T16:01:01.475300400Z"
    }
   },
   "outputs": [
    {
     "data": {
      "text/plain": "[(Timestamp('2021-07-05 00:00:00', freq='7D'),\n  Timestamp('2021-07-12 00:00:00', freq='7D')),\n (Timestamp('2021-07-12 00:00:00', freq='7D'),\n  Timestamp('2021-07-19 00:00:00', freq='7D')),\n (Timestamp('2021-07-19 00:00:00', freq='7D'),\n  Timestamp('2021-07-26 00:00:00', freq='7D')),\n (Timestamp('2021-07-26 00:00:00', freq='7D'),\n  Timestamp('2021-08-02 00:00:00', freq='7D')),\n (Timestamp('2021-08-02 00:00:00', freq='7D'),\n  Timestamp('2021-08-09 00:00:00', freq='7D')),\n (Timestamp('2021-08-09 00:00:00', freq='7D'),\n  Timestamp('2021-08-16 00:00:00', freq='7D')),\n (Timestamp('2021-08-16 00:00:00', freq='7D'),\n  Timestamp('2021-08-23 00:00:00', freq='7D'))]"
     },
     "execution_count": 8,
     "metadata": {},
     "output_type": "execute_result"
    }
   ],
   "source": [
    "cv.get_test_fold_borders(interactions)"
   ]
  },
  {
   "cell_type": "markdown",
   "id": "cd1a5482",
   "metadata": {},
   "source": [
    "## Задаем метрики и модели, по которым будем делать CV"
   ]
  },
  {
   "cell_type": "code",
   "execution_count": 9,
   "id": "fce4747a",
   "metadata": {
    "ExecuteTime": {
     "end_time": "2023-11-26T16:01:01.522300500Z",
     "start_time": "2023-11-26T16:01:01.491300300Z"
    }
   },
   "outputs": [],
   "source": [
    "# calculate several classic (precision@k and recall@k) and \"beyond accuracy\" metrics\n",
    "metrics = {\n",
    "    'map@10': MAP(k=10),\n",
    "    'novelty': MeanInvUserFreq(k=10),\n",
    "}\n",
    "\n",
    "# few simple models to compare\n",
    "models = {\n",
    "    'cosine_userknn': CosineRecommender(), # implicit \n",
    "    'tfidf_userknn': TFIDFRecommender(), \n",
    "}"
   ]
  },
  {
   "cell_type": "markdown",
   "id": "06be6d3b",
   "metadata": {},
   "source": [
    "# CV\n",
    "\n",
    "- по двум моделям models\n",
    "- по двум метрикам качества из metrics"
   ]
  },
  {
   "cell_type": "code",
   "execution_count": 10,
   "id": "d07f350f",
   "metadata": {
    "scrolled": false,
    "ExecuteTime": {
     "end_time": "2023-11-26T17:16:19.205224400Z",
     "start_time": "2023-11-26T16:01:01.506301200Z"
    }
   },
   "outputs": [
    {
     "name": "stdout",
     "output_type": "stream",
     "text": [
      "\n",
      "==================== Fold 0\n",
      "{'end': Timestamp('2021-07-12 00:00:00', freq='7D'),\n",
      " 'i_split': 0,\n",
      " 'start': Timestamp('2021-07-05 00:00:00', freq='7D'),\n",
      " 'test': 204269,\n",
      " 'test_items': 6199,\n",
      " 'test_users': 83649,\n",
      " 'train': 2939612,\n",
      " 'train_items': 14397,\n",
      " 'train_users': 603297}\n"
     ]
    },
    {
     "data": {
      "text/plain": "  0%|          | 0/603297 [00:00<?, ?it/s]",
      "application/vnd.jupyter.widget-view+json": {
       "version_major": 2,
       "version_minor": 0,
       "model_id": "514a7ea9af9148c1a3767c8e42424c69"
      }
     },
     "metadata": {},
     "output_type": "display_data"
    },
    {
     "data": {
      "text/plain": "  0%|          | 0/603297 [00:00<?, ?it/s]",
      "application/vnd.jupyter.widget-view+json": {
       "version_major": 2,
       "version_minor": 0,
       "model_id": "e1f8e67e4b6d40c998f155c275037db6"
      }
     },
     "metadata": {},
     "output_type": "display_data"
    },
    {
     "name": "stdout",
     "output_type": "stream",
     "text": [
      "\n",
      "==================== Fold 1\n",
      "{'end': Timestamp('2021-07-19 00:00:00', freq='7D'),\n",
      " 'i_split': 1,\n",
      " 'start': Timestamp('2021-07-12 00:00:00', freq='7D'),\n",
      " 'test': 216010,\n",
      " 'test_items': 6314,\n",
      " 'test_users': 84668,\n",
      " 'train': 3239125,\n",
      " 'train_items': 14730,\n",
      " 'train_users': 646423}\n"
     ]
    },
    {
     "data": {
      "text/plain": "  0%|          | 0/646423 [00:00<?, ?it/s]",
      "application/vnd.jupyter.widget-view+json": {
       "version_major": 2,
       "version_minor": 0,
       "model_id": "c50bd49e31e7425f81e4158972569dc5"
      }
     },
     "metadata": {},
     "output_type": "display_data"
    },
    {
     "data": {
      "text/plain": "  0%|          | 0/646423 [00:00<?, ?it/s]",
      "application/vnd.jupyter.widget-view+json": {
       "version_major": 2,
       "version_minor": 0,
       "model_id": "6a938c87783e4fff986a9763be08ba23"
      }
     },
     "metadata": {},
     "output_type": "display_data"
    },
    {
     "name": "stdout",
     "output_type": "stream",
     "text": [
      "\n",
      "==================== Fold 2\n",
      "{'end': Timestamp('2021-07-26 00:00:00', freq='7D'),\n",
      " 'i_split': 2,\n",
      " 'start': Timestamp('2021-07-19 00:00:00', freq='7D'),\n",
      " 'test': 231059,\n",
      " 'test_items': 6467,\n",
      " 'test_users': 87330,\n",
      " 'train': 3560245,\n",
      " 'train_items': 14947,\n",
      " 'train_users': 695170}\n"
     ]
    },
    {
     "data": {
      "text/plain": "  0%|          | 0/695170 [00:00<?, ?it/s]",
      "application/vnd.jupyter.widget-view+json": {
       "version_major": 2,
       "version_minor": 0,
       "model_id": "d2f7ebf2345d4919b8b67702d8e4c743"
      }
     },
     "metadata": {},
     "output_type": "display_data"
    },
    {
     "data": {
      "text/plain": "  0%|          | 0/695170 [00:00<?, ?it/s]",
      "application/vnd.jupyter.widget-view+json": {
       "version_major": 2,
       "version_minor": 0,
       "model_id": "93c0d26bd48948828bd23a65491aa49f"
      }
     },
     "metadata": {},
     "output_type": "display_data"
    },
    {
     "name": "stdout",
     "output_type": "stream",
     "text": [
      "\n",
      "==================== Fold 3\n",
      "{'end': Timestamp('2021-08-02 00:00:00', freq='7D'),\n",
      " 'i_split': 3,\n",
      " 'start': Timestamp('2021-07-26 00:00:00', freq='7D'),\n",
      " 'test': 254565,\n",
      " 'test_items': 6650,\n",
      " 'test_users': 94910,\n",
      " 'train': 3892558,\n",
      " 'train_items': 15085,\n",
      " 'train_users': 742256}\n"
     ]
    },
    {
     "data": {
      "text/plain": "  0%|          | 0/742256 [00:00<?, ?it/s]",
      "application/vnd.jupyter.widget-view+json": {
       "version_major": 2,
       "version_minor": 0,
       "model_id": "1e8c3b8e9a6c43ce865c8c19867bcb3b"
      }
     },
     "metadata": {},
     "output_type": "display_data"
    },
    {
     "data": {
      "text/plain": "  0%|          | 0/742256 [00:00<?, ?it/s]",
      "application/vnd.jupyter.widget-view+json": {
       "version_major": 2,
       "version_minor": 0,
       "model_id": "5683c30f9c344e8b9b81e7f781a026c7"
      }
     },
     "metadata": {},
     "output_type": "display_data"
    },
    {
     "name": "stdout",
     "output_type": "stream",
     "text": [
      "\n",
      "==================== Fold 4\n",
      "{'end': Timestamp('2021-08-09 00:00:00', freq='7D'),\n",
      " 'i_split': 4,\n",
      " 'start': Timestamp('2021-08-02 00:00:00', freq='7D'),\n",
      " 'test': 263681,\n",
      " 'test_items': 6602,\n",
      " 'test_users': 98184,\n",
      " 'train': 4266013,\n",
      " 'train_items': 15237,\n",
      " 'train_users': 797423}\n"
     ]
    },
    {
     "data": {
      "text/plain": "  0%|          | 0/797423 [00:00<?, ?it/s]",
      "application/vnd.jupyter.widget-view+json": {
       "version_major": 2,
       "version_minor": 0,
       "model_id": "8da443510958464abc084886d9a77ffe"
      }
     },
     "metadata": {},
     "output_type": "display_data"
    },
    {
     "data": {
      "text/plain": "  0%|          | 0/797423 [00:00<?, ?it/s]",
      "application/vnd.jupyter.widget-view+json": {
       "version_major": 2,
       "version_minor": 0,
       "model_id": "64a282fa6d2b4f90b6f87ad905afb9e4"
      }
     },
     "metadata": {},
     "output_type": "display_data"
    },
    {
     "name": "stdout",
     "output_type": "stream",
     "text": [
      "\n",
      "==================== Fold 5\n",
      "{'end': Timestamp('2021-08-16 00:00:00', freq='7D'),\n",
      " 'i_split': 5,\n",
      " 'start': Timestamp('2021-08-09 00:00:00', freq='7D'),\n",
      " 'test': 279422,\n",
      " 'test_items': 6698,\n",
      " 'test_users': 103511,\n",
      " 'train': 4649162,\n",
      " 'train_items': 15415,\n",
      " 'train_users': 850489}\n"
     ]
    },
    {
     "data": {
      "text/plain": "  0%|          | 0/850489 [00:00<?, ?it/s]",
      "application/vnd.jupyter.widget-view+json": {
       "version_major": 2,
       "version_minor": 0,
       "model_id": "0812d7a6e8f24e23bb45ccfd0d2df1bf"
      }
     },
     "metadata": {},
     "output_type": "display_data"
    },
    {
     "data": {
      "text/plain": "  0%|          | 0/850489 [00:00<?, ?it/s]",
      "application/vnd.jupyter.widget-view+json": {
       "version_major": 2,
       "version_minor": 0,
       "model_id": "098bf41221c943f8be1a997999f5d678"
      }
     },
     "metadata": {},
     "output_type": "display_data"
    },
    {
     "name": "stdout",
     "output_type": "stream",
     "text": [
      "\n",
      "==================== Fold 6\n",
      "{'end': Timestamp('2021-08-23 00:00:00', freq='7D'),\n",
      " 'i_split': 6,\n",
      " 'start': Timestamp('2021-08-16 00:00:00', freq='7D'),\n",
      " 'test': 298878,\n",
      " 'test_items': 6679,\n",
      " 'test_users': 110076,\n",
      " 'train': 5051815,\n",
      " 'train_items': 15577,\n",
      " 'train_users': 906071}\n"
     ]
    },
    {
     "data": {
      "text/plain": "  0%|          | 0/906071 [00:00<?, ?it/s]",
      "application/vnd.jupyter.widget-view+json": {
       "version_major": 2,
       "version_minor": 0,
       "model_id": "b9167ca8378644fabe5875eb0fa3930c"
      }
     },
     "metadata": {},
     "output_type": "display_data"
    },
    {
     "data": {
      "text/plain": "  0%|          | 0/906071 [00:00<?, ?it/s]",
      "application/vnd.jupyter.widget-view+json": {
       "version_major": 2,
       "version_minor": 0,
       "model_id": "1a4b9304e53a4ae8b1be5c93e0343387"
      }
     },
     "metadata": {},
     "output_type": "display_data"
    },
    {
     "name": "stdout",
     "output_type": "stream",
     "text": [
      "CPU times: total: 1d 4h 28min 5s\n",
      "Wall time: 1h 15min 17s\n"
     ]
    }
   ],
   "source": [
    "%%time\n",
    "\n",
    "results = []\n",
    "\n",
    "fold_iterator = cv.split(interactions, collect_fold_stats=True)\n",
    "\n",
    "for i_fold, (train_ids, test_ids, fold_info) in enumerate(fold_iterator):\n",
    "    print(f\"\\n==================== Fold {i_fold}\")\n",
    "    pprint(fold_info)\n",
    "\n",
    "    df_train = interactions.df.iloc[train_ids].copy()\n",
    "    df_test = interactions.df.iloc[test_ids][Columns.UserItem].copy()\n",
    "\n",
    "    catalog = df_train[Columns.Item].unique()\n",
    "    \n",
    "    for model_name, model in models.items():\n",
    "        userknn_model = UserKnn(model=model, N_users=50)\n",
    "        userknn_model.fit(df_train)\n",
    "    \n",
    "        recos = userknn_model.predict(df_test)\n",
    "    \n",
    "        metric_values = calc_metrics(\n",
    "            metrics,\n",
    "            reco=recos,\n",
    "            interactions=df_test,\n",
    "            prev_interactions=df_train,\n",
    "            catalog=catalog,\n",
    "        )\n",
    "    \n",
    "        fold = {\"fold\": i_fold, \"model\": model_name}\n",
    "        fold.update(metric_values)\n",
    "        results.append(fold)\n",
    "        "
   ]
  },
  {
   "cell_type": "markdown",
   "id": "f721eb3b",
   "metadata": {},
   "source": [
    "# Метрики качества по фолдам "
   ]
  },
  {
   "cell_type": "code",
   "execution_count": 11,
   "id": "5140f29c",
   "metadata": {
    "ExecuteTime": {
     "end_time": "2023-11-26T17:16:19.234225500Z",
     "start_time": "2023-11-26T17:16:19.206225300Z"
    }
   },
   "outputs": [
    {
     "data": {
      "text/plain": "    fold           model    map@10   novelty\n0      0  cosine_userknn  0.005572  7.100989\n1      0   tfidf_userknn  0.009874  7.195373\n2      1  cosine_userknn  0.004915  7.255019\n3      1   tfidf_userknn  0.007821  7.369573\n4      2  cosine_userknn  0.004343  7.389535\n5      2   tfidf_userknn  0.007208  7.499991\n6      3  cosine_userknn  0.004339  7.421055\n7      3   tfidf_userknn  0.006852  7.539561\n8      4  cosine_userknn  0.004246  7.476357\n9      4   tfidf_userknn  0.006773  7.573736\n10     5  cosine_userknn  0.003785  7.531878\n11     5   tfidf_userknn  0.006279  7.631293\n12     6  cosine_userknn  0.003685  7.614235\n13     6   tfidf_userknn  0.005949  7.710766",
      "text/html": "<div>\n<style scoped>\n    .dataframe tbody tr th:only-of-type {\n        vertical-align: middle;\n    }\n\n    .dataframe tbody tr th {\n        vertical-align: top;\n    }\n\n    .dataframe thead th {\n        text-align: right;\n    }\n</style>\n<table border=\"1\" class=\"dataframe\">\n  <thead>\n    <tr style=\"text-align: right;\">\n      <th></th>\n      <th>fold</th>\n      <th>model</th>\n      <th>map@10</th>\n      <th>novelty</th>\n    </tr>\n  </thead>\n  <tbody>\n    <tr>\n      <th>0</th>\n      <td>0</td>\n      <td>cosine_userknn</td>\n      <td>0.005572</td>\n      <td>7.100989</td>\n    </tr>\n    <tr>\n      <th>1</th>\n      <td>0</td>\n      <td>tfidf_userknn</td>\n      <td>0.009874</td>\n      <td>7.195373</td>\n    </tr>\n    <tr>\n      <th>2</th>\n      <td>1</td>\n      <td>cosine_userknn</td>\n      <td>0.004915</td>\n      <td>7.255019</td>\n    </tr>\n    <tr>\n      <th>3</th>\n      <td>1</td>\n      <td>tfidf_userknn</td>\n      <td>0.007821</td>\n      <td>7.369573</td>\n    </tr>\n    <tr>\n      <th>4</th>\n      <td>2</td>\n      <td>cosine_userknn</td>\n      <td>0.004343</td>\n      <td>7.389535</td>\n    </tr>\n    <tr>\n      <th>5</th>\n      <td>2</td>\n      <td>tfidf_userknn</td>\n      <td>0.007208</td>\n      <td>7.499991</td>\n    </tr>\n    <tr>\n      <th>6</th>\n      <td>3</td>\n      <td>cosine_userknn</td>\n      <td>0.004339</td>\n      <td>7.421055</td>\n    </tr>\n    <tr>\n      <th>7</th>\n      <td>3</td>\n      <td>tfidf_userknn</td>\n      <td>0.006852</td>\n      <td>7.539561</td>\n    </tr>\n    <tr>\n      <th>8</th>\n      <td>4</td>\n      <td>cosine_userknn</td>\n      <td>0.004246</td>\n      <td>7.476357</td>\n    </tr>\n    <tr>\n      <th>9</th>\n      <td>4</td>\n      <td>tfidf_userknn</td>\n      <td>0.006773</td>\n      <td>7.573736</td>\n    </tr>\n    <tr>\n      <th>10</th>\n      <td>5</td>\n      <td>cosine_userknn</td>\n      <td>0.003785</td>\n      <td>7.531878</td>\n    </tr>\n    <tr>\n      <th>11</th>\n      <td>5</td>\n      <td>tfidf_userknn</td>\n      <td>0.006279</td>\n      <td>7.631293</td>\n    </tr>\n    <tr>\n      <th>12</th>\n      <td>6</td>\n      <td>cosine_userknn</td>\n      <td>0.003685</td>\n      <td>7.614235</td>\n    </tr>\n    <tr>\n      <th>13</th>\n      <td>6</td>\n      <td>tfidf_userknn</td>\n      <td>0.005949</td>\n      <td>7.710766</td>\n    </tr>\n  </tbody>\n</table>\n</div>"
     },
     "execution_count": 11,
     "metadata": {},
     "output_type": "execute_result"
    }
   ],
   "source": [
    "df_metrics = pd.DataFrame(results)\n",
    "df_metrics"
   ]
  },
  {
   "cell_type": "markdown",
   "id": "ee277c01",
   "metadata": {},
   "source": [
    "## Metrics mean \n"
   ]
  },
  {
   "cell_type": "code",
   "execution_count": 12,
   "id": "358d6a1d",
   "metadata": {
    "ExecuteTime": {
     "end_time": "2023-11-26T17:16:19.264224Z",
     "start_time": "2023-11-26T17:16:19.223224200Z"
    }
   },
   "outputs": [
    {
     "data": {
      "text/plain": "                  map@10   novelty\nmodel                             \ncosine_userknn  0.004412  7.398438\ntfidf_userknn   0.007251  7.502899",
      "text/html": "<div>\n<style scoped>\n    .dataframe tbody tr th:only-of-type {\n        vertical-align: middle;\n    }\n\n    .dataframe tbody tr th {\n        vertical-align: top;\n    }\n\n    .dataframe thead th {\n        text-align: right;\n    }\n</style>\n<table border=\"1\" class=\"dataframe\">\n  <thead>\n    <tr style=\"text-align: right;\">\n      <th></th>\n      <th>map@10</th>\n      <th>novelty</th>\n    </tr>\n    <tr>\n      <th>model</th>\n      <th></th>\n      <th></th>\n    </tr>\n  </thead>\n  <tbody>\n    <tr>\n      <th>cosine_userknn</th>\n      <td>0.004412</td>\n      <td>7.398438</td>\n    </tr>\n    <tr>\n      <th>tfidf_userknn</th>\n      <td>0.007251</td>\n      <td>7.502899</td>\n    </tr>\n  </tbody>\n</table>\n</div>"
     },
     "execution_count": 12,
     "metadata": {},
     "output_type": "execute_result"
    }
   ],
   "source": [
    "df_metrics.groupby('model').mean()[metrics.keys()]"
   ]
  },
  {
   "cell_type": "markdown",
   "id": "b5f9dcd2",
   "metadata": {},
   "source": [
    "# Домашнее задание: максимум 20 баллов \n",
    "\n",
    "## Основные пункты оценки\n",
    "1. значение метрики на лидерборде\n",
    "2. ревью кода в ноутбуке \n",
    "3. реализация сервиса для модели\n",
    "\n",
    "\n",
    "Вы можете сделать НЕ ВСЕ пункты и все равно получить 20 баллов. Получение > 20 баллов будет расцениваться как 20.\n",
    "\n",
    "## Подробности\n",
    "\n",
    "### 1. Побейте метрику на лидерборде map@10 = 0.063 для userKnn модели с семинара (5 баллов)\n",
    "\n",
    "### 2. Реализуйте эксперименты с кастомной моделю kNN с семинара. Результат - ноутбук(и) (максимум 15 баллов)\n",
    "\n",
    "(Вы можете отрефакторить код из userknn.py по желанию или не трогать его) \n",
    "\n",
    "Что можно сделать в ноутбуке:\n",
    "\n",
    "- придумать, что делать с холодными пользователями в тесте. Сделайте рекомендации для них (обратите внимание на rectools.models.popular) (3 балла)\n",
    "\n",
    "- сделать кол-во рекомендаций равным N, а не меньше N (3 балла)\n",
    "\n",
    "- реализовать тюнинг гиперпараметров (например, векторного расстояния или типов kNN моделей (implicit/rectools/...)) и сделать выводы (3 балла)\n",
    "\n",
    "- реализовать другие варианты ранжированивания айтемов похожих пользователей и сделать выводы (3 балла)\n",
    "\n",
    "- провести эксперименты с параметрами оффлайн валидации и сделать выводы (3 балла)\n",
    "\n",
    "### 3. Оберните модель в сервис (максимум 12 баллов)\n",
    "\n",
    "- предпочтительный онлайн вариант: обучаете модель в ноутбуке, сохраняете обученную модель (pickle, dill), при запуске сервиса ее поднимаете и запрашиваете рекомендации \"на лету\" (12 баллов)\n",
    "- или оффлайн вариант: предварительно посчитайте рекомендации для всех пользователей, сохраните и запрашивайте их (6 баллов)\n",
    "\n",
    "### Хороший pull request - это:\n",
    "\n",
    "- наличие описания (в идеале что сделано - по пунктам)\n",
    "\n",
    "- код по стандарту PEP8\n",
    "- легкая читаемость и воспроизводимость кода\n",
    "- комментарии и объяснения. В ipynb пользуйтесь силой маркдауна. В скриптах пишите комментарии и докстринг.\n",
    "- обоснование схемы валидации\n",
    "- анализ метрики качества\n"
   ]
  },
  {
   "cell_type": "code",
   "execution_count": 12,
   "id": "fa67664a",
   "metadata": {
    "ExecuteTime": {
     "end_time": "2023-11-26T17:16:19.301226200Z",
     "start_time": "2023-11-26T17:16:19.236224800Z"
    }
   },
   "outputs": [],
   "source": []
  }
 ],
 "metadata": {
  "kernelspec": {
   "name": "python3",
   "language": "python",
   "display_name": "Python 3 (ipykernel)"
  },
  "language_info": {
   "codemirror_mode": {
    "name": "ipython",
    "version": 3
   },
   "file_extension": ".py",
   "mimetype": "text/x-python",
   "name": "python",
   "nbconvert_exporter": "python",
   "pygments_lexer": "ipython3",
   "version": "3.8.13"
  }
 },
 "nbformat": 4,
 "nbformat_minor": 5
}
