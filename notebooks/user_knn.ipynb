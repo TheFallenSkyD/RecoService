{
 "cells": [
  {
   "cell_type": "code",
   "execution_count": 1,
   "outputs": [],
   "source": [
    "import json\n",
    "import os\n",
    "import warnings\n",
    "from pprint import pprint\n",
    "\n",
    "import dill\n",
    "import pandas as pd\n",
    "from implicit.nearest_neighbours import BM25Recommender, TFIDFRecommender, CosineRecommender\n",
    "from rectools import Columns\n",
    "from rectools.dataset import Interactions, Dataset\n",
    "from rectools.metrics import MAP, MeanInvUserFreq, calc_metrics, Precision, Recall, Serendipity\n",
    "from rectools.model_selection import TimeRangeSplitter\n",
    "from rectools.models.popular import PopularModel, Popularity\n",
    "\n",
    "from services.userknn import UserKnn\n",
    "\n",
    "warnings.filterwarnings(\"ignore\")\n",
    "pd.set_option('display.max_columns', None)\n",
    "pd.set_option('display.max_colwidth', 200)"
   ],
   "metadata": {
    "collapsed": false,
    "ExecuteTime": {
     "end_time": "2023-11-28T11:40:06.661511300Z",
     "start_time": "2023-11-28T11:40:04.976792Z"
    }
   },
   "id": "dbedb8694b0884b0"
  },
  {
   "cell_type": "markdown",
   "source": [
    "## LOAD DATA"
   ],
   "metadata": {
    "collapsed": false
   },
   "id": "1a767359f4e1544b"
  },
  {
   "cell_type": "code",
   "execution_count": 2,
   "outputs": [
    {
     "data": {
      "text/plain": "   user_id  item_id   datetime   weight  watched_pct\n0   176549     9506 2021-05-11   4250.0         72.0\n1   699317     1659 2021-05-29   8317.0        100.0\n2   656683     7107 2021-05-09     10.0          0.0\n3   864613     7638 2021-07-05  14483.0        100.0\n4   964868     9506 2021-04-30   6725.0        100.0",
      "text/html": "<div>\n<style scoped>\n    .dataframe tbody tr th:only-of-type {\n        vertical-align: middle;\n    }\n\n    .dataframe tbody tr th {\n        vertical-align: top;\n    }\n\n    .dataframe thead th {\n        text-align: right;\n    }\n</style>\n<table border=\"1\" class=\"dataframe\">\n  <thead>\n    <tr style=\"text-align: right;\">\n      <th></th>\n      <th>user_id</th>\n      <th>item_id</th>\n      <th>datetime</th>\n      <th>weight</th>\n      <th>watched_pct</th>\n    </tr>\n  </thead>\n  <tbody>\n    <tr>\n      <th>0</th>\n      <td>176549</td>\n      <td>9506</td>\n      <td>2021-05-11</td>\n      <td>4250.0</td>\n      <td>72.0</td>\n    </tr>\n    <tr>\n      <th>1</th>\n      <td>699317</td>\n      <td>1659</td>\n      <td>2021-05-29</td>\n      <td>8317.0</td>\n      <td>100.0</td>\n    </tr>\n    <tr>\n      <th>2</th>\n      <td>656683</td>\n      <td>7107</td>\n      <td>2021-05-09</td>\n      <td>10.0</td>\n      <td>0.0</td>\n    </tr>\n    <tr>\n      <th>3</th>\n      <td>864613</td>\n      <td>7638</td>\n      <td>2021-07-05</td>\n      <td>14483.0</td>\n      <td>100.0</td>\n    </tr>\n    <tr>\n      <th>4</th>\n      <td>964868</td>\n      <td>9506</td>\n      <td>2021-04-30</td>\n      <td>6725.0</td>\n      <td>100.0</td>\n    </tr>\n  </tbody>\n</table>\n</div>"
     },
     "execution_count": 2,
     "metadata": {},
     "output_type": "execute_result"
    }
   ],
   "source": [
    "interactions_df = pd.read_csv('../datasets/interactions.csv')\n",
    "users = pd.read_csv('../datasets/users.csv')\n",
    "items = pd.read_csv('../datasets/items.csv')\n",
    "\n",
    "interactions_df.rename(columns={'last_watch_dt': Columns.Datetime,\n",
    "                                'total_dur': Columns.Weight}, inplace=True)\n",
    "interactions = Interactions(interactions_df)\n",
    "\n",
    "interactions.df.head()"
   ],
   "metadata": {
    "collapsed": false,
    "ExecuteTime": {
     "end_time": "2023-11-27T21:10:19.843642Z",
     "start_time": "2023-11-27T21:10:17.866889800Z"
    }
   },
   "id": "8008bcebfad5ec0b"
  },
  {
   "cell_type": "code",
   "execution_count": 4,
   "outputs": [
    {
     "data": {
      "text/plain": "   item_id content_type                 title      title_orig  release_year  \\\n0    10711         film        Поговори с ней  Hable con ella        2002.0   \n1     2508         film           Голые перцы    Search Party        2014.0   \n2    10716         film      Тактическая сила  Tactical Force        2011.0   \n3     7868         film                45 лет        45 Years        2015.0   \n4    16268         film  Все решает мгновение             NaN        1978.0   \n\n                                             genres       countries  for_kids  \\\n0           драмы, зарубежные, детективы, мелодрамы         Испания       NaN   \n1                  зарубежные, приключения, комедии             США       NaN   \n2  криминал, зарубежные, триллеры, боевики, комедии          Канада       NaN   \n3                      драмы, зарубежные, мелодрамы  Великобритания       NaN   \n4                драмы, спорт, советские, мелодрамы            СССР       NaN   \n\n   age_rating   studios         directors  \\\n0        16.0       NaN  Педро Альмодовар   \n1        16.0       NaN    Скот Армстронг   \n2        16.0       NaN  Адам П. Калтраро   \n3        16.0       NaN         Эндрю Хэй   \n4        12.0  Ленфильм  Виктор Садовский   \n\n                                                                                                                                                                                                    actors  \\\n0  Адольфо Фернандес, Ана Фернандес, Дарио Грандинетти, Джеральдин Чаплин, Елена Анайя, Каэтано Велозо, Леонор Уотлинг, Лола Дуэньяс, Лолес Леон, Малу Айродо, Мариола Фуэнтес, Пас Вега, Пина Бауш, Ро...   \n1  Адам Палли, Брайан Хаски, Дж.Б. Смув, Джейсон Манцукас, Джон Глейсер, Карл Грин, Кристен Риттер, Лэнс Реддик, Морис Комт, Патрик Кернс, Ребекка Коллинз, Роза Салазар, Росс П. Кук, Стеффи Гроут, Ти...   \n2  Адриан Холмс, Даррен Шалави, Джерри Вассерман, Дэн Риззуто, Кендес Илэйн Калтраро, Кит Джардин, Лекса Дойг, Майкл Джей Уайт, Майкл Шэнкс, Майкл Эклунд, Питер Брайант, Питер Кент, Стив Бачич, Стив ...   \n3  Александра Риддлстон-Барретт, Джеральдин Джеймс, Долли Уэллс, Дэвид Сибли, Камилла Юкан, Кевин Матадин, Люси Темпл, Макс Радд, Мартин Эткинсон, Мишель Финч, Питер Дин Джексон, Пол Голдсмит, Ричард...   \n4  Александр Абдулов, Александр Демьяненко, Алексей Васильев, Анатолий Папанов, Андрей Данилов, Борис Зайденберг, Борис Коковкин, Виктор Карасев, Галина Беляева, Е. Рахманова, Елена Аржаник, Ирина Са...   \n\n                                                                                                                                                                                               description  \\\n0  Мелодрама легендарного Педро Альмодовара «Поговори с ней» в 2003 году получила премию «Оскар» за лучший сценарий.  Журналист Марко берет интервью у знаменитой женщины-тореро Лидии и вскоре влюбляе...   \n1  Уморительная современная комедия на популярную тему о том, как не надо отмечать мальчишник. Главный герой усвоил, что не надо звать на свадьбу своего друга Джейсона, из-за которого он вместо сваде...   \n2  Профессиональный рестлер Стив Остин («Все или ничего») и темнокожий мачо Майкл Джей Уайт («Темный рыцарь») в интригующем криминальном боевике. В центре сюжета – команда спецназовцев, которая оказа...   \n3  Шарлотта Рэмплинг, Том Кортни, Джеральдин Джеймс и Долли Уэллс в драме Эндрю Хэйя.  Супруги Кейт и Джефф Мерсеры готовятся к важной дате – с того дня, как они поженились, прошло целых сорок пять л...   \n4  Расчетливая чаровница из советского кинохита «Мой ласковый и нежный зверь», актриса-дебютантка Галина Беляева снова становится неопытным и робким подростком в спортивном фильме  «Все решает мгнове...   \n\n                                                                                                                                                                                                  keywords  \n0  Поговори, ней, 2002, Испания, друзья, любовь, сильные, женщины, преодоление, трудностей, отношения, дружба, отношения, паре, отношения, мужчины, женщины, романтические, отношения, потеря, близких,...  \n1                                          Голые, перцы, 2014, США, друзья, свадьбы, преодоление, трудностей, расставания, отношения, дружба, риск, недоразумение, мужская, дружба, мальчишники, девичники  \n2  Тактическая, сила, 2011, Канада, бандиты, гангстеры, преступления, преодоление, трудностей, убийства, убийцы, настоящие, мужчины, риск, недоразумение, силы, правопорядка, борьба, за, выживание, сп...  \n3    45, лет, 2015, Великобритания, брак, жизнь, любовь, психология, семейные, проблемы, семья, отношения, конфликты, отношениях, отношения, паре, отношения, мужчины, женщины, семейный, конфликт, смерть  \n4  Все, решает, мгновение, 1978, СССР, сильные, женщины, спорт, преодоление, трудностей, мечта, соперничество, подростки, женщины, успех, коллектив, команда, фобии, спортсмены, отношения, между, трен...  ",
      "text/html": "<div>\n<style scoped>\n    .dataframe tbody tr th:only-of-type {\n        vertical-align: middle;\n    }\n\n    .dataframe tbody tr th {\n        vertical-align: top;\n    }\n\n    .dataframe thead th {\n        text-align: right;\n    }\n</style>\n<table border=\"1\" class=\"dataframe\">\n  <thead>\n    <tr style=\"text-align: right;\">\n      <th></th>\n      <th>item_id</th>\n      <th>content_type</th>\n      <th>title</th>\n      <th>title_orig</th>\n      <th>release_year</th>\n      <th>genres</th>\n      <th>countries</th>\n      <th>for_kids</th>\n      <th>age_rating</th>\n      <th>studios</th>\n      <th>directors</th>\n      <th>actors</th>\n      <th>description</th>\n      <th>keywords</th>\n    </tr>\n  </thead>\n  <tbody>\n    <tr>\n      <th>0</th>\n      <td>10711</td>\n      <td>film</td>\n      <td>Поговори с ней</td>\n      <td>Hable con ella</td>\n      <td>2002.0</td>\n      <td>драмы, зарубежные, детективы, мелодрамы</td>\n      <td>Испания</td>\n      <td>NaN</td>\n      <td>16.0</td>\n      <td>NaN</td>\n      <td>Педро Альмодовар</td>\n      <td>Адольфо Фернандес, Ана Фернандес, Дарио Грандинетти, Джеральдин Чаплин, Елена Анайя, Каэтано Велозо, Леонор Уотлинг, Лола Дуэньяс, Лолес Леон, Малу Айродо, Мариола Фуэнтес, Пас Вега, Пина Бауш, Ро...</td>\n      <td>Мелодрама легендарного Педро Альмодовара «Поговори с ней» в 2003 году получила премию «Оскар» за лучший сценарий.  Журналист Марко берет интервью у знаменитой женщины-тореро Лидии и вскоре влюбляе...</td>\n      <td>Поговори, ней, 2002, Испания, друзья, любовь, сильные, женщины, преодоление, трудностей, отношения, дружба, отношения, паре, отношения, мужчины, женщины, романтические, отношения, потеря, близких,...</td>\n    </tr>\n    <tr>\n      <th>1</th>\n      <td>2508</td>\n      <td>film</td>\n      <td>Голые перцы</td>\n      <td>Search Party</td>\n      <td>2014.0</td>\n      <td>зарубежные, приключения, комедии</td>\n      <td>США</td>\n      <td>NaN</td>\n      <td>16.0</td>\n      <td>NaN</td>\n      <td>Скот Армстронг</td>\n      <td>Адам Палли, Брайан Хаски, Дж.Б. Смув, Джейсон Манцукас, Джон Глейсер, Карл Грин, Кристен Риттер, Лэнс Реддик, Морис Комт, Патрик Кернс, Ребекка Коллинз, Роза Салазар, Росс П. Кук, Стеффи Гроут, Ти...</td>\n      <td>Уморительная современная комедия на популярную тему о том, как не надо отмечать мальчишник. Главный герой усвоил, что не надо звать на свадьбу своего друга Джейсона, из-за которого он вместо сваде...</td>\n      <td>Голые, перцы, 2014, США, друзья, свадьбы, преодоление, трудностей, расставания, отношения, дружба, риск, недоразумение, мужская, дружба, мальчишники, девичники</td>\n    </tr>\n    <tr>\n      <th>2</th>\n      <td>10716</td>\n      <td>film</td>\n      <td>Тактическая сила</td>\n      <td>Tactical Force</td>\n      <td>2011.0</td>\n      <td>криминал, зарубежные, триллеры, боевики, комедии</td>\n      <td>Канада</td>\n      <td>NaN</td>\n      <td>16.0</td>\n      <td>NaN</td>\n      <td>Адам П. Калтраро</td>\n      <td>Адриан Холмс, Даррен Шалави, Джерри Вассерман, Дэн Риззуто, Кендес Илэйн Калтраро, Кит Джардин, Лекса Дойг, Майкл Джей Уайт, Майкл Шэнкс, Майкл Эклунд, Питер Брайант, Питер Кент, Стив Бачич, Стив ...</td>\n      <td>Профессиональный рестлер Стив Остин («Все или ничего») и темнокожий мачо Майкл Джей Уайт («Темный рыцарь») в интригующем криминальном боевике. В центре сюжета – команда спецназовцев, которая оказа...</td>\n      <td>Тактическая, сила, 2011, Канада, бандиты, гангстеры, преступления, преодоление, трудностей, убийства, убийцы, настоящие, мужчины, риск, недоразумение, силы, правопорядка, борьба, за, выживание, сп...</td>\n    </tr>\n    <tr>\n      <th>3</th>\n      <td>7868</td>\n      <td>film</td>\n      <td>45 лет</td>\n      <td>45 Years</td>\n      <td>2015.0</td>\n      <td>драмы, зарубежные, мелодрамы</td>\n      <td>Великобритания</td>\n      <td>NaN</td>\n      <td>16.0</td>\n      <td>NaN</td>\n      <td>Эндрю Хэй</td>\n      <td>Александра Риддлстон-Барретт, Джеральдин Джеймс, Долли Уэллс, Дэвид Сибли, Камилла Юкан, Кевин Матадин, Люси Темпл, Макс Радд, Мартин Эткинсон, Мишель Финч, Питер Дин Джексон, Пол Голдсмит, Ричард...</td>\n      <td>Шарлотта Рэмплинг, Том Кортни, Джеральдин Джеймс и Долли Уэллс в драме Эндрю Хэйя.  Супруги Кейт и Джефф Мерсеры готовятся к важной дате – с того дня, как они поженились, прошло целых сорок пять л...</td>\n      <td>45, лет, 2015, Великобритания, брак, жизнь, любовь, психология, семейные, проблемы, семья, отношения, конфликты, отношениях, отношения, паре, отношения, мужчины, женщины, семейный, конфликт, смерть</td>\n    </tr>\n    <tr>\n      <th>4</th>\n      <td>16268</td>\n      <td>film</td>\n      <td>Все решает мгновение</td>\n      <td>NaN</td>\n      <td>1978.0</td>\n      <td>драмы, спорт, советские, мелодрамы</td>\n      <td>СССР</td>\n      <td>NaN</td>\n      <td>12.0</td>\n      <td>Ленфильм</td>\n      <td>Виктор Садовский</td>\n      <td>Александр Абдулов, Александр Демьяненко, Алексей Васильев, Анатолий Папанов, Андрей Данилов, Борис Зайденберг, Борис Коковкин, Виктор Карасев, Галина Беляева, Е. Рахманова, Елена Аржаник, Ирина Са...</td>\n      <td>Расчетливая чаровница из советского кинохита «Мой ласковый и нежный зверь», актриса-дебютантка Галина Беляева снова становится неопытным и робким подростком в спортивном фильме  «Все решает мгнове...</td>\n      <td>Все, решает, мгновение, 1978, СССР, сильные, женщины, спорт, преодоление, трудностей, мечта, соперничество, подростки, женщины, успех, коллектив, команда, фобии, спортсмены, отношения, между, трен...</td>\n    </tr>\n  </tbody>\n</table>\n</div>"
     },
     "execution_count": 4,
     "metadata": {},
     "output_type": "execute_result"
    }
   ],
   "source": [
    "items.head(5)"
   ],
   "metadata": {
    "collapsed": false,
    "ExecuteTime": {
     "end_time": "2023-11-27T21:10:52.080293600Z",
     "start_time": "2023-11-27T21:10:52.072293Z"
    }
   },
   "id": "30fc23b3de62d010"
  },
  {
   "cell_type": "markdown",
   "source": [
    "## Задаем фолды для кросс-валидации"
   ],
   "metadata": {
    "collapsed": false
   },
   "id": "a197584e6eed9ccb"
  },
  {
   "cell_type": "code",
   "execution_count": 105,
   "outputs": [],
   "source": [
    "N_SPLITS = 5\n",
    "TEST_SIZE = '14D'"
   ],
   "metadata": {
    "collapsed": false,
    "ExecuteTime": {
     "end_time": "2023-11-27T01:28:58.835881800Z",
     "start_time": "2023-11-27T01:28:58.819841Z"
    }
   },
   "id": "ef69a067cedde6b7"
  },
  {
   "cell_type": "code",
   "execution_count": 106,
   "outputs": [],
   "source": [
    "# Init generator of folds\n",
    "cv = TimeRangeSplitter(\n",
    "    test_size=TEST_SIZE,\n",
    "    n_splits=N_SPLITS,\n",
    "    filter_already_seen=True,\n",
    "    filter_cold_items=True,\n",
    "    filter_cold_users=True,\n",
    ")"
   ],
   "metadata": {
    "collapsed": false,
    "ExecuteTime": {
     "end_time": "2023-11-27T01:28:58.861881600Z",
     "start_time": "2023-11-27T01:28:58.833882300Z"
    }
   },
   "id": "faf8da8d3888d0d1"
  },
  {
   "cell_type": "code",
   "execution_count": 107,
   "outputs": [
    {
     "data": {
      "text/plain": "[(Timestamp('2021-06-14 00:00:00', freq='14D'),\n  Timestamp('2021-06-28 00:00:00', freq='14D')),\n (Timestamp('2021-06-28 00:00:00', freq='14D'),\n  Timestamp('2021-07-12 00:00:00', freq='14D')),\n (Timestamp('2021-07-12 00:00:00', freq='14D'),\n  Timestamp('2021-07-26 00:00:00', freq='14D')),\n (Timestamp('2021-07-26 00:00:00', freq='14D'),\n  Timestamp('2021-08-09 00:00:00', freq='14D')),\n (Timestamp('2021-08-09 00:00:00', freq='14D'),\n  Timestamp('2021-08-23 00:00:00', freq='14D'))]"
     },
     "execution_count": 107,
     "metadata": {},
     "output_type": "execute_result"
    }
   ],
   "source": [
    "cv.get_test_fold_borders(interactions)"
   ],
   "metadata": {
    "collapsed": false,
    "ExecuteTime": {
     "end_time": "2023-11-27T01:28:58.881881600Z",
     "start_time": "2023-11-27T01:28:58.848882700Z"
    }
   },
   "id": "c6ab64d9cc044b8e"
  },
  {
   "cell_type": "markdown",
   "source": [
    "## Задаем метрики и модели, по которым будем делать CV"
   ],
   "metadata": {
    "collapsed": false
   },
   "id": "3cfe254706ea845d"
  },
  {
   "cell_type": "code",
   "execution_count": 108,
   "outputs": [],
   "source": [
    "# calculate several classic (precision@k and recall@k) and \"beyond accuracy\" metrics\n",
    "metrics = {\n",
    "    'map@10': MAP(k=10),\n",
    "    'novelty@10': MeanInvUserFreq(k=10),\n",
    "    \"prec@10\": Precision(k=10),\n",
    "    \"recall@10\": Recall(k=10),\n",
    "    \"serendipity@10\": Serendipity(k=10),\n",
    "}\n",
    "\n",
    "# few simple models to compare\n",
    "models = {\n",
    "    \"cosine_userknn\": CosineRecommender(),\n",
    "    \"tfidf_userknn\": TFIDFRecommender(),\n",
    "    'b25_recommender': BM25Recommender(),\n",
    "}"
   ],
   "metadata": {
    "collapsed": false,
    "ExecuteTime": {
     "end_time": "2023-11-27T01:28:58.899882100Z",
     "start_time": "2023-11-27T01:28:58.877883100Z"
    }
   },
   "id": "8bb5242b42854c8e"
  },
  {
   "cell_type": "markdown",
   "source": [
    "## CV"
   ],
   "metadata": {
    "collapsed": false
   },
   "id": "d3146207c9cc6c54"
  },
  {
   "cell_type": "code",
   "execution_count": 109,
   "outputs": [
    {
     "name": "stdout",
     "output_type": "stream",
     "text": [
      "\n",
      "==================== Fold 0\n",
      "{'end': Timestamp('2021-06-28 00:00:00', freq='14D'),\n",
      " 'i_split': 0,\n",
      " 'start': Timestamp('2021-06-14 00:00:00', freq='14D'),\n",
      " 'test': 349230,\n",
      " 'test_items': 6749,\n",
      " 'test_users': 110734,\n",
      " 'train': 1979424,\n",
      " 'train_items': 13649,\n",
      " 'train_users': 439529}\n"
     ]
    },
    {
     "data": {
      "text/plain": "  0%|          | 0/439529 [00:00<?, ?it/s]",
      "application/vnd.jupyter.widget-view+json": {
       "version_major": 2,
       "version_minor": 0,
       "model_id": "42e25a07cab44f06b19e33e7c52fa412"
      }
     },
     "metadata": {},
     "output_type": "display_data"
    },
    {
     "data": {
      "text/plain": "  0%|          | 0/439529 [00:00<?, ?it/s]",
      "application/vnd.jupyter.widget-view+json": {
       "version_major": 2,
       "version_minor": 0,
       "model_id": "1bb02725634e4f24b518c35704713649"
      }
     },
     "metadata": {},
     "output_type": "display_data"
    },
    {
     "data": {
      "text/plain": "  0%|          | 0/439529 [00:00<?, ?it/s]",
      "application/vnd.jupyter.widget-view+json": {
       "version_major": 2,
       "version_minor": 0,
       "model_id": "2a27b2a4fd3045b28a5337987d0e6e39"
      }
     },
     "metadata": {},
     "output_type": "display_data"
    },
    {
     "name": "stdout",
     "output_type": "stream",
     "text": [
      "\n",
      "==================== Fold 1\n",
      "{'end': Timestamp('2021-07-12 00:00:00', freq='14D'),\n",
      " 'i_split': 1,\n",
      " 'start': Timestamp('2021-06-28 00:00:00', freq='14D'),\n",
      " 'test': 396345,\n",
      " 'test_items': 6969,\n",
      " 'test_users': 131767,\n",
      " 'train': 2582489,\n",
      " 'train_items': 14107,\n",
      " 'train_users': 543840}\n"
     ]
    },
    {
     "data": {
      "text/plain": "  0%|          | 0/543840 [00:00<?, ?it/s]",
      "application/vnd.jupyter.widget-view+json": {
       "version_major": 2,
       "version_minor": 0,
       "model_id": "fd29c9f698d1458298bbf32c780f5dfa"
      }
     },
     "metadata": {},
     "output_type": "display_data"
    },
    {
     "data": {
      "text/plain": "  0%|          | 0/543840 [00:00<?, ?it/s]",
      "application/vnd.jupyter.widget-view+json": {
       "version_major": 2,
       "version_minor": 0,
       "model_id": "c23653d9e10b4d329671385cb93432e1"
      }
     },
     "metadata": {},
     "output_type": "display_data"
    },
    {
     "data": {
      "text/plain": "  0%|          | 0/543840 [00:00<?, ?it/s]",
      "application/vnd.jupyter.widget-view+json": {
       "version_major": 2,
       "version_minor": 0,
       "model_id": "efb1d88bece84934b783e78093aca36e"
      }
     },
     "metadata": {},
     "output_type": "display_data"
    },
    {
     "name": "stdout",
     "output_type": "stream",
     "text": [
      "\n",
      "==================== Fold 2\n",
      "{'end': Timestamp('2021-07-26 00:00:00', freq='14D'),\n",
      " 'i_split': 2,\n",
      " 'start': Timestamp('2021-07-12 00:00:00', freq='14D'),\n",
      " 'test': 398993,\n",
      " 'test_items': 7394,\n",
      " 'test_users': 122488,\n",
      " 'train': 3239125,\n",
      " 'train_items': 14730,\n",
      " 'train_users': 646423}\n"
     ]
    },
    {
     "data": {
      "text/plain": "  0%|          | 0/646423 [00:00<?, ?it/s]",
      "application/vnd.jupyter.widget-view+json": {
       "version_major": 2,
       "version_minor": 0,
       "model_id": "7c9f420124f541c4a175e7495bb72dc2"
      }
     },
     "metadata": {},
     "output_type": "display_data"
    },
    {
     "data": {
      "text/plain": "  0%|          | 0/646423 [00:00<?, ?it/s]",
      "application/vnd.jupyter.widget-view+json": {
       "version_major": 2,
       "version_minor": 0,
       "model_id": "2a818e1bd0c347d696c0dc3b89aee0d8"
      }
     },
     "metadata": {},
     "output_type": "display_data"
    },
    {
     "data": {
      "text/plain": "  0%|          | 0/646423 [00:00<?, ?it/s]",
      "application/vnd.jupyter.widget-view+json": {
       "version_major": 2,
       "version_minor": 0,
       "model_id": "d1fa4cdf15f54439a17fc0e3c6050dba"
      }
     },
     "metadata": {},
     "output_type": "display_data"
    },
    {
     "name": "stdout",
     "output_type": "stream",
     "text": [
      "\n",
      "==================== Fold 3\n",
      "{'end': Timestamp('2021-08-09 00:00:00', freq='14D'),\n",
      " 'i_split': 3,\n",
      " 'start': Timestamp('2021-07-26 00:00:00', freq='14D'),\n",
      " 'test': 458757,\n",
      " 'test_items': 7711,\n",
      " 'test_users': 135624,\n",
      " 'train': 3892558,\n",
      " 'train_items': 15085,\n",
      " 'train_users': 742256}\n"
     ]
    },
    {
     "data": {
      "text/plain": "  0%|          | 0/742256 [00:00<?, ?it/s]",
      "application/vnd.jupyter.widget-view+json": {
       "version_major": 2,
       "version_minor": 0,
       "model_id": "23b1a047bebe43d58f07999bc4c2122e"
      }
     },
     "metadata": {},
     "output_type": "display_data"
    },
    {
     "data": {
      "text/plain": "  0%|          | 0/742256 [00:00<?, ?it/s]",
      "application/vnd.jupyter.widget-view+json": {
       "version_major": 2,
       "version_minor": 0,
       "model_id": "c3b44637fc9a409b84809ae15742ae43"
      }
     },
     "metadata": {},
     "output_type": "display_data"
    },
    {
     "data": {
      "text/plain": "  0%|          | 0/742256 [00:00<?, ?it/s]",
      "application/vnd.jupyter.widget-view+json": {
       "version_major": 2,
       "version_minor": 0,
       "model_id": "891bad9ed4be434ca120589db0234bae"
      }
     },
     "metadata": {},
     "output_type": "display_data"
    },
    {
     "name": "stdout",
     "output_type": "stream",
     "text": [
      "\n",
      "==================== Fold 4\n",
      "{'end': Timestamp('2021-08-23 00:00:00', freq='14D'),\n",
      " 'i_split': 4,\n",
      " 'start': Timestamp('2021-08-09 00:00:00', freq='14D'),\n",
      " 'test': 521381,\n",
      " 'test_items': 7705,\n",
      " 'test_users': 151629,\n",
      " 'train': 4649162,\n",
      " 'train_items': 15415,\n",
      " 'train_users': 850489}\n"
     ]
    },
    {
     "data": {
      "text/plain": "  0%|          | 0/850489 [00:00<?, ?it/s]",
      "application/vnd.jupyter.widget-view+json": {
       "version_major": 2,
       "version_minor": 0,
       "model_id": "dbae857bdc4d47f6a00983ee676a4b01"
      }
     },
     "metadata": {},
     "output_type": "display_data"
    },
    {
     "data": {
      "text/plain": "  0%|          | 0/850489 [00:00<?, ?it/s]",
      "application/vnd.jupyter.widget-view+json": {
       "version_major": 2,
       "version_minor": 0,
       "model_id": "eec18beb1e0d4e4db2facc910f9c143a"
      }
     },
     "metadata": {},
     "output_type": "display_data"
    },
    {
     "data": {
      "text/plain": "  0%|          | 0/850489 [00:00<?, ?it/s]",
      "application/vnd.jupyter.widget-view+json": {
       "version_major": 2,
       "version_minor": 0,
       "model_id": "d450f38d3325489a9ab50d58ec6c46e9"
      }
     },
     "metadata": {},
     "output_type": "display_data"
    },
    {
     "name": "stdout",
     "output_type": "stream",
     "text": [
      "CPU times: total: 21h 2min 29s\n",
      "Wall time: 59min 6s\n"
     ]
    }
   ],
   "source": [
    "%%time\n",
    "\n",
    "results = []\n",
    "\n",
    "fold_iterator = cv.split(interactions, collect_fold_stats=True)\n",
    "\n",
    "for i_fold, (train_ids, test_ids, fold_info) in enumerate(fold_iterator):\n",
    "    print(f\"\\n==================== Fold {i_fold}\")\n",
    "    pprint(fold_info)\n",
    "\n",
    "    df_train = interactions.df.iloc[train_ids].copy()\n",
    "    df_test = interactions.df.iloc[test_ids][Columns.UserItem].copy()\n",
    "\n",
    "    catalog = df_train[Columns.Item].unique()\n",
    "\n",
    "    for model_name, model in models.items():\n",
    "        userknn_model = UserKnn(model=model, N_users=50)\n",
    "        userknn_model.fit(df_train)\n",
    "\n",
    "        recos = userknn_model.predict(df_test)\n",
    "\n",
    "        metric_values = calc_metrics(\n",
    "            metrics,\n",
    "            reco=recos,\n",
    "            interactions=df_test,\n",
    "            prev_interactions=df_train,\n",
    "            catalog=catalog,\n",
    "        )\n",
    "\n",
    "        fold = {\"fold\": i_fold, \"model\": model_name}\n",
    "        fold.update(metric_values)\n",
    "        results.append(fold)\n"
   ],
   "metadata": {
    "collapsed": false,
    "ExecuteTime": {
     "end_time": "2023-11-27T02:28:04.997497100Z",
     "start_time": "2023-11-27T01:28:58.896882200Z"
    }
   },
   "id": "a1638a8db5a19989"
  },
  {
   "cell_type": "markdown",
   "source": [
    "# Метрики качества по фолдам "
   ],
   "metadata": {
    "collapsed": false
   },
   "id": "75da5c6084f8a767"
  },
  {
   "cell_type": "code",
   "execution_count": 110,
   "outputs": [
    {
     "data": {
      "text/plain": "    fold            model   prec@10  recall@10    map@10  novelty@10  \\\n0      0   cosine_userknn  0.004647   0.019399  0.003364    7.578876   \n1      0    tfidf_userknn  0.008343   0.037900  0.006931    7.572326   \n2      0  b25_recommender  0.003535   0.014183  0.002539    8.807170   \n3      1   cosine_userknn  0.006532   0.029571  0.005111    7.081875   \n4      1    tfidf_userknn  0.010605   0.050303  0.009431    7.101410   \n5      1  b25_recommender  0.004089   0.017569  0.003009    8.519770   \n6      2   cosine_userknn  0.005784   0.026333  0.004787    7.182565   \n7      2    tfidf_userknn  0.008576   0.039890  0.007761    7.263590   \n8      2  b25_recommender  0.003629   0.014863  0.002732    8.858159   \n9      3   cosine_userknn  0.005462   0.023360  0.004260    7.333215   \n10     3    tfidf_userknn  0.008346   0.036612  0.006999    7.419020   \n11     3  b25_recommender  0.003699   0.013853  0.002646    9.043740   \n12     4   cosine_userknn  0.004945   0.019926  0.003716    7.445428   \n13     4    tfidf_userknn  0.007522   0.032416  0.006224    7.513453   \n14     4  b25_recommender  0.003474   0.013052  0.002503    9.174936   \n\n    serendipity@10  \n0         0.000045  \n1         0.000043  \n2         0.000068  \n3         0.000045  \n4         0.000044  \n5         0.000069  \n6         0.000055  \n7         0.000057  \n8         0.000091  \n9         0.000063  \n10        0.000068  \n11        0.000105  \n12        0.000070  \n13        0.000074  \n14        0.000114  ",
      "text/html": "<div>\n<style scoped>\n    .dataframe tbody tr th:only-of-type {\n        vertical-align: middle;\n    }\n\n    .dataframe tbody tr th {\n        vertical-align: top;\n    }\n\n    .dataframe thead th {\n        text-align: right;\n    }\n</style>\n<table border=\"1\" class=\"dataframe\">\n  <thead>\n    <tr style=\"text-align: right;\">\n      <th></th>\n      <th>fold</th>\n      <th>model</th>\n      <th>prec@10</th>\n      <th>recall@10</th>\n      <th>map@10</th>\n      <th>novelty@10</th>\n      <th>serendipity@10</th>\n    </tr>\n  </thead>\n  <tbody>\n    <tr>\n      <th>0</th>\n      <td>0</td>\n      <td>cosine_userknn</td>\n      <td>0.004647</td>\n      <td>0.019399</td>\n      <td>0.003364</td>\n      <td>7.578876</td>\n      <td>0.000045</td>\n    </tr>\n    <tr>\n      <th>1</th>\n      <td>0</td>\n      <td>tfidf_userknn</td>\n      <td>0.008343</td>\n      <td>0.037900</td>\n      <td>0.006931</td>\n      <td>7.572326</td>\n      <td>0.000043</td>\n    </tr>\n    <tr>\n      <th>2</th>\n      <td>0</td>\n      <td>b25_recommender</td>\n      <td>0.003535</td>\n      <td>0.014183</td>\n      <td>0.002539</td>\n      <td>8.807170</td>\n      <td>0.000068</td>\n    </tr>\n    <tr>\n      <th>3</th>\n      <td>1</td>\n      <td>cosine_userknn</td>\n      <td>0.006532</td>\n      <td>0.029571</td>\n      <td>0.005111</td>\n      <td>7.081875</td>\n      <td>0.000045</td>\n    </tr>\n    <tr>\n      <th>4</th>\n      <td>1</td>\n      <td>tfidf_userknn</td>\n      <td>0.010605</td>\n      <td>0.050303</td>\n      <td>0.009431</td>\n      <td>7.101410</td>\n      <td>0.000044</td>\n    </tr>\n    <tr>\n      <th>5</th>\n      <td>1</td>\n      <td>b25_recommender</td>\n      <td>0.004089</td>\n      <td>0.017569</td>\n      <td>0.003009</td>\n      <td>8.519770</td>\n      <td>0.000069</td>\n    </tr>\n    <tr>\n      <th>6</th>\n      <td>2</td>\n      <td>cosine_userknn</td>\n      <td>0.005784</td>\n      <td>0.026333</td>\n      <td>0.004787</td>\n      <td>7.182565</td>\n      <td>0.000055</td>\n    </tr>\n    <tr>\n      <th>7</th>\n      <td>2</td>\n      <td>tfidf_userknn</td>\n      <td>0.008576</td>\n      <td>0.039890</td>\n      <td>0.007761</td>\n      <td>7.263590</td>\n      <td>0.000057</td>\n    </tr>\n    <tr>\n      <th>8</th>\n      <td>2</td>\n      <td>b25_recommender</td>\n      <td>0.003629</td>\n      <td>0.014863</td>\n      <td>0.002732</td>\n      <td>8.858159</td>\n      <td>0.000091</td>\n    </tr>\n    <tr>\n      <th>9</th>\n      <td>3</td>\n      <td>cosine_userknn</td>\n      <td>0.005462</td>\n      <td>0.023360</td>\n      <td>0.004260</td>\n      <td>7.333215</td>\n      <td>0.000063</td>\n    </tr>\n    <tr>\n      <th>10</th>\n      <td>3</td>\n      <td>tfidf_userknn</td>\n      <td>0.008346</td>\n      <td>0.036612</td>\n      <td>0.006999</td>\n      <td>7.419020</td>\n      <td>0.000068</td>\n    </tr>\n    <tr>\n      <th>11</th>\n      <td>3</td>\n      <td>b25_recommender</td>\n      <td>0.003699</td>\n      <td>0.013853</td>\n      <td>0.002646</td>\n      <td>9.043740</td>\n      <td>0.000105</td>\n    </tr>\n    <tr>\n      <th>12</th>\n      <td>4</td>\n      <td>cosine_userknn</td>\n      <td>0.004945</td>\n      <td>0.019926</td>\n      <td>0.003716</td>\n      <td>7.445428</td>\n      <td>0.000070</td>\n    </tr>\n    <tr>\n      <th>13</th>\n      <td>4</td>\n      <td>tfidf_userknn</td>\n      <td>0.007522</td>\n      <td>0.032416</td>\n      <td>0.006224</td>\n      <td>7.513453</td>\n      <td>0.000074</td>\n    </tr>\n    <tr>\n      <th>14</th>\n      <td>4</td>\n      <td>b25_recommender</td>\n      <td>0.003474</td>\n      <td>0.013052</td>\n      <td>0.002503</td>\n      <td>9.174936</td>\n      <td>0.000114</td>\n    </tr>\n  </tbody>\n</table>\n</div>"
     },
     "execution_count": 110,
     "metadata": {},
     "output_type": "execute_result"
    }
   ],
   "source": [
    "df_metrics = pd.DataFrame(results)\n",
    "df_metrics"
   ],
   "metadata": {
    "collapsed": false,
    "ExecuteTime": {
     "end_time": "2023-11-27T02:28:05.013511200Z",
     "start_time": "2023-11-27T02:28:04.998497300Z"
    }
   },
   "id": "71858d685dbeafe0"
  },
  {
   "cell_type": "code",
   "execution_count": 111,
   "outputs": [
    {
     "data": {
      "text/plain": "                   map@10  novelty@10   prec@10  recall@10  serendipity@10\nmodel                                                                     \nb25_recommender  0.002686    8.880755  0.003685   0.014704        0.000089\ncosine_userknn   0.004248    7.324392  0.005474   0.023718        0.000056\ntfidf_userknn    0.007469    7.373960  0.008678   0.039424        0.000057",
      "text/html": "<div>\n<style scoped>\n    .dataframe tbody tr th:only-of-type {\n        vertical-align: middle;\n    }\n\n    .dataframe tbody tr th {\n        vertical-align: top;\n    }\n\n    .dataframe thead th {\n        text-align: right;\n    }\n</style>\n<table border=\"1\" class=\"dataframe\">\n  <thead>\n    <tr style=\"text-align: right;\">\n      <th></th>\n      <th>map@10</th>\n      <th>novelty@10</th>\n      <th>prec@10</th>\n      <th>recall@10</th>\n      <th>serendipity@10</th>\n    </tr>\n    <tr>\n      <th>model</th>\n      <th></th>\n      <th></th>\n      <th></th>\n      <th></th>\n      <th></th>\n    </tr>\n  </thead>\n  <tbody>\n    <tr>\n      <th>b25_recommender</th>\n      <td>0.002686</td>\n      <td>8.880755</td>\n      <td>0.003685</td>\n      <td>0.014704</td>\n      <td>0.000089</td>\n    </tr>\n    <tr>\n      <th>cosine_userknn</th>\n      <td>0.004248</td>\n      <td>7.324392</td>\n      <td>0.005474</td>\n      <td>0.023718</td>\n      <td>0.000056</td>\n    </tr>\n    <tr>\n      <th>tfidf_userknn</th>\n      <td>0.007469</td>\n      <td>7.373960</td>\n      <td>0.008678</td>\n      <td>0.039424</td>\n      <td>0.000057</td>\n    </tr>\n  </tbody>\n</table>\n</div>"
     },
     "execution_count": 111,
     "metadata": {},
     "output_type": "execute_result"
    }
   ],
   "source": [
    "df_metrics.groupby('model').mean()[metrics.keys()]"
   ],
   "metadata": {
    "collapsed": false,
    "ExecuteTime": {
     "end_time": "2023-11-27T02:28:05.042510300Z",
     "start_time": "2023-11-27T02:28:05.015511200Z"
    }
   },
   "id": "a617ce2283b530ce"
  },
  {
   "cell_type": "markdown",
   "source": [
    "## Metrics mean"
   ],
   "metadata": {
    "collapsed": false
   },
   "id": "7abf8170e785dbb3"
  },
  {
   "cell_type": "markdown",
   "source": [
    "tfidf best model"
   ],
   "metadata": {
    "collapsed": false
   },
   "id": "e178ac992387ae93"
  },
  {
   "cell_type": "markdown",
   "source": [
    "## Model learning"
   ],
   "metadata": {
    "collapsed": false
   },
   "id": "43a650629e805656"
  },
  {
   "cell_type": "code",
   "execution_count": 82,
   "outputs": [
    {
     "data": {
      "text/plain": "  0%|          | 0/962179 [00:00<?, ?it/s]",
      "application/vnd.jupyter.widget-view+json": {
       "version_major": 2,
       "version_minor": 0,
       "model_id": "e464578e364f4ba68d1f2cdd03c073e4"
      }
     },
     "metadata": {},
     "output_type": "display_data"
    }
   ],
   "source": [
    "final_model = UserKnn(model=TFIDFRecommender(K=30))\n",
    "final_model.fit(interactions.df)"
   ],
   "metadata": {
    "collapsed": false,
    "ExecuteTime": {
     "end_time": "2023-11-27T20:17:18.405189700Z",
     "start_time": "2023-11-27T20:08:30.948508600Z"
    }
   },
   "id": "57264f0ad535c025"
  },
  {
   "cell_type": "markdown",
   "source": [
    "## Load models"
   ],
   "metadata": {
    "collapsed": false
   },
   "id": "88ff6e80f2edbdc1"
  },
  {
   "cell_type": "code",
   "execution_count": 83,
   "outputs": [
    {
     "name": "stdout",
     "output_type": "stream",
     "text": [
      "CPU times: total: 25.8 s\n",
      "Wall time: 26 s\n"
     ]
    }
   ],
   "source": [
    "%%time\n",
    "\n",
    "with open(f'user_knn.dill', 'wb') as f:\n",
    "    dill.dump(final_model, f)"
   ],
   "metadata": {
    "collapsed": false,
    "ExecuteTime": {
     "end_time": "2023-11-27T20:17:44.373987Z",
     "start_time": "2023-11-27T20:17:18.406188800Z"
    }
   },
   "id": "6ac0de88ff30bc9"
  },
  {
   "cell_type": "code",
   "execution_count": 22,
   "outputs": [
    {
     "data": {
      "text/plain": "[15469, 5518, 12448, 6737, 5482, 10688, 4273, 5695, 7453, 5600]"
     },
     "execution_count": 22,
     "metadata": {},
     "output_type": "execute_result"
    }
   ],
   "source": [
    "with open(f'user_knn.dill', 'rb') as f:\n",
    "    loaded_model = dill.load(f)\n",
    "\n",
    "loaded_model.recommend(176549)"
   ],
   "metadata": {
    "collapsed": false,
    "ExecuteTime": {
     "end_time": "2023-11-27T17:04:51.447504600Z",
     "start_time": "2023-11-27T17:04:50.308208300Z"
    }
   },
   "id": "35e56b12502ac972"
  },
  {
   "cell_type": "markdown",
   "source": [
    "## Cold users"
   ],
   "metadata": {
    "collapsed": false
   },
   "id": "29d831f5289ae73b"
  },
  {
   "cell_type": "code",
   "execution_count": 91,
   "outputs": [
    {
     "data": {
      "text/plain": "                                                    genre  \\\n0            [драмы,  зарубежные,  детективы,  мелодрамы]   \n1                    [зарубежные,  приключения,  комедии]   \n2  [криминал,  зарубежные,  триллеры,  боевики,  комедии]   \n\n                                             genres  \n0           драмы, зарубежные, детективы, мелодрамы  \n1                  зарубежные, приключения, комедии  \n2  криминал, зарубежные, триллеры, боевики, комедии  ",
      "text/html": "<div>\n<style scoped>\n    .dataframe tbody tr th:only-of-type {\n        vertical-align: middle;\n    }\n\n    .dataframe tbody tr th {\n        vertical-align: top;\n    }\n\n    .dataframe thead th {\n        text-align: right;\n    }\n</style>\n<table border=\"1\" class=\"dataframe\">\n  <thead>\n    <tr style=\"text-align: right;\">\n      <th></th>\n      <th>genre</th>\n      <th>genres</th>\n    </tr>\n  </thead>\n  <tbody>\n    <tr>\n      <th>0</th>\n      <td>[драмы,  зарубежные,  детективы,  мелодрамы]</td>\n      <td>драмы, зарубежные, детективы, мелодрамы</td>\n    </tr>\n    <tr>\n      <th>1</th>\n      <td>[зарубежные,  приключения,  комедии]</td>\n      <td>зарубежные, приключения, комедии</td>\n    </tr>\n    <tr>\n      <th>2</th>\n      <td>[криминал,  зарубежные,  триллеры,  боевики,  комедии]</td>\n      <td>криминал, зарубежные, триллеры, боевики, комедии</td>\n    </tr>\n  </tbody>\n</table>\n</div>"
     },
     "execution_count": 91,
     "metadata": {},
     "output_type": "execute_result"
    }
   ],
   "source": [
    "items[\"genre\"] = items[\"genres\"].str.split(\",\")\n",
    "items[[\"genre\", \"genres\"]].head(3)"
   ],
   "metadata": {
    "collapsed": false,
    "ExecuteTime": {
     "end_time": "2023-11-27T20:23:06.312519200Z",
     "start_time": "2023-11-27T20:23:06.264516800Z"
    }
   },
   "id": "c2a18d21f6e9ae15"
  },
  {
   "cell_type": "code",
   "execution_count": 92,
   "outputs": [
    {
     "data": {
      "text/plain": "   item_id        value feature\n0    10711        драмы   genre\n0    10711   зарубежные   genre\n0    10711    детективы   genre\n0    10711    мелодрамы   genre\n1     2508   зарубежные   genre",
      "text/html": "<div>\n<style scoped>\n    .dataframe tbody tr th:only-of-type {\n        vertical-align: middle;\n    }\n\n    .dataframe tbody tr th {\n        vertical-align: top;\n    }\n\n    .dataframe thead th {\n        text-align: right;\n    }\n</style>\n<table border=\"1\" class=\"dataframe\">\n  <thead>\n    <tr style=\"text-align: right;\">\n      <th></th>\n      <th>item_id</th>\n      <th>value</th>\n      <th>feature</th>\n    </tr>\n  </thead>\n  <tbody>\n    <tr>\n      <th>0</th>\n      <td>10711</td>\n      <td>драмы</td>\n      <td>genre</td>\n    </tr>\n    <tr>\n      <th>0</th>\n      <td>10711</td>\n      <td>зарубежные</td>\n      <td>genre</td>\n    </tr>\n    <tr>\n      <th>0</th>\n      <td>10711</td>\n      <td>детективы</td>\n      <td>genre</td>\n    </tr>\n    <tr>\n      <th>0</th>\n      <td>10711</td>\n      <td>мелодрамы</td>\n      <td>genre</td>\n    </tr>\n    <tr>\n      <th>1</th>\n      <td>2508</td>\n      <td>зарубежные</td>\n      <td>genre</td>\n    </tr>\n  </tbody>\n</table>\n</div>"
     },
     "execution_count": 92,
     "metadata": {},
     "output_type": "execute_result"
    }
   ],
   "source": [
    "genre_feature = items[[Columns.Item, \"genre\"]].explode(\"genre\")\n",
    "genre_feature.columns = [Columns.Item, \"value\"]\n",
    "genre_feature[\"feature\"] = \"genre\"\n",
    "genre_feature.head()"
   ],
   "metadata": {
    "collapsed": false,
    "ExecuteTime": {
     "end_time": "2023-11-27T20:23:16.189622400Z",
     "start_time": "2023-11-27T20:23:16.165624Z"
    }
   },
   "id": "1a2c9f2e222a7ec6"
  },
  {
   "cell_type": "code",
   "execution_count": 94,
   "outputs": [
    {
     "data": {
      "text/plain": "(55676, 3)"
     },
     "execution_count": 94,
     "metadata": {},
     "output_type": "execute_result"
    }
   ],
   "source": [
    "_, bins = pd.qcut(items[\"release_year\"], 10, retbins=True)\n",
    "labels = bins[:-1]\n",
    "\n",
    "item_feat = pd.concat([genre_feature, pd.DataFrame(\n",
    "    {\n",
    "        Columns.Item: items[Columns.Item],\n",
    "        \"value\": pd.cut(items[\"release_year\"], bins=bins, labels=bins[:-1]),\n",
    "        \"feature\": \"release_year\",\n",
    "    }\n",
    ")])\n",
    "item_feat = item_feat[item_feat[Columns.Item].isin(interactions.df[Columns.Item])]\n",
    "item_feat.shape"
   ],
   "metadata": {
    "collapsed": false,
    "ExecuteTime": {
     "end_time": "2023-11-27T20:24:54.863160100Z",
     "start_time": "2023-11-27T20:24:54.806159200Z"
    }
   },
   "id": "d23fdff45aee6627"
  },
  {
   "cell_type": "code",
   "execution_count": 103,
   "outputs": [],
   "source": [
    "dataset = Dataset.construct(\n",
    "    interactions_df=interactions.df.rename(\n",
    "    columns={\n",
    "        'track_id': Columns.Item,\n",
    "        'last_watch_dt': Columns.Datetime,\n",
    "        'total_dur': Columns.Weight\n",
    "    }, \n",
    "    inplace=False) ,\n",
    "    user_features_df=None,\n",
    "    item_features_df=item_feat,\n",
    "    cat_item_features=['genre', 'release_year']\n",
    ")"
   ],
   "metadata": {
    "collapsed": false,
    "ExecuteTime": {
     "end_time": "2023-11-27T20:30:55.773938400Z",
     "start_time": "2023-11-27T20:30:55.477938200Z"
    }
   },
   "id": "d045fbd03d49a0d0"
  },
  {
   "cell_type": "code",
   "execution_count": 109,
   "outputs": [
    {
     "data": {
      "text/plain": "<rectools.models.popular.PopularModel at 0x2bf2459d990>"
     },
     "execution_count": 109,
     "metadata": {},
     "output_type": "execute_result"
    }
   ],
   "source": [
    "popular_model = PopularModel(period=pd.Timedelta('7 days 00:00:00'), popularity='n_users', add_cold=True)\n",
    "popular_model.fit(dataset)"
   ],
   "metadata": {
    "collapsed": false,
    "ExecuteTime": {
     "end_time": "2023-11-27T20:34:16.698546200Z",
     "start_time": "2023-11-27T20:34:16.550544700Z"
    }
   },
   "id": "e74f7833ff756c54"
  },
  {
   "cell_type": "code",
   "execution_count": 110,
   "outputs": [
    {
     "data": {
      "text/plain": "Empty DataFrame\nColumns: [user_id]\nIndex: []",
      "text/html": "<div>\n<style scoped>\n    .dataframe tbody tr th:only-of-type {\n        vertical-align: middle;\n    }\n\n    .dataframe tbody tr th {\n        vertical-align: top;\n    }\n\n    .dataframe thead th {\n        text-align: right;\n    }\n</style>\n<table border=\"1\" class=\"dataframe\">\n  <thead>\n    <tr style=\"text-align: right;\">\n      <th></th>\n      <th>user_id</th>\n    </tr>\n  </thead>\n  <tbody>\n  </tbody>\n</table>\n</div>"
     },
     "execution_count": 110,
     "metadata": {},
     "output_type": "execute_result"
    }
   ],
   "source": [
    "recs = pd.DataFrame({'user_id': interactions.df['user_id'].unique()})\n",
    "cold = recs[~recs['user_id'].isin(dataset.user_id_map.external_ids)]\n",
    "warm = recs[recs['user_id'].isin(dataset.user_id_map.external_ids)]\n",
    "cold.head()"
   ],
   "metadata": {
    "collapsed": false,
    "ExecuteTime": {
     "end_time": "2023-11-27T20:34:18.006169500Z",
     "start_time": "2023-11-27T20:34:17.881170Z"
    }
   },
   "id": "73c224073aec95a6"
  },
  {
   "cell_type": "code",
   "execution_count": 111,
   "outputs": [
    {
     "name": "stdout",
     "output_type": "stream",
     "text": [
      "CPU times: total: 1min 21s\n",
      "Wall time: 1min 21s\n"
     ]
    },
    {
     "data": {
      "text/plain": "   user_id                                                            item_id\n0        0    [10440, 13865, 14488, 12360, 341, 4151, 3734, 512, 7793, 11863]\n1        1    [9728, 15297, 13865, 14488, 12192, 12360, 341, 4151, 3734, 512]\n2        2  [9728, 10440, 15297, 13865, 14488, 12192, 12360, 341, 4151, 3734]\n3        3    [15297, 13865, 14488, 12360, 341, 512, 7793, 11863, 7102, 7571]\n4        4  [9728, 10440, 15297, 13865, 14488, 12192, 12360, 341, 4151, 3734]",
      "text/html": "<div>\n<style scoped>\n    .dataframe tbody tr th:only-of-type {\n        vertical-align: middle;\n    }\n\n    .dataframe tbody tr th {\n        vertical-align: top;\n    }\n\n    .dataframe thead th {\n        text-align: right;\n    }\n</style>\n<table border=\"1\" class=\"dataframe\">\n  <thead>\n    <tr style=\"text-align: right;\">\n      <th></th>\n      <th>user_id</th>\n      <th>item_id</th>\n    </tr>\n  </thead>\n  <tbody>\n    <tr>\n      <th>0</th>\n      <td>0</td>\n      <td>[10440, 13865, 14488, 12360, 341, 4151, 3734, 512, 7793, 11863]</td>\n    </tr>\n    <tr>\n      <th>1</th>\n      <td>1</td>\n      <td>[9728, 15297, 13865, 14488, 12192, 12360, 341, 4151, 3734, 512]</td>\n    </tr>\n    <tr>\n      <th>2</th>\n      <td>2</td>\n      <td>[9728, 10440, 15297, 13865, 14488, 12192, 12360, 341, 4151, 3734]</td>\n    </tr>\n    <tr>\n      <th>3</th>\n      <td>3</td>\n      <td>[15297, 13865, 14488, 12360, 341, 512, 7793, 11863, 7102, 7571]</td>\n    </tr>\n    <tr>\n      <th>4</th>\n      <td>4</td>\n      <td>[9728, 10440, 15297, 13865, 14488, 12192, 12360, 341, 4151, 3734]</td>\n    </tr>\n  </tbody>\n</table>\n</div>"
     },
     "execution_count": 111,
     "metadata": {},
     "output_type": "execute_result"
    }
   ],
   "source": [
    "%%time\n",
    "\n",
    "warm_recs = popular_model.recommend(warm['user_id'], dataset=dataset, k=10, filter_viewed=True).drop(['score', 'rank'], axis=1)\n",
    "warm_recs = warm_recs.groupby('user_id').agg({'item_id': list}).reset_index()\n",
    "warm_recs.head()"
   ],
   "metadata": {
    "collapsed": false,
    "ExecuteTime": {
     "end_time": "2023-11-27T20:35:42.579062800Z",
     "start_time": "2023-11-27T20:34:20.706902800Z"
    }
   },
   "id": "8ce2083e82175e21"
  },
  {
   "cell_type": "code",
   "execution_count": 116,
   "outputs": [
    {
     "name": "stdout",
     "output_type": "stream",
     "text": [
      "CPU times: total: 0 ns\n",
      "Wall time: 1.13 ms\n"
     ]
    }
   ],
   "source": [
    "%%time\n",
    "\n",
    "\n",
    "with open('popular_model.dill', 'wb') as f:\n",
    "    dill.dump(popular_model, f)"
   ],
   "metadata": {
    "collapsed": false,
    "ExecuteTime": {
     "end_time": "2023-11-27T20:38:21.980459200Z",
     "start_time": "2023-11-27T20:38:21.975489400Z"
    }
   },
   "id": "f97a080d861fd7f4"
  },
  {
   "cell_type": "code",
   "execution_count": 71,
   "outputs": [
    {
     "data": {
      "text/plain": "  0%|          | 0/962179 [00:00<?, ?it/s]",
      "application/vnd.jupyter.widget-view+json": {
       "version_major": 2,
       "version_minor": 0,
       "model_id": "5f06a4789afb473ca1bfa2be40b519d5"
      }
     },
     "metadata": {},
     "output_type": "display_data"
    }
   ],
   "source": [
    "final_model = UserKnn(model=BM25Recommender(K=100), N_users=50)\n",
    "final_model.fit(interactions.df)"
   ],
   "metadata": {
    "collapsed": false,
    "ExecuteTime": {
     "end_time": "2023-11-27T19:18:24.813431300Z",
     "start_time": "2023-11-27T19:09:33.891640600Z"
    }
   },
   "id": "1c2c5f63b5083289"
  },
  {
   "cell_type": "code",
   "execution_count": 72,
   "outputs": [
    {
     "name": "stdout",
     "output_type": "stream",
     "text": [
      "CPU times: total: 24.6 s\n",
      "Wall time: 24.9 s\n"
     ]
    }
   ],
   "source": [
    "%%time\n",
    "\n",
    "with open(f'user_knn.dill', 'wb') as f:\n",
    "    dill.dump(final_model, f)"
   ],
   "metadata": {
    "collapsed": false,
    "ExecuteTime": {
     "end_time": "2023-11-27T19:18:49.762753Z",
     "start_time": "2023-11-27T19:18:24.814431600Z"
    }
   },
   "id": "d81c58ab4a82a7c6"
  },
  {
   "cell_type": "code",
   "execution_count": 119,
   "outputs": [
    {
     "data": {
      "text/plain": "[15469, 5518, 12448, 13962, 6737, 5482, 10688, 4273, 5695, 7453]"
     },
     "execution_count": 119,
     "metadata": {},
     "output_type": "execute_result"
    }
   ],
   "source": [
    "with open(f'user_knn.dill', 'rb') as f:\n",
    "    loaded_model = dill.load(f)\n",
    "\n",
    "loaded_model.recommend(176549)"
   ],
   "metadata": {
    "collapsed": false,
    "ExecuteTime": {
     "end_time": "2023-11-27T20:42:52.552197200Z",
     "start_time": "2023-11-27T20:42:50.571014900Z"
    }
   },
   "id": "5255e0c46bad7082"
  },
  {
   "cell_type": "code",
   "execution_count": 85,
   "outputs": [
    {
     "name": "stdout",
     "output_type": "stream",
     "text": [
      "CPU times: total: 3min 17s\n",
      "Wall time: 3min 18s\n"
     ]
    },
    {
     "data": {
      "text/plain": "          user_id item_id     score  rank\n0         1097557    3182  6.137841     1\n1         1097557    4151  4.111983     2\n2         1097557   15297  3.379502     3\n4         1097557    9728  3.311465     4\n3         1097557   10440  3.029132     5\n...           ...     ...       ...   ...\n16694812        0    7829  3.915136     6\n16694814        0   12192  3.466101     7\n16694807        0    9728  2.683715     8\n16694808        0   10440  2.390548     9\n16694813        0   15297  2.356323    10\n\n[5168653 rows x 4 columns]",
      "text/html": "<div>\n<style scoped>\n    .dataframe tbody tr th:only-of-type {\n        vertical-align: middle;\n    }\n\n    .dataframe tbody tr th {\n        vertical-align: top;\n    }\n\n    .dataframe thead th {\n        text-align: right;\n    }\n</style>\n<table border=\"1\" class=\"dataframe\">\n  <thead>\n    <tr style=\"text-align: right;\">\n      <th></th>\n      <th>user_id</th>\n      <th>item_id</th>\n      <th>score</th>\n      <th>rank</th>\n    </tr>\n  </thead>\n  <tbody>\n    <tr>\n      <th>0</th>\n      <td>1097557</td>\n      <td>3182</td>\n      <td>6.137841</td>\n      <td>1</td>\n    </tr>\n    <tr>\n      <th>1</th>\n      <td>1097557</td>\n      <td>4151</td>\n      <td>4.111983</td>\n      <td>2</td>\n    </tr>\n    <tr>\n      <th>2</th>\n      <td>1097557</td>\n      <td>15297</td>\n      <td>3.379502</td>\n      <td>3</td>\n    </tr>\n    <tr>\n      <th>4</th>\n      <td>1097557</td>\n      <td>9728</td>\n      <td>3.311465</td>\n      <td>4</td>\n    </tr>\n    <tr>\n      <th>3</th>\n      <td>1097557</td>\n      <td>10440</td>\n      <td>3.029132</td>\n      <td>5</td>\n    </tr>\n    <tr>\n      <th>...</th>\n      <td>...</td>\n      <td>...</td>\n      <td>...</td>\n      <td>...</td>\n    </tr>\n    <tr>\n      <th>16694812</th>\n      <td>0</td>\n      <td>7829</td>\n      <td>3.915136</td>\n      <td>6</td>\n    </tr>\n    <tr>\n      <th>16694814</th>\n      <td>0</td>\n      <td>12192</td>\n      <td>3.466101</td>\n      <td>7</td>\n    </tr>\n    <tr>\n      <th>16694807</th>\n      <td>0</td>\n      <td>9728</td>\n      <td>2.683715</td>\n      <td>8</td>\n    </tr>\n    <tr>\n      <th>16694808</th>\n      <td>0</td>\n      <td>10440</td>\n      <td>2.390548</td>\n      <td>9</td>\n    </tr>\n    <tr>\n      <th>16694813</th>\n      <td>0</td>\n      <td>15297</td>\n      <td>2.356323</td>\n      <td>10</td>\n    </tr>\n  </tbody>\n</table>\n<p>5168653 rows × 4 columns</p>\n</div>"
     },
     "execution_count": 85,
     "metadata": {},
     "output_type": "execute_result"
    }
   ],
   "source": [
    "%%time\n",
    "\n",
    "predictions = loaded_model.predict(interactions.df)\n",
    "predictions"
   ],
   "metadata": {
    "collapsed": false,
    "ExecuteTime": {
     "end_time": "2023-11-27T20:21:52.838344800Z",
     "start_time": "2023-11-27T20:18:33.860454200Z"
    }
   },
   "id": "211a10e55c493697"
  },
  {
   "cell_type": "code",
   "execution_count": 120,
   "outputs": [
    {
     "data": {
      "text/plain": "Dask DataFrame Structure:\n               user_id item_id   score   rank\nnpartitions=50                               \n0                int64  object  object  int64\n330461             ...     ...     ...    ...\n...                ...     ...     ...    ...\n16359630           ...     ...     ...    ...\n16694816           ...     ...     ...    ...\nDask Name: from_pandas, 1 graph layer",
      "text/html": "<div><strong>Dask DataFrame Structure:</strong></div>\n<div>\n<style scoped>\n    .dataframe tbody tr th:only-of-type {\n        vertical-align: middle;\n    }\n\n    .dataframe tbody tr th {\n        vertical-align: top;\n    }\n\n    .dataframe thead th {\n        text-align: right;\n    }\n</style>\n<table border=\"1\" class=\"dataframe\">\n  <thead>\n    <tr style=\"text-align: right;\">\n      <th></th>\n      <th>user_id</th>\n      <th>item_id</th>\n      <th>score</th>\n      <th>rank</th>\n    </tr>\n    <tr>\n      <th>npartitions=50</th>\n      <th></th>\n      <th></th>\n      <th></th>\n      <th></th>\n    </tr>\n  </thead>\n  <tbody>\n    <tr>\n      <th>0</th>\n      <td>int64</td>\n      <td>object</td>\n      <td>object</td>\n      <td>int64</td>\n    </tr>\n    <tr>\n      <th>330461</th>\n      <td>...</td>\n      <td>...</td>\n      <td>...</td>\n      <td>...</td>\n    </tr>\n    <tr>\n      <th>...</th>\n      <td>...</td>\n      <td>...</td>\n      <td>...</td>\n      <td>...</td>\n    </tr>\n    <tr>\n      <th>16359630</th>\n      <td>...</td>\n      <td>...</td>\n      <td>...</td>\n      <td>...</td>\n    </tr>\n    <tr>\n      <th>16694816</th>\n      <td>...</td>\n      <td>...</td>\n      <td>...</td>\n      <td>...</td>\n    </tr>\n  </tbody>\n</table>\n</div>\n<div>Dask Name: from_pandas, 1 graph layer</div>"
     },
     "execution_count": 120,
     "metadata": {},
     "output_type": "execute_result"
    }
   ],
   "source": [
    "import dask.dataframe as dd\n",
    "\n",
    "a = dd.from_pandas(predictions, npartitions=50)\n",
    "a"
   ],
   "metadata": {
    "collapsed": false,
    "ExecuteTime": {
     "end_time": "2023-11-27T20:43:03.506279400Z",
     "start_time": "2023-11-27T20:42:56.776707100Z"
    }
   },
   "id": "ee5086b993945458"
  },
  {
   "cell_type": "code",
   "execution_count": 133,
   "outputs": [
    {
     "name": "stdout",
     "output_type": "stream",
     "text": [
      "CPU times: total: 15.6 ms\n",
      "Wall time: 8 ms\n"
     ]
    }
   ],
   "source": [
    "%%time\n",
    "\n",
    "dask_df = a.groupby('user_id')['item_id'].apply(list).reset_index()"
   ],
   "metadata": {
    "collapsed": false,
    "ExecuteTime": {
     "end_time": "2023-11-27T20:53:02.803571200Z",
     "start_time": "2023-11-27T20:53:02.778572500Z"
    }
   },
   "id": "163a07dbd4cc5d35"
  },
  {
   "cell_type": "code",
   "execution_count": 135,
   "outputs": [],
   "source": [
    "import numpy as np\n",
    "\n",
    "dask_df['item_id'] = dask_df.apply(lambda x: np.concatenate((x['item_id'], warm_recs[warm_recs['user_id'] == x['user_id']]['item_id']), axis=None), axis=1)\n",
    "dask_df['item_id'] = dask_df['item_id'].apply(lambda x: np.concatenate((x, [25, 21, 32, 16, 174, 84, 93, 142, 370, 122]), axis=None))"
   ],
   "metadata": {
    "collapsed": false,
    "ExecuteTime": {
     "end_time": "2023-11-27T20:57:32.964033200Z",
     "start_time": "2023-11-27T20:57:32.430377400Z"
    }
   },
   "id": "e6a280d8c606ee53"
  },
  {
   "cell_type": "code",
   "execution_count": 136,
   "outputs": [],
   "source": [
    "dask_df['item_id'] = dask_df['item_id'].apply(lambda x: list(dict.fromkeys(x))[:10])"
   ],
   "metadata": {
    "collapsed": false,
    "ExecuteTime": {
     "end_time": "2023-11-27T20:57:35.075721200Z",
     "start_time": "2023-11-27T20:57:35.055722300Z"
    }
   },
   "id": "f5c77073b899292e"
  },
  {
   "cell_type": "code",
   "execution_count": 137,
   "outputs": [
    {
     "ename": "TypeError",
     "evalue": "unhashable type: 'list'",
     "output_type": "error",
     "traceback": [
      "\u001B[1;31m---------------------------------------------------------------------------\u001B[0m",
      "\u001B[1;31mTypeError\u001B[0m                                 Traceback (most recent call last)",
      "Cell \u001B[1;32mIn[137], line 1\u001B[0m\n\u001B[1;32m----> 1\u001B[0m \u001B[43mdask_df\u001B[49m\u001B[38;5;241;43m.\u001B[39;49m\u001B[43mtail\u001B[49m\u001B[43m(\u001B[49m\u001B[43m)\u001B[49m\n",
      "File \u001B[1;32m~\\AppData\\Local\\pypoetry\\Cache\\virtualenvs\\recoservice-Q0zB1aiD-py3.10\\lib\\site-packages\\dask\\dataframe\\core.py:1589\u001B[0m, in \u001B[0;36m_Frame.tail\u001B[1;34m(self, n, compute)\u001B[0m\n\u001B[0;32m   1586\u001B[0m result \u001B[38;5;241m=\u001B[39m new_dd_object(graph, name, \u001B[38;5;28mself\u001B[39m\u001B[38;5;241m.\u001B[39m_meta, \u001B[38;5;28mself\u001B[39m\u001B[38;5;241m.\u001B[39mdivisions[\u001B[38;5;241m-\u001B[39m\u001B[38;5;241m2\u001B[39m:])\n\u001B[0;32m   1588\u001B[0m \u001B[38;5;28;01mif\u001B[39;00m compute:\n\u001B[1;32m-> 1589\u001B[0m     result \u001B[38;5;241m=\u001B[39m \u001B[43mresult\u001B[49m\u001B[38;5;241;43m.\u001B[39;49m\u001B[43mcompute\u001B[49m\u001B[43m(\u001B[49m\u001B[43m)\u001B[49m\n\u001B[0;32m   1590\u001B[0m \u001B[38;5;28;01mreturn\u001B[39;00m result\n",
      "File \u001B[1;32m~\\AppData\\Local\\pypoetry\\Cache\\virtualenvs\\recoservice-Q0zB1aiD-py3.10\\lib\\site-packages\\dask\\base.py:342\u001B[0m, in \u001B[0;36mDaskMethodsMixin.compute\u001B[1;34m(self, **kwargs)\u001B[0m\n\u001B[0;32m    318\u001B[0m \u001B[38;5;28;01mdef\u001B[39;00m \u001B[38;5;21mcompute\u001B[39m(\u001B[38;5;28mself\u001B[39m, \u001B[38;5;241m*\u001B[39m\u001B[38;5;241m*\u001B[39mkwargs):\n\u001B[0;32m    319\u001B[0m \u001B[38;5;250m    \u001B[39m\u001B[38;5;124;03m\"\"\"Compute this dask collection\u001B[39;00m\n\u001B[0;32m    320\u001B[0m \n\u001B[0;32m    321\u001B[0m \u001B[38;5;124;03m    This turns a lazy Dask collection into its in-memory equivalent.\u001B[39;00m\n\u001B[1;32m   (...)\u001B[0m\n\u001B[0;32m    340\u001B[0m \u001B[38;5;124;03m    dask.compute\u001B[39;00m\n\u001B[0;32m    341\u001B[0m \u001B[38;5;124;03m    \"\"\"\u001B[39;00m\n\u001B[1;32m--> 342\u001B[0m     (result,) \u001B[38;5;241m=\u001B[39m compute(\u001B[38;5;28mself\u001B[39m, traverse\u001B[38;5;241m=\u001B[39m\u001B[38;5;28;01mFalse\u001B[39;00m, \u001B[38;5;241m*\u001B[39m\u001B[38;5;241m*\u001B[39mkwargs)\n\u001B[0;32m    343\u001B[0m     \u001B[38;5;28;01mreturn\u001B[39;00m result\n",
      "File \u001B[1;32m~\\AppData\\Local\\pypoetry\\Cache\\virtualenvs\\recoservice-Q0zB1aiD-py3.10\\lib\\site-packages\\dask\\base.py:628\u001B[0m, in \u001B[0;36mcompute\u001B[1;34m(traverse, optimize_graph, scheduler, get, *args, **kwargs)\u001B[0m\n\u001B[0;32m    625\u001B[0m     postcomputes\u001B[38;5;241m.\u001B[39mappend(x\u001B[38;5;241m.\u001B[39m__dask_postcompute__())\n\u001B[0;32m    627\u001B[0m \u001B[38;5;28;01mwith\u001B[39;00m shorten_traceback():\n\u001B[1;32m--> 628\u001B[0m     results \u001B[38;5;241m=\u001B[39m schedule(dsk, keys, \u001B[38;5;241m*\u001B[39m\u001B[38;5;241m*\u001B[39mkwargs)\n\u001B[0;32m    630\u001B[0m \u001B[38;5;28;01mreturn\u001B[39;00m repack([f(r, \u001B[38;5;241m*\u001B[39ma) \u001B[38;5;28;01mfor\u001B[39;00m r, (f, a) \u001B[38;5;129;01min\u001B[39;00m \u001B[38;5;28mzip\u001B[39m(results, postcomputes)])\n",
      "File \u001B[1;32m~\\AppData\\Local\\pypoetry\\Cache\\virtualenvs\\recoservice-Q0zB1aiD-py3.10\\lib\\site-packages\\pandas\\_libs\\lib.pyx:2924\u001B[0m, in \u001B[0;36mpandas._libs.lib.map_infer\u001B[1;34m()\u001B[0m\n",
      "Cell \u001B[1;32mIn[136], line 1\u001B[0m, in \u001B[0;36m<lambda>\u001B[1;34m(x)\u001B[0m\n\u001B[1;32m----> 1\u001B[0m dask_df[\u001B[38;5;124m'\u001B[39m\u001B[38;5;124mitem_id\u001B[39m\u001B[38;5;124m'\u001B[39m] \u001B[38;5;241m=\u001B[39m dask_df[\u001B[38;5;124m'\u001B[39m\u001B[38;5;124mitem_id\u001B[39m\u001B[38;5;124m'\u001B[39m]\u001B[38;5;241m.\u001B[39mapply(\u001B[38;5;28;01mlambda\u001B[39;00m x: \u001B[38;5;28mlist\u001B[39m(\u001B[38;5;28;43mdict\u001B[39;49m\u001B[38;5;241;43m.\u001B[39;49m\u001B[43mfromkeys\u001B[49m\u001B[43m(\u001B[49m\u001B[43mx\u001B[49m\u001B[43m)\u001B[49m)[:\u001B[38;5;241m10\u001B[39m])\n",
      "\u001B[1;31mTypeError\u001B[0m: unhashable type: 'list'"
     ]
    }
   ],
   "source": [
    "dask_df.tail()"
   ],
   "metadata": {
    "collapsed": false,
    "ExecuteTime": {
     "end_time": "2023-11-27T20:57:45.624569100Z",
     "start_time": "2023-11-27T20:57:36.196794500Z"
    }
   },
   "id": "d80909aff522651b"
  },
  {
   "cell_type": "code",
   "execution_count": 138,
   "outputs": [
    {
     "ename": "TypeError",
     "evalue": "unhashable type: 'list'",
     "output_type": "error",
     "traceback": [
      "\u001B[1;31m---------------------------------------------------------------------------\u001B[0m",
      "\u001B[1;31mTypeError\u001B[0m                                 Traceback (most recent call last)",
      "Cell \u001B[1;32mIn[138], line 1\u001B[0m\n\u001B[1;32m----> 1\u001B[0m \u001B[43mdask_df\u001B[49m\u001B[38;5;241;43m.\u001B[39;49m\u001B[43mto_json\u001B[49m\u001B[43m(\u001B[49m\u001B[38;5;124;43m\"\u001B[39;49m\u001B[38;5;124;43mdata.json\u001B[39;49m\u001B[38;5;124;43m\"\u001B[39;49m\u001B[43m)\u001B[49m\n",
      "File \u001B[1;32m~\\AppData\\Local\\pypoetry\\Cache\\virtualenvs\\recoservice-Q0zB1aiD-py3.10\\lib\\site-packages\\dask\\dataframe\\core.py:2040\u001B[0m, in \u001B[0;36m_Frame.to_json\u001B[1;34m(self, filename, *args, **kwargs)\u001B[0m\n\u001B[0;32m   2037\u001B[0m \u001B[38;5;250m\u001B[39m\u001B[38;5;124;03m\"\"\"See dd.to_json docstring for more information\"\"\"\u001B[39;00m\n\u001B[0;32m   2038\u001B[0m \u001B[38;5;28;01mfrom\u001B[39;00m \u001B[38;5;21;01mdask\u001B[39;00m\u001B[38;5;21;01m.\u001B[39;00m\u001B[38;5;21;01mdataframe\u001B[39;00m\u001B[38;5;21;01m.\u001B[39;00m\u001B[38;5;21;01mio\u001B[39;00m \u001B[38;5;28;01mimport\u001B[39;00m to_json\n\u001B[1;32m-> 2040\u001B[0m \u001B[38;5;28;01mreturn\u001B[39;00m to_json(\u001B[38;5;28mself\u001B[39m, filename, \u001B[38;5;241m*\u001B[39margs, \u001B[38;5;241m*\u001B[39m\u001B[38;5;241m*\u001B[39mkwargs)\n",
      "File \u001B[1;32m~\\AppData\\Local\\pypoetry\\Cache\\virtualenvs\\recoservice-Q0zB1aiD-py3.10\\lib\\site-packages\\dask\\dataframe\\io\\json.py:98\u001B[0m, in \u001B[0;36mto_json\u001B[1;34m(df, url_path, orient, lines, storage_options, compute, encoding, errors, compression, compute_kwargs, name_function, **kwargs)\u001B[0m\n\u001B[0;32m     96\u001B[0m     \u001B[38;5;28;01mif\u001B[39;00m compute_kwargs \u001B[38;5;129;01mis\u001B[39;00m \u001B[38;5;28;01mNone\u001B[39;00m:\n\u001B[0;32m     97\u001B[0m         compute_kwargs \u001B[38;5;241m=\u001B[39m \u001B[38;5;28mdict\u001B[39m()\n\u001B[1;32m---> 98\u001B[0m     \u001B[38;5;28;01mreturn\u001B[39;00m \u001B[38;5;28mlist\u001B[39m(dask_compute(\u001B[38;5;241m*\u001B[39mparts, \u001B[38;5;241m*\u001B[39m\u001B[38;5;241m*\u001B[39mcompute_kwargs))\n\u001B[0;32m     99\u001B[0m \u001B[38;5;28;01melse\u001B[39;00m:\n\u001B[0;32m    100\u001B[0m     \u001B[38;5;28;01mreturn\u001B[39;00m parts\n",
      "File \u001B[1;32m~\\AppData\\Local\\pypoetry\\Cache\\virtualenvs\\recoservice-Q0zB1aiD-py3.10\\lib\\site-packages\\dask\\base.py:628\u001B[0m, in \u001B[0;36mcompute\u001B[1;34m(traverse, optimize_graph, scheduler, get, *args, **kwargs)\u001B[0m\n\u001B[0;32m    625\u001B[0m     postcomputes\u001B[38;5;241m.\u001B[39mappend(x\u001B[38;5;241m.\u001B[39m__dask_postcompute__())\n\u001B[0;32m    627\u001B[0m \u001B[38;5;28;01mwith\u001B[39;00m shorten_traceback():\n\u001B[1;32m--> 628\u001B[0m     results \u001B[38;5;241m=\u001B[39m schedule(dsk, keys, \u001B[38;5;241m*\u001B[39m\u001B[38;5;241m*\u001B[39mkwargs)\n\u001B[0;32m    630\u001B[0m \u001B[38;5;28;01mreturn\u001B[39;00m repack([f(r, \u001B[38;5;241m*\u001B[39ma) \u001B[38;5;28;01mfor\u001B[39;00m r, (f, a) \u001B[38;5;129;01min\u001B[39;00m \u001B[38;5;28mzip\u001B[39m(results, postcomputes)])\n",
      "File \u001B[1;32m~\\AppData\\Local\\pypoetry\\Cache\\virtualenvs\\recoservice-Q0zB1aiD-py3.10\\lib\\site-packages\\pandas\\_libs\\lib.pyx:2924\u001B[0m, in \u001B[0;36mpandas._libs.lib.map_infer\u001B[1;34m()\u001B[0m\n",
      "Cell \u001B[1;32mIn[136], line 1\u001B[0m, in \u001B[0;36m<lambda>\u001B[1;34m(x)\u001B[0m\n\u001B[1;32m----> 1\u001B[0m dask_df[\u001B[38;5;124m'\u001B[39m\u001B[38;5;124mitem_id\u001B[39m\u001B[38;5;124m'\u001B[39m] \u001B[38;5;241m=\u001B[39m dask_df[\u001B[38;5;124m'\u001B[39m\u001B[38;5;124mitem_id\u001B[39m\u001B[38;5;124m'\u001B[39m]\u001B[38;5;241m.\u001B[39mapply(\u001B[38;5;28;01mlambda\u001B[39;00m x: \u001B[38;5;28mlist\u001B[39m(\u001B[38;5;28;43mdict\u001B[39;49m\u001B[38;5;241;43m.\u001B[39;49m\u001B[43mfromkeys\u001B[49m\u001B[43m(\u001B[49m\u001B[43mx\u001B[49m\u001B[43m)\u001B[49m)[:\u001B[38;5;241m10\u001B[39m])\n",
      "\u001B[1;31mTypeError\u001B[0m: unhashable type: 'list'"
     ]
    }
   ],
   "source": [
    "dask_df.to_json(\"data.json\")"
   ],
   "metadata": {
    "collapsed": false,
    "ExecuteTime": {
     "end_time": "2023-11-27T21:00:15.218758900Z",
     "start_time": "2023-11-27T20:57:46.201771200Z"
    }
   },
   "id": "93e946c52666a3bb"
  },
  {
   "cell_type": "code",
   "execution_count": 130,
   "outputs": [
    {
     "data": {
      "text/plain": "[32, 25, 21, 16, 57, 148, 527, 103, 174, 84]"
     },
     "execution_count": 130,
     "metadata": {},
     "output_type": "execute_result"
    }
   ],
   "source": [
    "list(popular_model.popularity_list[0][:10])"
   ],
   "metadata": {
    "collapsed": false,
    "ExecuteTime": {
     "end_time": "2023-11-27T20:52:38.972538600Z",
     "start_time": "2023-11-27T20:52:38.929539500Z"
    }
   },
   "id": "4228a4748192220d"
  },
  {
   "cell_type": "code",
   "execution_count": null,
   "outputs": [],
   "source": [
    "\n",
    "\n",
    "from tqdm import tqdm\n",
    "import os\n",
    "import json\n",
    "res = {}\n",
    "for _, _,files in os.walk(\"data.json\"):\n",
    "    for file in tqdm(files):\n",
    "        for line in open(f\"data.json/{file}\", 'r').readlines():\n",
    "            i = json.loads(line)\n",
    "            res[i['user_id']] = i['item_id']\n",
    "\n",
    "res"
   ],
   "metadata": {
    "collapsed": false,
    "ExecuteTime": {
     "start_time": "2023-11-27T21:00:15.258162200Z"
    }
   },
   "id": "345c46e53f50a06c"
  },
  {
   "cell_type": "code",
   "execution_count": null,
   "outputs": [],
   "source": [
    "with open('final.json', 'w') as f:\n",
    "    json.dump(res, f)"
   ],
   "metadata": {
    "collapsed": false,
    "ExecuteTime": {
     "start_time": "2023-11-27T21:00:15.266761Z"
    }
   },
   "id": "448b0ac5aef3aaf3"
  },
  {
   "cell_type": "code",
   "execution_count": null,
   "outputs": [],
   "source": [],
   "metadata": {
    "collapsed": false
   },
   "id": "51c7ac6632f60582"
  }
 ],
 "metadata": {
  "kernelspec": {
   "display_name": "Python 3",
   "language": "python",
   "name": "python3"
  },
  "language_info": {
   "codemirror_mode": {
    "name": "ipython",
    "version": 2
   },
   "file_extension": ".py",
   "mimetype": "text/x-python",
   "name": "python",
   "nbconvert_exporter": "python",
   "pygments_lexer": "ipython2",
   "version": "2.7.6"
  }
 },
 "nbformat": 4,
 "nbformat_minor": 5
}
