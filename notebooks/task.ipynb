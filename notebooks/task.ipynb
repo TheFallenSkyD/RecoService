{
 "cells": [
  {
   "cell_type": "code",
   "execution_count": 55,
   "id": "b35b8075-3d92-4347-9f16-8fc0b0333684",
   "metadata": {
    "ExecuteTime": {
     "end_time": "2023-11-20T13:24:43.923174300Z",
     "start_time": "2023-11-20T13:24:43.903173400Z"
    }
   },
   "outputs": [],
   "source": [
    "import time\n",
    "from copy import deepcopy\n",
    "from typing import Callable, Any\n",
    "\n",
    "import numpy as np\n",
    "import pandas as pd\n",
    "from tqdm.auto import tqdm"
   ]
  },
  {
   "cell_type": "code",
   "execution_count": 56,
   "id": "48f110e6-5dfb-4c7d-a4fd-6dd2de2921de",
   "metadata": {
    "ExecuteTime": {
     "end_time": "2023-11-20T13:24:43.944173800Z",
     "start_time": "2023-11-20T13:24:43.915173900Z"
    }
   },
   "outputs": [],
   "source": [
    "import rectools\n",
    "from rectools.dataset import Interactions, Dataset\n",
    "from rectools.model_selection import Splitter\n",
    "from rectools.models.base import ModelBase\n",
    "from rectools.models import RandomModel, PopularModel\n",
    "from rectools.metrics.base import MetricAtK\n",
    "from rectools.metrics import (\n",
    "    Precision,\n",
    "    Recall,\n",
    "    MAP,\n",
    "    NDCG,\n",
    "    MeanInvUserFreq,\n",
    "    calc_metrics,\n",
    ")"
   ]
  },
  {
   "cell_type": "markdown",
   "source": [
    "# Read Data"
   ],
   "metadata": {
    "collapsed": false
   },
   "id": "dc80ef2ec71cff31"
  },
  {
   "cell_type": "code",
   "execution_count": 57,
   "outputs": [
    {
     "ename": "FileNotFoundError",
     "evalue": "[Errno 2] No such file or directory: '../datasets/interactions.csv'",
     "output_type": "error",
     "traceback": [
      "\u001B[1;31m---------------------------------------------------------------------------\u001B[0m",
      "\u001B[1;31mFileNotFoundError\u001B[0m                         Traceback (most recent call last)",
      "Cell \u001B[1;32mIn[57], line 1\u001B[0m\n\u001B[1;32m----> 1\u001B[0m interactions_df \u001B[38;5;241m=\u001B[39m \u001B[43mpd\u001B[49m\u001B[38;5;241;43m.\u001B[39;49m\u001B[43mread_csv\u001B[49m\u001B[43m(\u001B[49m\u001B[38;5;124;43m\"\u001B[39;49m\u001B[38;5;124;43m../datasets/interactions.csv\u001B[39;49m\u001B[38;5;124;43m\"\u001B[39;49m\u001B[43m,\u001B[49m\u001B[43m \u001B[49m\u001B[43mparse_dates\u001B[49m\u001B[38;5;241;43m=\u001B[39;49m\u001B[43m[\u001B[49m\u001B[38;5;124;43m\"\u001B[39;49m\u001B[38;5;124;43mlast_watch_dt\u001B[39;49m\u001B[38;5;124;43m\"\u001B[39;49m\u001B[43m]\u001B[49m\u001B[43m)\u001B[49m\n\u001B[0;32m      2\u001B[0m interactions_df\u001B[38;5;241m.\u001B[39mrename(\n\u001B[0;32m      3\u001B[0m     columns\u001B[38;5;241m=\u001B[39m{\u001B[38;5;124m\"\u001B[39m\u001B[38;5;124mlast_watch_dt\u001B[39m\u001B[38;5;124m\"\u001B[39m: rectools\u001B[38;5;241m.\u001B[39mColumns\u001B[38;5;241m.\u001B[39mDatetime, \u001B[38;5;124m\"\u001B[39m\u001B[38;5;124mtotal_dur\u001B[39m\u001B[38;5;124m\"\u001B[39m: rectools\u001B[38;5;241m.\u001B[39mColumns\u001B[38;5;241m.\u001B[39mWeight},\n\u001B[0;32m      4\u001B[0m     inplace\u001B[38;5;241m=\u001B[39m\u001B[38;5;28;01mTrue\u001B[39;00m\n\u001B[0;32m      5\u001B[0m )\n\u001B[0;32m      6\u001B[0m interactions \u001B[38;5;241m=\u001B[39m Interactions(interactions_df)\n",
      "File \u001B[1;32m~\\AppData\\Local\\pypoetry\\Cache\\virtualenvs\\recoservice-Q0zB1aiD-py3.10\\lib\\site-packages\\pandas\\util\\_decorators.py:211\u001B[0m, in \u001B[0;36mdeprecate_kwarg.<locals>._deprecate_kwarg.<locals>.wrapper\u001B[1;34m(*args, **kwargs)\u001B[0m\n\u001B[0;32m    209\u001B[0m     \u001B[38;5;28;01melse\u001B[39;00m:\n\u001B[0;32m    210\u001B[0m         kwargs[new_arg_name] \u001B[38;5;241m=\u001B[39m new_arg_value\n\u001B[1;32m--> 211\u001B[0m \u001B[38;5;28;01mreturn\u001B[39;00m func(\u001B[38;5;241m*\u001B[39margs, \u001B[38;5;241m*\u001B[39m\u001B[38;5;241m*\u001B[39mkwargs)\n",
      "File \u001B[1;32m~\\AppData\\Local\\pypoetry\\Cache\\virtualenvs\\recoservice-Q0zB1aiD-py3.10\\lib\\site-packages\\pandas\\util\\_decorators.py:331\u001B[0m, in \u001B[0;36mdeprecate_nonkeyword_arguments.<locals>.decorate.<locals>.wrapper\u001B[1;34m(*args, **kwargs)\u001B[0m\n\u001B[0;32m    325\u001B[0m \u001B[38;5;28;01mif\u001B[39;00m \u001B[38;5;28mlen\u001B[39m(args) \u001B[38;5;241m>\u001B[39m num_allow_args:\n\u001B[0;32m    326\u001B[0m     warnings\u001B[38;5;241m.\u001B[39mwarn(\n\u001B[0;32m    327\u001B[0m         msg\u001B[38;5;241m.\u001B[39mformat(arguments\u001B[38;5;241m=\u001B[39m_format_argument_list(allow_args)),\n\u001B[0;32m    328\u001B[0m         \u001B[38;5;167;01mFutureWarning\u001B[39;00m,\n\u001B[0;32m    329\u001B[0m         stacklevel\u001B[38;5;241m=\u001B[39mfind_stack_level(),\n\u001B[0;32m    330\u001B[0m     )\n\u001B[1;32m--> 331\u001B[0m \u001B[38;5;28;01mreturn\u001B[39;00m func(\u001B[38;5;241m*\u001B[39margs, \u001B[38;5;241m*\u001B[39m\u001B[38;5;241m*\u001B[39mkwargs)\n",
      "File \u001B[1;32m~\\AppData\\Local\\pypoetry\\Cache\\virtualenvs\\recoservice-Q0zB1aiD-py3.10\\lib\\site-packages\\pandas\\io\\parsers\\readers.py:950\u001B[0m, in \u001B[0;36mread_csv\u001B[1;34m(filepath_or_buffer, sep, delimiter, header, names, index_col, usecols, squeeze, prefix, mangle_dupe_cols, dtype, engine, converters, true_values, false_values, skipinitialspace, skiprows, skipfooter, nrows, na_values, keep_default_na, na_filter, verbose, skip_blank_lines, parse_dates, infer_datetime_format, keep_date_col, date_parser, dayfirst, cache_dates, iterator, chunksize, compression, thousands, decimal, lineterminator, quotechar, quoting, doublequote, escapechar, comment, encoding, encoding_errors, dialect, error_bad_lines, warn_bad_lines, on_bad_lines, delim_whitespace, low_memory, memory_map, float_precision, storage_options)\u001B[0m\n\u001B[0;32m    935\u001B[0m kwds_defaults \u001B[38;5;241m=\u001B[39m _refine_defaults_read(\n\u001B[0;32m    936\u001B[0m     dialect,\n\u001B[0;32m    937\u001B[0m     delimiter,\n\u001B[1;32m   (...)\u001B[0m\n\u001B[0;32m    946\u001B[0m     defaults\u001B[38;5;241m=\u001B[39m{\u001B[38;5;124m\"\u001B[39m\u001B[38;5;124mdelimiter\u001B[39m\u001B[38;5;124m\"\u001B[39m: \u001B[38;5;124m\"\u001B[39m\u001B[38;5;124m,\u001B[39m\u001B[38;5;124m\"\u001B[39m},\n\u001B[0;32m    947\u001B[0m )\n\u001B[0;32m    948\u001B[0m kwds\u001B[38;5;241m.\u001B[39mupdate(kwds_defaults)\n\u001B[1;32m--> 950\u001B[0m \u001B[38;5;28;01mreturn\u001B[39;00m \u001B[43m_read\u001B[49m\u001B[43m(\u001B[49m\u001B[43mfilepath_or_buffer\u001B[49m\u001B[43m,\u001B[49m\u001B[43m \u001B[49m\u001B[43mkwds\u001B[49m\u001B[43m)\u001B[49m\n",
      "File \u001B[1;32m~\\AppData\\Local\\pypoetry\\Cache\\virtualenvs\\recoservice-Q0zB1aiD-py3.10\\lib\\site-packages\\pandas\\io\\parsers\\readers.py:605\u001B[0m, in \u001B[0;36m_read\u001B[1;34m(filepath_or_buffer, kwds)\u001B[0m\n\u001B[0;32m    602\u001B[0m _validate_names(kwds\u001B[38;5;241m.\u001B[39mget(\u001B[38;5;124m\"\u001B[39m\u001B[38;5;124mnames\u001B[39m\u001B[38;5;124m\"\u001B[39m, \u001B[38;5;28;01mNone\u001B[39;00m))\n\u001B[0;32m    604\u001B[0m \u001B[38;5;66;03m# Create the parser.\u001B[39;00m\n\u001B[1;32m--> 605\u001B[0m parser \u001B[38;5;241m=\u001B[39m TextFileReader(filepath_or_buffer, \u001B[38;5;241m*\u001B[39m\u001B[38;5;241m*\u001B[39mkwds)\n\u001B[0;32m    607\u001B[0m \u001B[38;5;28;01mif\u001B[39;00m chunksize \u001B[38;5;129;01mor\u001B[39;00m iterator:\n\u001B[0;32m    608\u001B[0m     \u001B[38;5;28;01mreturn\u001B[39;00m parser\n",
      "File \u001B[1;32m~\\AppData\\Local\\pypoetry\\Cache\\virtualenvs\\recoservice-Q0zB1aiD-py3.10\\lib\\site-packages\\pandas\\io\\parsers\\readers.py:1442\u001B[0m, in \u001B[0;36mTextFileReader.__init__\u001B[1;34m(self, f, engine, **kwds)\u001B[0m\n\u001B[0;32m   1439\u001B[0m     \u001B[38;5;28mself\u001B[39m\u001B[38;5;241m.\u001B[39moptions[\u001B[38;5;124m\"\u001B[39m\u001B[38;5;124mhas_index_names\u001B[39m\u001B[38;5;124m\"\u001B[39m] \u001B[38;5;241m=\u001B[39m kwds[\u001B[38;5;124m\"\u001B[39m\u001B[38;5;124mhas_index_names\u001B[39m\u001B[38;5;124m\"\u001B[39m]\n\u001B[0;32m   1441\u001B[0m \u001B[38;5;28mself\u001B[39m\u001B[38;5;241m.\u001B[39mhandles: IOHandles \u001B[38;5;241m|\u001B[39m \u001B[38;5;28;01mNone\u001B[39;00m \u001B[38;5;241m=\u001B[39m \u001B[38;5;28;01mNone\u001B[39;00m\n\u001B[1;32m-> 1442\u001B[0m \u001B[38;5;28mself\u001B[39m\u001B[38;5;241m.\u001B[39m_engine \u001B[38;5;241m=\u001B[39m \u001B[38;5;28;43mself\u001B[39;49m\u001B[38;5;241;43m.\u001B[39;49m\u001B[43m_make_engine\u001B[49m\u001B[43m(\u001B[49m\u001B[43mf\u001B[49m\u001B[43m,\u001B[49m\u001B[43m \u001B[49m\u001B[38;5;28;43mself\u001B[39;49m\u001B[38;5;241;43m.\u001B[39;49m\u001B[43mengine\u001B[49m\u001B[43m)\u001B[49m\n",
      "File \u001B[1;32m~\\AppData\\Local\\pypoetry\\Cache\\virtualenvs\\recoservice-Q0zB1aiD-py3.10\\lib\\site-packages\\pandas\\io\\parsers\\readers.py:1735\u001B[0m, in \u001B[0;36mTextFileReader._make_engine\u001B[1;34m(self, f, engine)\u001B[0m\n\u001B[0;32m   1733\u001B[0m     \u001B[38;5;28;01mif\u001B[39;00m \u001B[38;5;124m\"\u001B[39m\u001B[38;5;124mb\u001B[39m\u001B[38;5;124m\"\u001B[39m \u001B[38;5;129;01mnot\u001B[39;00m \u001B[38;5;129;01min\u001B[39;00m mode:\n\u001B[0;32m   1734\u001B[0m         mode \u001B[38;5;241m+\u001B[39m\u001B[38;5;241m=\u001B[39m \u001B[38;5;124m\"\u001B[39m\u001B[38;5;124mb\u001B[39m\u001B[38;5;124m\"\u001B[39m\n\u001B[1;32m-> 1735\u001B[0m \u001B[38;5;28mself\u001B[39m\u001B[38;5;241m.\u001B[39mhandles \u001B[38;5;241m=\u001B[39m \u001B[43mget_handle\u001B[49m\u001B[43m(\u001B[49m\n\u001B[0;32m   1736\u001B[0m \u001B[43m    \u001B[49m\u001B[43mf\u001B[49m\u001B[43m,\u001B[49m\n\u001B[0;32m   1737\u001B[0m \u001B[43m    \u001B[49m\u001B[43mmode\u001B[49m\u001B[43m,\u001B[49m\n\u001B[0;32m   1738\u001B[0m \u001B[43m    \u001B[49m\u001B[43mencoding\u001B[49m\u001B[38;5;241;43m=\u001B[39;49m\u001B[38;5;28;43mself\u001B[39;49m\u001B[38;5;241;43m.\u001B[39;49m\u001B[43moptions\u001B[49m\u001B[38;5;241;43m.\u001B[39;49m\u001B[43mget\u001B[49m\u001B[43m(\u001B[49m\u001B[38;5;124;43m\"\u001B[39;49m\u001B[38;5;124;43mencoding\u001B[39;49m\u001B[38;5;124;43m\"\u001B[39;49m\u001B[43m,\u001B[49m\u001B[43m \u001B[49m\u001B[38;5;28;43;01mNone\u001B[39;49;00m\u001B[43m)\u001B[49m\u001B[43m,\u001B[49m\n\u001B[0;32m   1739\u001B[0m \u001B[43m    \u001B[49m\u001B[43mcompression\u001B[49m\u001B[38;5;241;43m=\u001B[39;49m\u001B[38;5;28;43mself\u001B[39;49m\u001B[38;5;241;43m.\u001B[39;49m\u001B[43moptions\u001B[49m\u001B[38;5;241;43m.\u001B[39;49m\u001B[43mget\u001B[49m\u001B[43m(\u001B[49m\u001B[38;5;124;43m\"\u001B[39;49m\u001B[38;5;124;43mcompression\u001B[39;49m\u001B[38;5;124;43m\"\u001B[39;49m\u001B[43m,\u001B[49m\u001B[43m \u001B[49m\u001B[38;5;28;43;01mNone\u001B[39;49;00m\u001B[43m)\u001B[49m\u001B[43m,\u001B[49m\n\u001B[0;32m   1740\u001B[0m \u001B[43m    \u001B[49m\u001B[43mmemory_map\u001B[49m\u001B[38;5;241;43m=\u001B[39;49m\u001B[38;5;28;43mself\u001B[39;49m\u001B[38;5;241;43m.\u001B[39;49m\u001B[43moptions\u001B[49m\u001B[38;5;241;43m.\u001B[39;49m\u001B[43mget\u001B[49m\u001B[43m(\u001B[49m\u001B[38;5;124;43m\"\u001B[39;49m\u001B[38;5;124;43mmemory_map\u001B[39;49m\u001B[38;5;124;43m\"\u001B[39;49m\u001B[43m,\u001B[49m\u001B[43m \u001B[49m\u001B[38;5;28;43;01mFalse\u001B[39;49;00m\u001B[43m)\u001B[49m\u001B[43m,\u001B[49m\n\u001B[0;32m   1741\u001B[0m \u001B[43m    \u001B[49m\u001B[43mis_text\u001B[49m\u001B[38;5;241;43m=\u001B[39;49m\u001B[43mis_text\u001B[49m\u001B[43m,\u001B[49m\n\u001B[0;32m   1742\u001B[0m \u001B[43m    \u001B[49m\u001B[43merrors\u001B[49m\u001B[38;5;241;43m=\u001B[39;49m\u001B[38;5;28;43mself\u001B[39;49m\u001B[38;5;241;43m.\u001B[39;49m\u001B[43moptions\u001B[49m\u001B[38;5;241;43m.\u001B[39;49m\u001B[43mget\u001B[49m\u001B[43m(\u001B[49m\u001B[38;5;124;43m\"\u001B[39;49m\u001B[38;5;124;43mencoding_errors\u001B[39;49m\u001B[38;5;124;43m\"\u001B[39;49m\u001B[43m,\u001B[49m\u001B[43m \u001B[49m\u001B[38;5;124;43m\"\u001B[39;49m\u001B[38;5;124;43mstrict\u001B[39;49m\u001B[38;5;124;43m\"\u001B[39;49m\u001B[43m)\u001B[49m\u001B[43m,\u001B[49m\n\u001B[0;32m   1743\u001B[0m \u001B[43m    \u001B[49m\u001B[43mstorage_options\u001B[49m\u001B[38;5;241;43m=\u001B[39;49m\u001B[38;5;28;43mself\u001B[39;49m\u001B[38;5;241;43m.\u001B[39;49m\u001B[43moptions\u001B[49m\u001B[38;5;241;43m.\u001B[39;49m\u001B[43mget\u001B[49m\u001B[43m(\u001B[49m\u001B[38;5;124;43m\"\u001B[39;49m\u001B[38;5;124;43mstorage_options\u001B[39;49m\u001B[38;5;124;43m\"\u001B[39;49m\u001B[43m,\u001B[49m\u001B[43m \u001B[49m\u001B[38;5;28;43;01mNone\u001B[39;49;00m\u001B[43m)\u001B[49m\u001B[43m,\u001B[49m\n\u001B[0;32m   1744\u001B[0m \u001B[43m\u001B[49m\u001B[43m)\u001B[49m\n\u001B[0;32m   1745\u001B[0m \u001B[38;5;28;01massert\u001B[39;00m \u001B[38;5;28mself\u001B[39m\u001B[38;5;241m.\u001B[39mhandles \u001B[38;5;129;01mis\u001B[39;00m \u001B[38;5;129;01mnot\u001B[39;00m \u001B[38;5;28;01mNone\u001B[39;00m\n\u001B[0;32m   1746\u001B[0m f \u001B[38;5;241m=\u001B[39m \u001B[38;5;28mself\u001B[39m\u001B[38;5;241m.\u001B[39mhandles\u001B[38;5;241m.\u001B[39mhandle\n",
      "File \u001B[1;32m~\\AppData\\Local\\pypoetry\\Cache\\virtualenvs\\recoservice-Q0zB1aiD-py3.10\\lib\\site-packages\\pandas\\io\\common.py:856\u001B[0m, in \u001B[0;36mget_handle\u001B[1;34m(path_or_buf, mode, encoding, compression, memory_map, is_text, errors, storage_options)\u001B[0m\n\u001B[0;32m    851\u001B[0m \u001B[38;5;28;01melif\u001B[39;00m \u001B[38;5;28misinstance\u001B[39m(handle, \u001B[38;5;28mstr\u001B[39m):\n\u001B[0;32m    852\u001B[0m     \u001B[38;5;66;03m# Check whether the filename is to be opened in binary mode.\u001B[39;00m\n\u001B[0;32m    853\u001B[0m     \u001B[38;5;66;03m# Binary mode does not support 'encoding' and 'newline'.\u001B[39;00m\n\u001B[0;32m    854\u001B[0m     \u001B[38;5;28;01mif\u001B[39;00m ioargs\u001B[38;5;241m.\u001B[39mencoding \u001B[38;5;129;01mand\u001B[39;00m \u001B[38;5;124m\"\u001B[39m\u001B[38;5;124mb\u001B[39m\u001B[38;5;124m\"\u001B[39m \u001B[38;5;129;01mnot\u001B[39;00m \u001B[38;5;129;01min\u001B[39;00m ioargs\u001B[38;5;241m.\u001B[39mmode:\n\u001B[0;32m    855\u001B[0m         \u001B[38;5;66;03m# Encoding\u001B[39;00m\n\u001B[1;32m--> 856\u001B[0m         handle \u001B[38;5;241m=\u001B[39m \u001B[38;5;28;43mopen\u001B[39;49m\u001B[43m(\u001B[49m\n\u001B[0;32m    857\u001B[0m \u001B[43m            \u001B[49m\u001B[43mhandle\u001B[49m\u001B[43m,\u001B[49m\n\u001B[0;32m    858\u001B[0m \u001B[43m            \u001B[49m\u001B[43mioargs\u001B[49m\u001B[38;5;241;43m.\u001B[39;49m\u001B[43mmode\u001B[49m\u001B[43m,\u001B[49m\n\u001B[0;32m    859\u001B[0m \u001B[43m            \u001B[49m\u001B[43mencoding\u001B[49m\u001B[38;5;241;43m=\u001B[39;49m\u001B[43mioargs\u001B[49m\u001B[38;5;241;43m.\u001B[39;49m\u001B[43mencoding\u001B[49m\u001B[43m,\u001B[49m\n\u001B[0;32m    860\u001B[0m \u001B[43m            \u001B[49m\u001B[43merrors\u001B[49m\u001B[38;5;241;43m=\u001B[39;49m\u001B[43merrors\u001B[49m\u001B[43m,\u001B[49m\n\u001B[0;32m    861\u001B[0m \u001B[43m            \u001B[49m\u001B[43mnewline\u001B[49m\u001B[38;5;241;43m=\u001B[39;49m\u001B[38;5;124;43m\"\u001B[39;49m\u001B[38;5;124;43m\"\u001B[39;49m\u001B[43m,\u001B[49m\n\u001B[0;32m    862\u001B[0m \u001B[43m        \u001B[49m\u001B[43m)\u001B[49m\n\u001B[0;32m    863\u001B[0m     \u001B[38;5;28;01melse\u001B[39;00m:\n\u001B[0;32m    864\u001B[0m         \u001B[38;5;66;03m# Binary mode\u001B[39;00m\n\u001B[0;32m    865\u001B[0m         handle \u001B[38;5;241m=\u001B[39m \u001B[38;5;28mopen\u001B[39m(handle, ioargs\u001B[38;5;241m.\u001B[39mmode)\n",
      "\u001B[1;31mFileNotFoundError\u001B[0m: [Errno 2] No such file or directory: '../datasets/interactions.csv'"
     ]
    }
   ],
   "source": [
    "interactions_df = pd.read_csv(\"../datasets/interactions.csv\", parse_dates=[\"last_watch_dt\"])\n",
    "interactions_df.rename(\n",
    "    columns={\"last_watch_dt\": rectools.Columns.Datetime, \"total_dur\": rectools.Columns.Weight},\n",
    "    inplace=True\n",
    ")\n",
    "interactions = Interactions(interactions_df)\n",
    "interactions.df.head()"
   ],
   "metadata": {
    "collapsed": false,
    "ExecuteTime": {
     "end_time": "2023-11-20T13:24:43.974173700Z",
     "start_time": "2023-11-20T13:24:43.928174800Z"
    }
   },
   "id": "b6987d86-17ab-4d7e-9a21-f8ff0d639d82"
  },
  {
   "cell_type": "code",
   "execution_count": null,
   "outputs": [],
   "source": [
    "items = pd.read_csv(\"../datasets/items.csv\")\n",
    "items.head()"
   ],
   "metadata": {
    "collapsed": false,
    "ExecuteTime": {
     "end_time": "2023-11-20T13:24:43.978174100Z",
     "start_time": "2023-11-20T13:24:43.975174200Z"
    }
   },
   "id": "8e8fc832-d730-49cd-bd4f-7763b944c70e"
  },
  {
   "cell_type": "markdown",
   "source": [
    "# Validation"
   ],
   "metadata": {
    "collapsed": false
   },
   "id": "3fb403ce-2e75-480f-a43b-18bb5c6b92f5"
  },
  {
   "cell_type": "code",
   "execution_count": null,
   "outputs": [],
   "source": [
    "def add_thresholds(metrics: dict[str, Callable | tuple[Callable, dict[str, Any]]], ks: list[int]):\n",
    "    metrics_with_thresholds = {}\n",
    "    for name, metric in metrics.items():\n",
    "        kwargs = {}\n",
    "        if isinstance(metric, tuple):\n",
    "            kwargs.update(**metric[1])\n",
    "            metric = metric[0]\n",
    "        for k in ks:\n",
    "            metrics_with_thresholds.update({f\"{name}@{k}\": metric(k=k, **kwargs)})\n",
    "    return metrics_with_thresholds"
   ],
   "metadata": {
    "collapsed": false,
    "ExecuteTime": {
     "start_time": "2023-11-20T13:24:43.976174100Z"
    }
   },
   "id": "f5aafbbb-54bd-4bbc-8342-28267361ed99"
  },
  {
   "cell_type": "code",
   "execution_count": null,
   "outputs": [],
   "source": [
    "def calc_coverage(reco):\n",
    "    return reco.item_id.nunique() / len(reco)"
   ],
   "metadata": {
    "collapsed": false,
    "ExecuteTime": {
     "start_time": "2023-11-20T13:24:43.977174700Z"
    }
   },
   "id": "07ada008-8782-4fcb-aed9-50b6608b2ba7"
  },
  {
   "cell_type": "code",
   "execution_count": null,
   "outputs": [],
   "source": [
    "def cross_val(\n",
    "    dataset: pd.DataFrame,\n",
    "    models: dict[str, ModelBase],\n",
    "    metrics: dict[str, MetricAtK | Callable],\n",
    "    splitter: Splitter,\n",
    "    k: int,\n",
    "    num_splits: int = 0,\n",
    "):\n",
    "    rectool_metrics = {k: v for k, v in metrics.items() if isinstance(v, MetricAtK)}\n",
    "    custom_metrics = {k: v for k, v in metrics.items() if k not in rectool_metrics}\n",
    "    metric_values = []\n",
    "    interactions = Interactions(dataset)\n",
    "    pbar = tqdm(total=len(models) * num_splits)\n",
    "    pbar.set_description(f\"splitting\")\n",
    "    splits = splitter.split(interactions)\n",
    "    for train_ids, test_ids, i in splits:\n",
    "        num_fold = i[\"i_split\"]\n",
    "        train = Dataset.construct(dataset.iloc[train_ids])\n",
    "        test = Dataset.construct(dataset.iloc[test_ids])\n",
    "\n",
    "        for model_name, orig_model in models.items():\n",
    "            pbar_prefix = f\"fold {num_fold}, {model_name}\"\n",
    "            pbar.set_description(f\"{pbar_prefix} training\")\n",
    "            model = deepcopy(orig_model)\n",
    "            start = time.time()\n",
    "            model.fit(train)\n",
    "            end = time.time()\n",
    "            pbar.set_description(f\"{pbar_prefix} predicting\")\n",
    "            reco = model.recommend(test.user_id_map.external_ids, train, k, True)\n",
    "            del model\n",
    "            pbar.set_description(f\"{pbar_prefix} evaluating\")\n",
    "            cur_metrics = {\n",
    "                \"model\": model_name,\n",
    "                \"time\": end - start,\n",
    "                **calc_metrics(\n",
    "                    rectool_metrics,\n",
    "                    reco=reco,\n",
    "                    interactions=test.interactions.df,\n",
    "                    prev_interactions=train.interactions.df,\n",
    "                ),\n",
    "            }\n",
    "            for name, metric in custom_metrics.items():\n",
    "                cur_metrics.update({name: metric(reco)})\n",
    "            metric_values.append(cur_metrics)\n",
    "            pbar.update(1)\n",
    "    pbar.close()\n",
    "    return pd.DataFrame(metric_values).groupby(\"model\").mean()"
   ],
   "metadata": {
    "collapsed": false,
    "ExecuteTime": {
     "end_time": "2023-11-20T13:24:43.979173900Z",
     "start_time": "2023-11-20T13:24:43.978174100Z"
    }
   },
   "id": "d2630ebc-17cd-4349-b961-b97eaf286cab"
  },
  {
   "cell_type": "code",
   "execution_count": null,
   "outputs": [],
   "source": [
    "metrics = add_thresholds(\n",
    "    {\n",
    "        \"precision\": Precision,\n",
    "        \"recall\": Recall,\n",
    "        \"MAP\": MAP,\n",
    "        \"NDCG\": NDCG,\n",
    "        \"novelty\": MeanInvUserFreq,\n",
    "    },\n",
    "    [1, 5, 10],\n",
    ")\n",
    "metrics.update({\"coverage\": calc_coverage})\n",
    "metrics"
   ],
   "metadata": {
    "collapsed": false,
    "ExecuteTime": {
     "start_time": "2023-11-20T13:24:43.979173900Z"
    }
   },
   "id": "38d2a9d0-e114-467d-b47b-fc92a58b9dca"
  },
  {
   "cell_type": "code",
   "execution_count": null,
   "outputs": [],
   "source": [
    "NUM_RECOS = 10\n",
    "NUM_SPLITS = 3\n",
    "SEED = 32\n",
    "splitter = rectools.model_selection.time_split.TimeRangeSplitter(\"1D\", NUM_SPLITS)\n",
    "models = {\"random\": RandomModel(random_state=SEED), \"popular\": PopularModel()}\n",
    "\n",
    "results = cross_val(interactions_df, models, metrics, splitter, NUM_RECOS, num_splits=NUM_SPLITS)"
   ],
   "metadata": {
    "collapsed": false,
    "ExecuteTime": {
     "end_time": "2023-11-20T13:24:43.983174200Z",
     "start_time": "2023-11-20T13:24:43.980174200Z"
    }
   },
   "id": "abbbef67-45fd-43c5-8a61-86a8ab02b7c8"
  },
  {
   "cell_type": "code",
   "execution_count": null,
   "outputs": [],
   "source": [
    "results"
   ],
   "metadata": {
    "collapsed": false,
    "ExecuteTime": {
     "start_time": "2023-11-20T13:24:43.981174400Z"
    }
   },
   "id": "14c32397-39c4-45ec-89e8-7bb285f3b0e5"
  },
  {
   "cell_type": "markdown",
   "source": [
    "# Visualization"
   ],
   "metadata": {
    "collapsed": false
   },
   "id": "58508752-8c7b-4c4c-a56f-5f25516220cf"
  },
  {
   "cell_type": "code",
   "execution_count": null,
   "outputs": [],
   "source": [
    "from IPython.core.display import HTML\n",
    "\n",
    "\n",
    "class Visualizer:\n",
    "    def __init__(\n",
    "        self,\n",
    "        model: ModelBase,\n",
    "        dataset: Dataset,\n",
    "        item_data: str | None=None,\n",
    "        items: pd.DataFrame | None = None,\n",
    "        items_df_path: str = \"../datasets/items.csv\",\n",
    "    ):\n",
    "        if item_data is None:\n",
    "            item_data = [\"title\"]\n",
    "\n",
    "        self.model = model\n",
    "        self.dataset = dataset\n",
    "        if items is None:\n",
    "            self.items = pd.read_csv(items_df_path)\n",
    "        else:\n",
    "            self.items = items\n",
    "        for d in item_data:\n",
    "            assert (\n",
    "                d in self.items.columns\n",
    "            ), f'Unknown column \"{d}\". Can only visualize information about {\", \".join(self.items.columns)}.'\n",
    "        self.item_data = item_data\n",
    "\n",
    "    def display_item_data(self, interactions):\n",
    "        return pd.merge(interactions, self.items)[[\"user_id\"] + self.item_data]\n",
    "\n",
    "    @staticmethod\n",
    "    def pretty_print(df):\n",
    "        display(HTML(df.to_html()))\n",
    "\n",
    "    def get_reco(self, user_ids: list[int], k: int = 10):\n",
    "        reco = self.model.recommend(np.array(user_ids), self.dataset, k, True)\n",
    "        return self.display_item_data(reco)\n",
    "\n",
    "    def get_history(self, user_ids: list[int]):\n",
    "        df = self.dataset.interactions.df\n",
    "        history = df[df.user_id.isin(user_ids)]\n",
    "        return self.display_item_data(history)\n",
    "\n",
    "    def analyse_recos(self, user_ids: list[int]):\n",
    "        for user_id in user_ids:\n",
    "            print(f\"User {user_id} watched these film:\")\n",
    "            self.pretty_print(self.get_history([user_id]))\n",
    "            print(f\"And got these films as recomendations\")\n",
    "            self.pretty_print(self.get_reco([user_id]))\n",
    "            print(\"\\n\")"
   ],
   "metadata": {
    "collapsed": false,
    "ExecuteTime": {
     "start_time": "2023-11-20T13:24:43.982174300Z"
    }
   },
   "id": "eaae50b6-bdb2-468a-aa1b-4069516745e9"
  },
  {
   "cell_type": "code",
   "execution_count": null,
   "id": "e1ad8e2d-9941-4c9f-b657-9a562f9de1bf",
   "metadata": {
    "ExecuteTime": {
     "start_time": "2023-11-20T13:24:43.983174200Z"
    }
   },
   "outputs": [],
   "source": [
    "model = RandomModel(random_state=32)\n",
    "dataset = Dataset.construct(interactions_df)\n",
    "model.fit(dataset)\n",
    "USER_IDS = [1091234, 787802, 948921]"
   ]
  },
  {
   "cell_type": "code",
   "execution_count": null,
   "id": "88053131-6d71-44c2-b77b-63ceaa77a685",
   "metadata": {
    "ExecuteTime": {
     "end_time": "2023-11-20T13:24:43.984174300Z",
     "start_time": "2023-11-20T13:24:43.984174300Z"
    }
   },
   "outputs": [],
   "source": [
    "viz = Visualizer(model, dataset, item_data=[\"title\", \"genres\"], items=items)\n",
    "viz.analyse_recos(USER_IDS)"
   ]
  }
 ],
 "metadata": {
  "kernelspec": {
   "display_name": "Python 3 (ipykernel)",
   "language": "python",
   "name": "python3"
  },
  "language_info": {
   "codemirror_mode": {
    "name": "ipython",
    "version": 3
   },
   "file_extension": ".py",
   "mimetype": "text/x-python",
   "name": "python",
   "nbconvert_exporter": "python",
   "pygments_lexer": "ipython3",
   "version": "3.10.12"
  }
 },
 "nbformat": 4,
 "nbformat_minor": 5
}
