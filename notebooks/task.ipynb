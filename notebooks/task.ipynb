{
 "cells": [
  {
   "cell_type": "code",
   "execution_count": 1,
   "id": "b35b8075-3d92-4347-9f16-8fc0b0333684",
   "metadata": {
    "ExecuteTime": {
     "end_time": "2023-11-23T18:23:20.756257500Z",
     "start_time": "2023-11-23T18:23:19.469016900Z"
    }
   },
   "outputs": [],
   "source": [
    "import time\n",
    "from copy import deepcopy\n",
    "from typing import Callable, Any\n",
    "\n",
    "import numpy as np\n",
    "import pandas as pd\n",
    "from tqdm.auto import tqdm"
   ]
  },
  {
   "cell_type": "code",
   "execution_count": 2,
   "id": "48f110e6-5dfb-4c7d-a4fd-6dd2de2921de",
   "metadata": {
    "ExecuteTime": {
     "end_time": "2023-11-23T18:23:21.416423500Z",
     "start_time": "2023-11-23T18:23:20.756257500Z"
    }
   },
   "outputs": [],
   "source": [
    "import rectools\n",
    "from rectools.dataset import Interactions, Dataset\n",
    "from rectools.model_selection import Splitter\n",
    "from rectools.models.base import ModelBase\n",
    "from rectools.models import RandomModel, PopularModel\n",
    "from rectools.metrics.base import MetricAtK\n",
    "from rectools.metrics import (\n",
    "    Precision,\n",
    "    Recall,\n",
    "    MAP,\n",
    "    NDCG,\n",
    "    MeanInvUserFreq,\n",
    "    calc_metrics,\n",
    ")"
   ]
  },
  {
   "cell_type": "markdown",
   "source": [
    "# Read Data"
   ],
   "metadata": {
    "collapsed": false
   },
   "id": "dc80ef2ec71cff31"
  },
  {
   "cell_type": "code",
   "execution_count": 3,
   "outputs": [
    {
     "data": {
      "text/plain": "   user_id  item_id   datetime   weight  watched_pct\n0   176549     9506 2021-05-11   4250.0         72.0\n1   699317     1659 2021-05-29   8317.0        100.0\n2   656683     7107 2021-05-09     10.0          0.0\n3   864613     7638 2021-07-05  14483.0        100.0\n4   964868     9506 2021-04-30   6725.0        100.0",
      "text/html": "<div>\n<style scoped>\n    .dataframe tbody tr th:only-of-type {\n        vertical-align: middle;\n    }\n\n    .dataframe tbody tr th {\n        vertical-align: top;\n    }\n\n    .dataframe thead th {\n        text-align: right;\n    }\n</style>\n<table border=\"1\" class=\"dataframe\">\n  <thead>\n    <tr style=\"text-align: right;\">\n      <th></th>\n      <th>user_id</th>\n      <th>item_id</th>\n      <th>datetime</th>\n      <th>weight</th>\n      <th>watched_pct</th>\n    </tr>\n  </thead>\n  <tbody>\n    <tr>\n      <th>0</th>\n      <td>176549</td>\n      <td>9506</td>\n      <td>2021-05-11</td>\n      <td>4250.0</td>\n      <td>72.0</td>\n    </tr>\n    <tr>\n      <th>1</th>\n      <td>699317</td>\n      <td>1659</td>\n      <td>2021-05-29</td>\n      <td>8317.0</td>\n      <td>100.0</td>\n    </tr>\n    <tr>\n      <th>2</th>\n      <td>656683</td>\n      <td>7107</td>\n      <td>2021-05-09</td>\n      <td>10.0</td>\n      <td>0.0</td>\n    </tr>\n    <tr>\n      <th>3</th>\n      <td>864613</td>\n      <td>7638</td>\n      <td>2021-07-05</td>\n      <td>14483.0</td>\n      <td>100.0</td>\n    </tr>\n    <tr>\n      <th>4</th>\n      <td>964868</td>\n      <td>9506</td>\n      <td>2021-04-30</td>\n      <td>6725.0</td>\n      <td>100.0</td>\n    </tr>\n  </tbody>\n</table>\n</div>"
     },
     "execution_count": 3,
     "metadata": {},
     "output_type": "execute_result"
    }
   ],
   "source": [
    "interactions_df = pd.read_csv(\"../datasets/interactions.csv\", parse_dates=[\"last_watch_dt\"])\n",
    "interactions_df.rename(\n",
    "    columns={\"last_watch_dt\": rectools.Columns.Datetime, \"total_dur\": rectools.Columns.Weight},\n",
    "    inplace=True\n",
    ")\n",
    "interactions = Interactions(interactions_df)\n",
    "interactions.df.head()"
   ],
   "metadata": {
    "collapsed": false,
    "ExecuteTime": {
     "end_time": "2023-11-23T18:23:23.018406900Z",
     "start_time": "2023-11-23T18:23:21.417422900Z"
    }
   },
   "id": "b6987d86-17ab-4d7e-9a21-f8ff0d639d82"
  },
  {
   "cell_type": "code",
   "execution_count": 4,
   "outputs": [
    {
     "data": {
      "text/plain": "   item_id content_type                 title      title_orig  release_year  \\\n0    10711         film        Поговори с ней  Hable con ella        2002.0   \n1     2508         film           Голые перцы    Search Party        2014.0   \n2    10716         film      Тактическая сила  Tactical Force        2011.0   \n3     7868         film                45 лет        45 Years        2015.0   \n4    16268         film  Все решает мгновение             NaN        1978.0   \n\n                                             genres       countries  for_kids  \\\n0           драмы, зарубежные, детективы, мелодрамы         Испания       NaN   \n1                  зарубежные, приключения, комедии             США       NaN   \n2  криминал, зарубежные, триллеры, боевики, комедии          Канада       NaN   \n3                      драмы, зарубежные, мелодрамы  Великобритания       NaN   \n4                драмы, спорт, советские, мелодрамы            СССР       NaN   \n\n   age_rating   studios         directors  \\\n0        16.0       NaN  Педро Альмодовар   \n1        16.0       NaN    Скот Армстронг   \n2        16.0       NaN  Адам П. Калтраро   \n3        16.0       NaN         Эндрю Хэй   \n4        12.0  Ленфильм  Виктор Садовский   \n\n                                              actors  \\\n0  Адольфо Фернандес, Ана Фернандес, Дарио Гранди...   \n1  Адам Палли, Брайан Хаски, Дж.Б. Смув, Джейсон ...   \n2  Адриан Холмс, Даррен Шалави, Джерри Вассерман,...   \n3  Александра Риддлстон-Барретт, Джеральдин Джейм...   \n4  Александр Абдулов, Александр Демьяненко, Алекс...   \n\n                                         description  \\\n0  Мелодрама легендарного Педро Альмодовара «Пого...   \n1  Уморительная современная комедия на популярную...   \n2  Профессиональный рестлер Стив Остин («Все или ...   \n3  Шарлотта Рэмплинг, Том Кортни, Джеральдин Джей...   \n4  Расчетливая чаровница из советского кинохита «...   \n\n                                            keywords  \n0  Поговори, ней, 2002, Испания, друзья, любовь, ...  \n1  Голые, перцы, 2014, США, друзья, свадьбы, прео...  \n2  Тактическая, сила, 2011, Канада, бандиты, ганг...  \n3  45, лет, 2015, Великобритания, брак, жизнь, лю...  \n4  Все, решает, мгновение, 1978, СССР, сильные, ж...  ",
      "text/html": "<div>\n<style scoped>\n    .dataframe tbody tr th:only-of-type {\n        vertical-align: middle;\n    }\n\n    .dataframe tbody tr th {\n        vertical-align: top;\n    }\n\n    .dataframe thead th {\n        text-align: right;\n    }\n</style>\n<table border=\"1\" class=\"dataframe\">\n  <thead>\n    <tr style=\"text-align: right;\">\n      <th></th>\n      <th>item_id</th>\n      <th>content_type</th>\n      <th>title</th>\n      <th>title_orig</th>\n      <th>release_year</th>\n      <th>genres</th>\n      <th>countries</th>\n      <th>for_kids</th>\n      <th>age_rating</th>\n      <th>studios</th>\n      <th>directors</th>\n      <th>actors</th>\n      <th>description</th>\n      <th>keywords</th>\n    </tr>\n  </thead>\n  <tbody>\n    <tr>\n      <th>0</th>\n      <td>10711</td>\n      <td>film</td>\n      <td>Поговори с ней</td>\n      <td>Hable con ella</td>\n      <td>2002.0</td>\n      <td>драмы, зарубежные, детективы, мелодрамы</td>\n      <td>Испания</td>\n      <td>NaN</td>\n      <td>16.0</td>\n      <td>NaN</td>\n      <td>Педро Альмодовар</td>\n      <td>Адольфо Фернандес, Ана Фернандес, Дарио Гранди...</td>\n      <td>Мелодрама легендарного Педро Альмодовара «Пого...</td>\n      <td>Поговори, ней, 2002, Испания, друзья, любовь, ...</td>\n    </tr>\n    <tr>\n      <th>1</th>\n      <td>2508</td>\n      <td>film</td>\n      <td>Голые перцы</td>\n      <td>Search Party</td>\n      <td>2014.0</td>\n      <td>зарубежные, приключения, комедии</td>\n      <td>США</td>\n      <td>NaN</td>\n      <td>16.0</td>\n      <td>NaN</td>\n      <td>Скот Армстронг</td>\n      <td>Адам Палли, Брайан Хаски, Дж.Б. Смув, Джейсон ...</td>\n      <td>Уморительная современная комедия на популярную...</td>\n      <td>Голые, перцы, 2014, США, друзья, свадьбы, прео...</td>\n    </tr>\n    <tr>\n      <th>2</th>\n      <td>10716</td>\n      <td>film</td>\n      <td>Тактическая сила</td>\n      <td>Tactical Force</td>\n      <td>2011.0</td>\n      <td>криминал, зарубежные, триллеры, боевики, комедии</td>\n      <td>Канада</td>\n      <td>NaN</td>\n      <td>16.0</td>\n      <td>NaN</td>\n      <td>Адам П. Калтраро</td>\n      <td>Адриан Холмс, Даррен Шалави, Джерри Вассерман,...</td>\n      <td>Профессиональный рестлер Стив Остин («Все или ...</td>\n      <td>Тактическая, сила, 2011, Канада, бандиты, ганг...</td>\n    </tr>\n    <tr>\n      <th>3</th>\n      <td>7868</td>\n      <td>film</td>\n      <td>45 лет</td>\n      <td>45 Years</td>\n      <td>2015.0</td>\n      <td>драмы, зарубежные, мелодрамы</td>\n      <td>Великобритания</td>\n      <td>NaN</td>\n      <td>16.0</td>\n      <td>NaN</td>\n      <td>Эндрю Хэй</td>\n      <td>Александра Риддлстон-Барретт, Джеральдин Джейм...</td>\n      <td>Шарлотта Рэмплинг, Том Кортни, Джеральдин Джей...</td>\n      <td>45, лет, 2015, Великобритания, брак, жизнь, лю...</td>\n    </tr>\n    <tr>\n      <th>4</th>\n      <td>16268</td>\n      <td>film</td>\n      <td>Все решает мгновение</td>\n      <td>NaN</td>\n      <td>1978.0</td>\n      <td>драмы, спорт, советские, мелодрамы</td>\n      <td>СССР</td>\n      <td>NaN</td>\n      <td>12.0</td>\n      <td>Ленфильм</td>\n      <td>Виктор Садовский</td>\n      <td>Александр Абдулов, Александр Демьяненко, Алекс...</td>\n      <td>Расчетливая чаровница из советского кинохита «...</td>\n      <td>Все, решает, мгновение, 1978, СССР, сильные, ж...</td>\n    </tr>\n  </tbody>\n</table>\n</div>"
     },
     "execution_count": 4,
     "metadata": {},
     "output_type": "execute_result"
    }
   ],
   "source": [
    "items = pd.read_csv(\"../datasets/items.csv\")\n",
    "items.head()"
   ],
   "metadata": {
    "collapsed": false,
    "ExecuteTime": {
     "end_time": "2023-11-23T18:23:23.541405200Z",
     "start_time": "2023-11-23T18:23:23.018406900Z"
    }
   },
   "id": "8e8fc832-d730-49cd-bd4f-7763b944c70e"
  },
  {
   "cell_type": "markdown",
   "source": [
    "# Validation"
   ],
   "metadata": {
    "collapsed": false
   },
   "id": "3fb403ce-2e75-480f-a43b-18bb5c6b92f5"
  },
  {
   "cell_type": "code",
   "execution_count": 5,
   "outputs": [],
   "source": [
    "def add_thresholds(metrics: dict[str, Callable | tuple[Callable, dict[str, Any]]], ks: list[int]):\n",
    "    metrics_with_thresholds = {}\n",
    "    for name, metric in metrics.items():\n",
    "        kwargs = {}\n",
    "        if isinstance(metric, tuple):\n",
    "            kwargs.update(**metric[1])\n",
    "            metric = metric[0]\n",
    "        for k in ks:\n",
    "            metrics_with_thresholds.update({f\"{name}@{k}\": metric(k=k, **kwargs)})\n",
    "    return metrics_with_thresholds"
   ],
   "metadata": {
    "collapsed": false,
    "ExecuteTime": {
     "end_time": "2023-11-23T18:23:23.541405200Z",
     "start_time": "2023-11-23T18:23:23.377405200Z"
    }
   },
   "id": "f5aafbbb-54bd-4bbc-8342-28267361ed99"
  },
  {
   "cell_type": "code",
   "execution_count": 6,
   "outputs": [],
   "source": [
    "def calc_coverage(reco):\n",
    "    return reco.item_id.nunique() / len(reco)"
   ],
   "metadata": {
    "collapsed": false,
    "ExecuteTime": {
     "end_time": "2023-11-23T18:23:23.541405200Z",
     "start_time": "2023-11-23T18:23:23.393405Z"
    }
   },
   "id": "07ada008-8782-4fcb-aed9-50b6608b2ba7"
  },
  {
   "cell_type": "code",
   "execution_count": 7,
   "outputs": [],
   "source": [
    "def cross_val(\n",
    "    dataset: pd.DataFrame,\n",
    "    models: dict[str, ModelBase],\n",
    "    metrics: dict[str, MetricAtK | Callable],\n",
    "    splitter: Splitter,\n",
    "    k: int,\n",
    "    num_splits: int = 0,\n",
    "):\n",
    "    rectool_metrics = {k: v for k, v in metrics.items() if isinstance(v, MetricAtK)}\n",
    "    custom_metrics = {k: v for k, v in metrics.items() if k not in rectool_metrics}\n",
    "    metric_values = []\n",
    "    interactions = Interactions(dataset)\n",
    "    pbar = tqdm(total=len(models) * num_splits)\n",
    "    pbar.set_description(f\"splitting\")\n",
    "    splits = splitter.split(interactions)\n",
    "    for train_ids, test_ids, i in splits:\n",
    "        num_fold = i[\"i_split\"]\n",
    "        train = Dataset.construct(dataset.iloc[train_ids])\n",
    "        test = Dataset.construct(dataset.iloc[test_ids])\n",
    "\n",
    "        for model_name, orig_model in models.items():\n",
    "            pbar_prefix = f\"fold {num_fold}, {model_name}\"\n",
    "            pbar.set_description(f\"{pbar_prefix} training\")\n",
    "            model = deepcopy(orig_model)\n",
    "            start = time.time()\n",
    "            model.fit(train)\n",
    "            end = time.time()\n",
    "            pbar.set_description(f\"{pbar_prefix} predicting\")\n",
    "            reco = model.recommend(test.user_id_map.external_ids, train, k, True)\n",
    "            del model\n",
    "            pbar.set_description(f\"{pbar_prefix} evaluating\")\n",
    "            cur_metrics = {\n",
    "                \"model\": model_name,\n",
    "                \"time\": end - start,\n",
    "                **calc_metrics(\n",
    "                    rectool_metrics,\n",
    "                    reco=reco,\n",
    "                    interactions=test.interactions.df,\n",
    "                    prev_interactions=train.interactions.df,\n",
    "                ),\n",
    "            }\n",
    "            for name, metric in custom_metrics.items():\n",
    "                cur_metrics.update({name: metric(reco)})\n",
    "            metric_values.append(cur_metrics)\n",
    "            pbar.update(1)\n",
    "    pbar.close()\n",
    "    return pd.DataFrame(metric_values).groupby(\"model\").mean()"
   ],
   "metadata": {
    "collapsed": false,
    "ExecuteTime": {
     "end_time": "2023-11-23T18:23:23.541405200Z",
     "start_time": "2023-11-23T18:23:23.408405400Z"
    }
   },
   "id": "d2630ebc-17cd-4349-b961-b97eaf286cab"
  },
  {
   "cell_type": "code",
   "execution_count": 8,
   "outputs": [
    {
     "data": {
      "text/plain": "{'precision@1': Precision(k=1),\n 'precision@5': Precision(k=5),\n 'precision@10': Precision(k=10),\n 'recall@1': Recall(k=1),\n 'recall@5': Recall(k=5),\n 'recall@10': Recall(k=10),\n 'MAP@1': MAP(k=1, divide_by_k=False),\n 'MAP@5': MAP(k=5, divide_by_k=False),\n 'MAP@10': MAP(k=10, divide_by_k=False),\n 'NDCG@1': NDCG(k=1, log_base=2),\n 'NDCG@5': NDCG(k=5, log_base=2),\n 'NDCG@10': NDCG(k=10, log_base=2),\n 'novelty@1': MeanInvUserFreq(k=1),\n 'novelty@5': MeanInvUserFreq(k=5),\n 'novelty@10': MeanInvUserFreq(k=10),\n 'coverage': <function __main__.calc_coverage(reco)>}"
     },
     "execution_count": 8,
     "metadata": {},
     "output_type": "execute_result"
    }
   ],
   "source": [
    "metrics = add_thresholds(\n",
    "    {\n",
    "        \"precision\": Precision,\n",
    "        \"recall\": Recall,\n",
    "        \"MAP\": MAP,\n",
    "        \"NDCG\": NDCG,\n",
    "        \"novelty\": MeanInvUserFreq,\n",
    "    },\n",
    "    [1, 5, 10],\n",
    ")\n",
    "metrics.update({\"coverage\": calc_coverage})\n",
    "metrics"
   ],
   "metadata": {
    "collapsed": false,
    "ExecuteTime": {
     "end_time": "2023-11-23T18:23:23.542405400Z",
     "start_time": "2023-11-23T18:23:23.424404900Z"
    }
   },
   "id": "38d2a9d0-e114-467d-b47b-fc92a58b9dca"
  },
  {
   "cell_type": "code",
   "execution_count": 9,
   "outputs": [
    {
     "data": {
      "text/plain": "  0%|          | 0/6 [00:00<?, ?it/s]",
      "application/vnd.jupyter.widget-view+json": {
       "version_major": 2,
       "version_minor": 0,
       "model_id": "5b22c9eb238c41e58650f37f9cb5fe56"
      }
     },
     "metadata": {},
     "output_type": "display_data"
    }
   ],
   "source": [
    "NUM_RECOS = 10\n",
    "NUM_SPLITS = 3\n",
    "SEED = 32\n",
    "splitter = rectools.model_selection.time_split.TimeRangeSplitter(\"1D\", NUM_SPLITS)\n",
    "models = {\"random\": RandomModel(random_state=SEED), \"popular\": PopularModel()}\n",
    "\n",
    "results = cross_val(interactions_df, models, metrics, splitter, NUM_RECOS, num_splits=NUM_SPLITS)"
   ],
   "metadata": {
    "collapsed": false,
    "ExecuteTime": {
     "end_time": "2023-11-23T18:24:26.724744800Z",
     "start_time": "2023-11-23T18:23:23.440405900Z"
    }
   },
   "id": "abbbef67-45fd-43c5-8a61-86a8ab02b7c8"
  },
  {
   "cell_type": "code",
   "execution_count": 10,
   "outputs": [
    {
     "data": {
      "text/plain": "             time  precision@1  recall@1  precision@5  recall@5  precision@10  \\\nmodel                                                                           \npopular  5.251233          0.0       0.0          0.0       0.0      0.000001   \nrandom   0.000000          0.0       0.0          0.0       0.0      0.000002   \n\n         recall@10  NDCG@1  NDCG@5       NDCG@10  MAP@1  MAP@5        MAP@10  \\\nmodel                                                                          \npopular   0.000003     0.0     0.0  7.181475e-07    0.0    0.0  4.309706e-07   \nrandom    0.000011     0.0     0.0  1.505503e-06    0.0    0.0  1.401207e-06   \n\n         novelty@1  novelty@5  novelty@10  coverage  \nmodel                                                \npopular  16.810539  16.168155   15.207510  0.000110  \nrandom   15.861961  15.860099   15.860982  0.049638  ",
      "text/html": "<div>\n<style scoped>\n    .dataframe tbody tr th:only-of-type {\n        vertical-align: middle;\n    }\n\n    .dataframe tbody tr th {\n        vertical-align: top;\n    }\n\n    .dataframe thead th {\n        text-align: right;\n    }\n</style>\n<table border=\"1\" class=\"dataframe\">\n  <thead>\n    <tr style=\"text-align: right;\">\n      <th></th>\n      <th>time</th>\n      <th>precision@1</th>\n      <th>recall@1</th>\n      <th>precision@5</th>\n      <th>recall@5</th>\n      <th>precision@10</th>\n      <th>recall@10</th>\n      <th>NDCG@1</th>\n      <th>NDCG@5</th>\n      <th>NDCG@10</th>\n      <th>MAP@1</th>\n      <th>MAP@5</th>\n      <th>MAP@10</th>\n      <th>novelty@1</th>\n      <th>novelty@5</th>\n      <th>novelty@10</th>\n      <th>coverage</th>\n    </tr>\n    <tr>\n      <th>model</th>\n      <th></th>\n      <th></th>\n      <th></th>\n      <th></th>\n      <th></th>\n      <th></th>\n      <th></th>\n      <th></th>\n      <th></th>\n      <th></th>\n      <th></th>\n      <th></th>\n      <th></th>\n      <th></th>\n      <th></th>\n      <th></th>\n      <th></th>\n    </tr>\n  </thead>\n  <tbody>\n    <tr>\n      <th>popular</th>\n      <td>5.251233</td>\n      <td>0.0</td>\n      <td>0.0</td>\n      <td>0.0</td>\n      <td>0.0</td>\n      <td>0.000001</td>\n      <td>0.000003</td>\n      <td>0.0</td>\n      <td>0.0</td>\n      <td>7.181475e-07</td>\n      <td>0.0</td>\n      <td>0.0</td>\n      <td>4.309706e-07</td>\n      <td>16.810539</td>\n      <td>16.168155</td>\n      <td>15.207510</td>\n      <td>0.000110</td>\n    </tr>\n    <tr>\n      <th>random</th>\n      <td>0.000000</td>\n      <td>0.0</td>\n      <td>0.0</td>\n      <td>0.0</td>\n      <td>0.0</td>\n      <td>0.000002</td>\n      <td>0.000011</td>\n      <td>0.0</td>\n      <td>0.0</td>\n      <td>1.505503e-06</td>\n      <td>0.0</td>\n      <td>0.0</td>\n      <td>1.401207e-06</td>\n      <td>15.861961</td>\n      <td>15.860099</td>\n      <td>15.860982</td>\n      <td>0.049638</td>\n    </tr>\n  </tbody>\n</table>\n</div>"
     },
     "execution_count": 10,
     "metadata": {},
     "output_type": "execute_result"
    }
   ],
   "source": [
    "results"
   ],
   "metadata": {
    "collapsed": false,
    "ExecuteTime": {
     "end_time": "2023-11-23T18:24:26.727745500Z",
     "start_time": "2023-11-23T18:24:26.711746500Z"
    }
   },
   "id": "14c32397-39c4-45ec-89e8-7bb285f3b0e5"
  },
  {
   "cell_type": "markdown",
   "source": [
    "# Visualization"
   ],
   "metadata": {
    "collapsed": false
   },
   "id": "58508752-8c7b-4c4c-a56f-5f25516220cf"
  },
  {
   "cell_type": "code",
   "execution_count": 11,
   "outputs": [],
   "source": [
    "from IPython.core.display import HTML\n",
    "\n",
    "\n",
    "class Visualizer:\n",
    "    def __init__(\n",
    "        self,\n",
    "        model: ModelBase,\n",
    "        dataset: Dataset,\n",
    "        item_data: str | None=None,\n",
    "        items: pd.DataFrame | None = None,\n",
    "        items_df_path: str = \"../datasets/items.csv\",\n",
    "    ):\n",
    "        if item_data is None:\n",
    "            item_data = [\"title\"]\n",
    "\n",
    "        self.model = model\n",
    "        self.dataset = dataset\n",
    "        if items is None:\n",
    "            self.items = pd.read_csv(items_df_path)\n",
    "        else:\n",
    "            self.items = items\n",
    "        for d in item_data:\n",
    "            assert (\n",
    "                d in self.items.columns\n",
    "            ), f'Unknown column \"{d}\". Can only visualize information about {\", \".join(self.items.columns)}.'\n",
    "        self.item_data = item_data\n",
    "\n",
    "    def display_item_data(self, interactions):\n",
    "        return pd.merge(interactions, self.items)[[\"user_id\"] + self.item_data]\n",
    "\n",
    "    @staticmethod\n",
    "    def pretty_print(df):\n",
    "        display(HTML(df.to_html()))\n",
    "\n",
    "    def get_reco(self, user_ids: list[int], k: int = 10):\n",
    "        reco = self.model.recommend(np.array(user_ids), self.dataset, k, True)\n",
    "        return self.display_item_data(reco)\n",
    "\n",
    "    def get_history(self, user_ids: list[int]):\n",
    "        df = self.dataset.interactions.df\n",
    "        history = df[df.user_id.isin(user_ids)]\n",
    "        return self.display_item_data(history)\n",
    "\n",
    "    def analyse_recos(self, user_ids: list[int]):\n",
    "        for user_id in user_ids:\n",
    "            print(f\"User {user_id} watched these film:\")\n",
    "            self.pretty_print(self.get_history([user_id]))\n",
    "            print(f\"And got these films as recomendations\")\n",
    "            self.pretty_print(self.get_reco([user_id]))\n",
    "            print(\"\\n\")"
   ],
   "metadata": {
    "collapsed": false,
    "ExecuteTime": {
     "end_time": "2023-11-23T18:24:26.740746700Z",
     "start_time": "2023-11-23T18:24:26.729745400Z"
    }
   },
   "id": "eaae50b6-bdb2-468a-aa1b-4069516745e9"
  },
  {
   "cell_type": "code",
   "execution_count": 12,
   "id": "e1ad8e2d-9941-4c9f-b657-9a562f9de1bf",
   "metadata": {
    "ExecuteTime": {
     "end_time": "2023-11-23T18:24:27.022833900Z",
     "start_time": "2023-11-23T18:24:26.741745400Z"
    }
   },
   "outputs": [],
   "source": [
    "model = RandomModel(random_state=32)\n",
    "dataset = Dataset.construct(interactions_df)\n",
    "model.fit(dataset)\n",
    "USER_IDS = [1091234, 787802, 948921]"
   ]
  },
  {
   "cell_type": "code",
   "execution_count": 13,
   "id": "88053131-6d71-44c2-b77b-63ceaa77a685",
   "metadata": {
    "ExecuteTime": {
     "end_time": "2023-11-23T18:24:27.740992600Z",
     "start_time": "2023-11-23T18:24:27.020833900Z"
    }
   },
   "outputs": [
    {
     "name": "stdout",
     "output_type": "stream",
     "text": [
      "User 1091234 watched these film:\n"
     ]
    },
    {
     "data": {
      "text/plain": "<IPython.core.display.HTML object>",
      "text/html": "<table border=\"1\" class=\"dataframe\">\n  <thead>\n    <tr style=\"text-align: right;\">\n      <th></th>\n      <th>user_id</th>\n      <th>title</th>\n      <th>genres</th>\n    </tr>\n  </thead>\n  <tbody>\n  </tbody>\n</table>"
     },
     "metadata": {},
     "output_type": "display_data"
    },
    {
     "name": "stdout",
     "output_type": "stream",
     "text": [
      "And got these films as recomendations\n"
     ]
    },
    {
     "data": {
      "text/plain": "<IPython.core.display.HTML object>",
      "text/html": "<table border=\"1\" class=\"dataframe\">\n  <thead>\n    <tr style=\"text-align: right;\">\n      <th></th>\n      <th>user_id</th>\n      <th>title</th>\n      <th>genres</th>\n    </tr>\n  </thead>\n  <tbody>\n    <tr>\n      <th>0</th>\n      <td>1091234</td>\n      <td>Возвращение Будулая</td>\n      <td>мелодрамы</td>\n    </tr>\n    <tr>\n      <th>1</th>\n      <td>1091234</td>\n      <td>Новые приключения Аладдина (жестовым языком)</td>\n      <td>зарубежные, комедии</td>\n    </tr>\n    <tr>\n      <th>2</th>\n      <td>1091234</td>\n      <td>Пропавшая грамота</td>\n      <td>фэнтези, комедии</td>\n    </tr>\n    <tr>\n      <th>3</th>\n      <td>1091234</td>\n      <td>Братья вне игры</td>\n      <td>драмы, спорт</td>\n    </tr>\n    <tr>\n      <th>4</th>\n      <td>1091234</td>\n      <td>Фрилансеры</td>\n      <td>криминал, детективы, драмы, зарубежные, боевики</td>\n    </tr>\n    <tr>\n      <th>5</th>\n      <td>1091234</td>\n      <td>Алые паруса: Новая история</td>\n      <td>комедии, мелодрамы</td>\n    </tr>\n    <tr>\n      <th>6</th>\n      <td>1091234</td>\n      <td>Женщина в беде 3</td>\n      <td>детективы, мелодрамы</td>\n    </tr>\n    <tr>\n      <th>7</th>\n      <td>1091234</td>\n      <td>Гордость и предубеждение</td>\n      <td>драмы, мелодрамы</td>\n    </tr>\n    <tr>\n      <th>8</th>\n      <td>1091234</td>\n      <td>Болванчики</td>\n      <td>мультфильм, приключения, комедии</td>\n    </tr>\n    <tr>\n      <th>9</th>\n      <td>1091234</td>\n      <td>Избави нас от лукавого</td>\n      <td>ужасы, триллеры, детективы</td>\n    </tr>\n  </tbody>\n</table>"
     },
     "metadata": {},
     "output_type": "display_data"
    },
    {
     "name": "stdout",
     "output_type": "stream",
     "text": [
      "\n",
      "\n",
      "User 787802 watched these film:\n"
     ]
    },
    {
     "data": {
      "text/plain": "<IPython.core.display.HTML object>",
      "text/html": "<table border=\"1\" class=\"dataframe\">\n  <thead>\n    <tr style=\"text-align: right;\">\n      <th></th>\n      <th>user_id</th>\n      <th>title</th>\n      <th>genres</th>\n    </tr>\n  </thead>\n  <tbody>\n    <tr>\n      <th>0</th>\n      <td>787802</td>\n      <td>Медвежонок Винни и его друзья</td>\n      <td>мюзиклы, мультфильм, приключения, комедии</td>\n    </tr>\n  </tbody>\n</table>"
     },
     "metadata": {},
     "output_type": "display_data"
    },
    {
     "name": "stdout",
     "output_type": "stream",
     "text": [
      "And got these films as recomendations\n"
     ]
    },
    {
     "data": {
      "text/plain": "<IPython.core.display.HTML object>",
      "text/html": "<table border=\"1\" class=\"dataframe\">\n  <thead>\n    <tr style=\"text-align: right;\">\n      <th></th>\n      <th>user_id</th>\n      <th>title</th>\n      <th>genres</th>\n    </tr>\n  </thead>\n  <tbody>\n    <tr>\n      <th>0</th>\n      <td>787802</td>\n      <td>Возвращение Будулая</td>\n      <td>мелодрамы</td>\n    </tr>\n    <tr>\n      <th>1</th>\n      <td>787802</td>\n      <td>Новые приключения Аладдина (жестовым языком)</td>\n      <td>зарубежные, комедии</td>\n    </tr>\n    <tr>\n      <th>2</th>\n      <td>787802</td>\n      <td>Пропавшая грамота</td>\n      <td>фэнтези, комедии</td>\n    </tr>\n    <tr>\n      <th>3</th>\n      <td>787802</td>\n      <td>Братья вне игры</td>\n      <td>драмы, спорт</td>\n    </tr>\n    <tr>\n      <th>4</th>\n      <td>787802</td>\n      <td>Фрилансеры</td>\n      <td>криминал, детективы, драмы, зарубежные, боевики</td>\n    </tr>\n    <tr>\n      <th>5</th>\n      <td>787802</td>\n      <td>Алые паруса: Новая история</td>\n      <td>комедии, мелодрамы</td>\n    </tr>\n    <tr>\n      <th>6</th>\n      <td>787802</td>\n      <td>Женщина в беде 3</td>\n      <td>детективы, мелодрамы</td>\n    </tr>\n    <tr>\n      <th>7</th>\n      <td>787802</td>\n      <td>Гордость и предубеждение</td>\n      <td>драмы, мелодрамы</td>\n    </tr>\n    <tr>\n      <th>8</th>\n      <td>787802</td>\n      <td>Болванчики</td>\n      <td>мультфильм, приключения, комедии</td>\n    </tr>\n    <tr>\n      <th>9</th>\n      <td>787802</td>\n      <td>Избави нас от лукавого</td>\n      <td>ужасы, триллеры, детективы</td>\n    </tr>\n  </tbody>\n</table>"
     },
     "metadata": {},
     "output_type": "display_data"
    },
    {
     "name": "stdout",
     "output_type": "stream",
     "text": [
      "\n",
      "\n",
      "User 948921 watched these film:\n"
     ]
    },
    {
     "data": {
      "text/plain": "<IPython.core.display.HTML object>",
      "text/html": "<table border=\"1\" class=\"dataframe\">\n  <thead>\n    <tr style=\"text-align: right;\">\n      <th></th>\n      <th>user_id</th>\n      <th>title</th>\n      <th>genres</th>\n    </tr>\n  </thead>\n  <tbody>\n    <tr>\n      <th>0</th>\n      <td>948921</td>\n      <td>Спирит Непокорный</td>\n      <td>семейное, мультфильм, приключения</td>\n    </tr>\n    <tr>\n      <th>1</th>\n      <td>948921</td>\n      <td>Медвежонок Винни и его друзья</td>\n      <td>мюзиклы, мультфильм, приключения, комедии</td>\n    </tr>\n  </tbody>\n</table>"
     },
     "metadata": {},
     "output_type": "display_data"
    },
    {
     "name": "stdout",
     "output_type": "stream",
     "text": [
      "And got these films as recomendations\n"
     ]
    },
    {
     "data": {
      "text/plain": "<IPython.core.display.HTML object>",
      "text/html": "<table border=\"1\" class=\"dataframe\">\n  <thead>\n    <tr style=\"text-align: right;\">\n      <th></th>\n      <th>user_id</th>\n      <th>title</th>\n      <th>genres</th>\n    </tr>\n  </thead>\n  <tbody>\n    <tr>\n      <th>0</th>\n      <td>948921</td>\n      <td>Возвращение Будулая</td>\n      <td>мелодрамы</td>\n    </tr>\n    <tr>\n      <th>1</th>\n      <td>948921</td>\n      <td>Новые приключения Аладдина (жестовым языком)</td>\n      <td>зарубежные, комедии</td>\n    </tr>\n    <tr>\n      <th>2</th>\n      <td>948921</td>\n      <td>Пропавшая грамота</td>\n      <td>фэнтези, комедии</td>\n    </tr>\n    <tr>\n      <th>3</th>\n      <td>948921</td>\n      <td>Братья вне игры</td>\n      <td>драмы, спорт</td>\n    </tr>\n    <tr>\n      <th>4</th>\n      <td>948921</td>\n      <td>Фрилансеры</td>\n      <td>криминал, детективы, драмы, зарубежные, боевики</td>\n    </tr>\n    <tr>\n      <th>5</th>\n      <td>948921</td>\n      <td>Алые паруса: Новая история</td>\n      <td>комедии, мелодрамы</td>\n    </tr>\n    <tr>\n      <th>6</th>\n      <td>948921</td>\n      <td>Женщина в беде 3</td>\n      <td>детективы, мелодрамы</td>\n    </tr>\n    <tr>\n      <th>7</th>\n      <td>948921</td>\n      <td>Гордость и предубеждение</td>\n      <td>драмы, мелодрамы</td>\n    </tr>\n    <tr>\n      <th>8</th>\n      <td>948921</td>\n      <td>Болванчики</td>\n      <td>мультфильм, приключения, комедии</td>\n    </tr>\n    <tr>\n      <th>9</th>\n      <td>948921</td>\n      <td>Избави нас от лукавого</td>\n      <td>ужасы, триллеры, детективы</td>\n    </tr>\n  </tbody>\n</table>"
     },
     "metadata": {},
     "output_type": "display_data"
    },
    {
     "name": "stdout",
     "output_type": "stream",
     "text": [
      "\n",
      "\n"
     ]
    }
   ],
   "source": [
    "viz = Visualizer(model, dataset, item_data=[\"title\", \"genres\"], items=items)\n",
    "viz.analyse_recos(USER_IDS)"
   ]
  }
 ],
 "metadata": {
  "kernelspec": {
   "display_name": "Python 3 (ipykernel)",
   "language": "python",
   "name": "python3"
  },
  "language_info": {
   "codemirror_mode": {
    "name": "ipython",
    "version": 3
   },
   "file_extension": ".py",
   "mimetype": "text/x-python",
   "name": "python",
   "nbconvert_exporter": "python",
   "pygments_lexer": "ipython3",
   "version": "3.10.12"
  }
 },
 "nbformat": 4,
 "nbformat_minor": 5
}
